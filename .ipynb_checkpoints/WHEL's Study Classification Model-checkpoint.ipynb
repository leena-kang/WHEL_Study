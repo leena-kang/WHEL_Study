{
 "cells": [
  {
   "cell_type": "markdown",
   "id": "fd92eb38",
   "metadata": {},
   "source": [
    "## WHEL's Study: Classificaion Model"
   ]
  },
  {
   "cell_type": "code",
   "execution_count": 129,
   "id": "fdd86daa",
   "metadata": {},
   "outputs": [],
   "source": [
    "import numpy as np \n",
    "import pandas as pd\n",
    "import seaborn as sns\n",
    "import matplotlib.pyplot as plt\n",
    "\n",
    "import warnings\n",
    "warnings.filterwarnings('ignore')\n",
    "\n",
    "from sklearn.model_selection import train_test_split\n",
    "from sklearn.preprocessing import StandardScaler\n",
    "from sklearn.linear_model import LogisticRegression\n",
    "from sklearn.metrics import confusion_matrix, accuracy_score\n",
    "from sklearn.neighbors import KNeighborsClassifier\n",
    "from sklearn.svm import SVC\n",
    "from sklearn.naive_bayes import GaussianNB\n",
    "from sklearn.tree import DecisionTreeClassifier\n",
    "from sklearn.ensemble import RandomForestClassifier\n",
    "from sklearn.metrics import classification_report\n",
    "from sklearn.metrics import f1_score\n",
    "from sklearn.metrics import precision_recall_fscore_support"
   ]
  },
  {
   "cell_type": "markdown",
   "id": "6d915312",
   "metadata": {},
   "source": [
    "### Reading Dataset"
   ]
  },
  {
   "cell_type": "code",
   "execution_count": 2,
   "id": "8ea6c983",
   "metadata": {},
   "outputs": [
    {
     "name": "stdout",
     "output_type": "stream",
     "text": [
      "Shape: (655, 68)\n"
     ]
    },
    {
     "data": {
      "text/html": [
       "<div>\n",
       "<style scoped>\n",
       "    .dataframe tbody tr th:only-of-type {\n",
       "        vertical-align: middle;\n",
       "    }\n",
       "\n",
       "    .dataframe tbody tr th {\n",
       "        vertical-align: top;\n",
       "    }\n",
       "\n",
       "    .dataframe thead th {\n",
       "        text-align: right;\n",
       "    }\n",
       "</style>\n",
       "<table border=\"1\" class=\"dataframe\">\n",
       "  <thead>\n",
       "    <tr style=\"text-align: right;\">\n",
       "      <th></th>\n",
       "      <th>ID</th>\n",
       "      <th>QOL_ovt</th>\n",
       "      <th>energy_ovt</th>\n",
       "      <th>genhlth_ovt</th>\n",
       "      <th>optimism_ovt</th>\n",
       "      <th>pain_ovt</th>\n",
       "      <th>socfctn_ovt</th>\n",
       "      <th>lutein_ovt</th>\n",
       "      <th>cryptox_ovt</th>\n",
       "      <th>lycopene_ovt_x</th>\n",
       "      <th>...</th>\n",
       "      <th>water_ovt</th>\n",
       "      <th>anim. protein_ovt</th>\n",
       "      <th>veg prot_ovt</th>\n",
       "      <th>vit k_ovt</th>\n",
       "      <th>trans fat acids_ovt</th>\n",
       "      <th>beta-carot_ovt</th>\n",
       "      <th>alpha-carot_ovt</th>\n",
       "      <th>beta-cryptox_ovt</th>\n",
       "      <th>lut + zeax_ovt</th>\n",
       "      <th>lycopene_ovt_y</th>\n",
       "    </tr>\n",
       "  </thead>\n",
       "  <tbody>\n",
       "    <tr>\n",
       "      <th>0</th>\n",
       "      <td>1245</td>\n",
       "      <td>-32.312500</td>\n",
       "      <td>-20.0</td>\n",
       "      <td>-40.0</td>\n",
       "      <td>-2.0</td>\n",
       "      <td>-12.5</td>\n",
       "      <td>-50.0</td>\n",
       "      <td>-0.1697</td>\n",
       "      <td>-0.0465</td>\n",
       "      <td>0.3556</td>\n",
       "      <td>...</td>\n",
       "      <td>193.992493</td>\n",
       "      <td>-1.905000</td>\n",
       "      <td>8.29750</td>\n",
       "      <td>91.972500</td>\n",
       "      <td>-0.3525</td>\n",
       "      <td>1399.397461</td>\n",
       "      <td>24.567507</td>\n",
       "      <td>54.597500</td>\n",
       "      <td>1790.035065</td>\n",
       "      <td>250.457520</td>\n",
       "    </tr>\n",
       "    <tr>\n",
       "      <th>1</th>\n",
       "      <td>1256</td>\n",
       "      <td>-36.687500</td>\n",
       "      <td>-5.0</td>\n",
       "      <td>10.0</td>\n",
       "      <td>-3.0</td>\n",
       "      <td>-50.0</td>\n",
       "      <td>-37.5</td>\n",
       "      <td>0.0980</td>\n",
       "      <td>-0.0966</td>\n",
       "      <td>0.0129</td>\n",
       "      <td>...</td>\n",
       "      <td>722.049988</td>\n",
       "      <td>-5.290000</td>\n",
       "      <td>-6.13250</td>\n",
       "      <td>7.219999</td>\n",
       "      <td>-0.4350</td>\n",
       "      <td>-311.827454</td>\n",
       "      <td>248.392479</td>\n",
       "      <td>15.737500</td>\n",
       "      <td>-347.647522</td>\n",
       "      <td>-1278.749996</td>\n",
       "    </tr>\n",
       "    <tr>\n",
       "      <th>2</th>\n",
       "      <td>1265</td>\n",
       "      <td>-6.312500</td>\n",
       "      <td>-5.0</td>\n",
       "      <td>-10.0</td>\n",
       "      <td>2.0</td>\n",
       "      <td>-12.5</td>\n",
       "      <td>0.0</td>\n",
       "      <td>0.0349</td>\n",
       "      <td>-0.1795</td>\n",
       "      <td>-0.4249</td>\n",
       "      <td>...</td>\n",
       "      <td>499.857483</td>\n",
       "      <td>-38.457500</td>\n",
       "      <td>1.31500</td>\n",
       "      <td>34.244999</td>\n",
       "      <td>-1.4150</td>\n",
       "      <td>18381.732422</td>\n",
       "      <td>8353.942706</td>\n",
       "      <td>61.490000</td>\n",
       "      <td>2007.082550</td>\n",
       "      <td>26804.000000</td>\n",
       "    </tr>\n",
       "    <tr>\n",
       "      <th>3</th>\n",
       "      <td>1266</td>\n",
       "      <td>0.437500</td>\n",
       "      <td>-10.0</td>\n",
       "      <td>0.0</td>\n",
       "      <td>2.0</td>\n",
       "      <td>25.0</td>\n",
       "      <td>-12.5</td>\n",
       "      <td>-0.1125</td>\n",
       "      <td>-0.1744</td>\n",
       "      <td>-0.4923</td>\n",
       "      <td>...</td>\n",
       "      <td>299.345032</td>\n",
       "      <td>35.095001</td>\n",
       "      <td>-5.08750</td>\n",
       "      <td>26.660002</td>\n",
       "      <td>1.3200</td>\n",
       "      <td>-5628.977448</td>\n",
       "      <td>-1542.992467</td>\n",
       "      <td>312.769993</td>\n",
       "      <td>2945.134918</td>\n",
       "      <td>4928.824951</td>\n",
       "    </tr>\n",
       "    <tr>\n",
       "      <th>4</th>\n",
       "      <td>1276</td>\n",
       "      <td>30.646484</td>\n",
       "      <td>30.0</td>\n",
       "      <td>5.0</td>\n",
       "      <td>-1.0</td>\n",
       "      <td>25.0</td>\n",
       "      <td>37.5</td>\n",
       "      <td>0.0766</td>\n",
       "      <td>0.0213</td>\n",
       "      <td>-0.0547</td>\n",
       "      <td>...</td>\n",
       "      <td>51.471191</td>\n",
       "      <td>4.437499</td>\n",
       "      <td>-1.35375</td>\n",
       "      <td>-67.597503</td>\n",
       "      <td>0.7600</td>\n",
       "      <td>49091.856445</td>\n",
       "      <td>28144.247949</td>\n",
       "      <td>284.864999</td>\n",
       "      <td>92.692444</td>\n",
       "      <td>-1542.129974</td>\n",
       "    </tr>\n",
       "  </tbody>\n",
       "</table>\n",
       "<p>5 rows × 68 columns</p>\n",
       "</div>"
      ],
      "text/plain": [
       "     ID    QOL_ovt  energy_ovt  genhlth_ovt  optimism_ovt  pain_ovt  \\\n",
       "0  1245 -32.312500       -20.0        -40.0          -2.0     -12.5   \n",
       "1  1256 -36.687500        -5.0         10.0          -3.0     -50.0   \n",
       "2  1265  -6.312500        -5.0        -10.0           2.0     -12.5   \n",
       "3  1266   0.437500       -10.0          0.0           2.0      25.0   \n",
       "4  1276  30.646484        30.0          5.0          -1.0      25.0   \n",
       "\n",
       "   socfctn_ovt  lutein_ovt  cryptox_ovt  lycopene_ovt_x  ...   water_ovt  \\\n",
       "0        -50.0     -0.1697      -0.0465          0.3556  ...  193.992493   \n",
       "1        -37.5      0.0980      -0.0966          0.0129  ...  722.049988   \n",
       "2          0.0      0.0349      -0.1795         -0.4249  ...  499.857483   \n",
       "3        -12.5     -0.1125      -0.1744         -0.4923  ...  299.345032   \n",
       "4         37.5      0.0766       0.0213         -0.0547  ...   51.471191   \n",
       "\n",
       "   anim. protein_ovt  veg prot_ovt  vit k_ovt  trans fat acids_ovt  \\\n",
       "0          -1.905000       8.29750  91.972500              -0.3525   \n",
       "1          -5.290000      -6.13250   7.219999              -0.4350   \n",
       "2         -38.457500       1.31500  34.244999              -1.4150   \n",
       "3          35.095001      -5.08750  26.660002               1.3200   \n",
       "4           4.437499      -1.35375 -67.597503               0.7600   \n",
       "\n",
       "   beta-carot_ovt  alpha-carot_ovt  beta-cryptox_ovt  lut + zeax_ovt  \\\n",
       "0     1399.397461        24.567507         54.597500     1790.035065   \n",
       "1     -311.827454       248.392479         15.737500     -347.647522   \n",
       "2    18381.732422      8353.942706         61.490000     2007.082550   \n",
       "3    -5628.977448     -1542.992467        312.769993     2945.134918   \n",
       "4    49091.856445     28144.247949        284.864999       92.692444   \n",
       "\n",
       "   lycopene_ovt_y  \n",
       "0      250.457520  \n",
       "1    -1278.749996  \n",
       "2    26804.000000  \n",
       "3     4928.824951  \n",
       "4    -1542.129974  \n",
       "\n",
       "[5 rows x 68 columns]"
      ]
     },
     "execution_count": 2,
     "metadata": {},
     "output_type": "execute_result"
    }
   ],
   "source": [
    "ovt = pd.read_csv('ovrt.csv')\n",
    "ovt = ovt.drop(columns=['Unnamed: 0'])\n",
    "print(\"Shape: \" + str(ovt.shape))\n",
    "ovt.head()"
   ]
  },
  {
   "cell_type": "code",
   "execution_count": 3,
   "id": "b2834ce6",
   "metadata": {},
   "outputs": [
    {
     "data": {
      "text/plain": [
       "False"
      ]
     },
     "execution_count": 3,
     "metadata": {},
     "output_type": "execute_result"
    }
   ],
   "source": [
    "ovt.isnull().sum().any()"
   ]
  },
  {
   "cell_type": "code",
   "execution_count": 4,
   "id": "7d4d6b9f",
   "metadata": {},
   "outputs": [
    {
     "data": {
      "text/html": [
       "<div>\n",
       "<style scoped>\n",
       "    .dataframe tbody tr th:only-of-type {\n",
       "        vertical-align: middle;\n",
       "    }\n",
       "\n",
       "    .dataframe tbody tr th {\n",
       "        vertical-align: top;\n",
       "    }\n",
       "\n",
       "    .dataframe thead th {\n",
       "        text-align: right;\n",
       "    }\n",
       "</style>\n",
       "<table border=\"1\" class=\"dataframe\">\n",
       "  <thead>\n",
       "    <tr style=\"text-align: right;\">\n",
       "      <th></th>\n",
       "      <th>ID</th>\n",
       "      <th>QOL_ovt</th>\n",
       "      <th>energy_ovt</th>\n",
       "      <th>genhlth_ovt</th>\n",
       "      <th>optimism_ovt</th>\n",
       "      <th>pain_ovt</th>\n",
       "      <th>socfctn_ovt</th>\n",
       "      <th>lutein_ovt</th>\n",
       "      <th>cryptox_ovt</th>\n",
       "      <th>lycopene_ovt_x</th>\n",
       "      <th>...</th>\n",
       "      <th>anim. protein_ovt</th>\n",
       "      <th>veg prot_ovt</th>\n",
       "      <th>vit k_ovt</th>\n",
       "      <th>trans fat acids_ovt</th>\n",
       "      <th>beta-carot_ovt</th>\n",
       "      <th>alpha-carot_ovt</th>\n",
       "      <th>beta-cryptox_ovt</th>\n",
       "      <th>lut + zeax_ovt</th>\n",
       "      <th>lycopene_ovt_y</th>\n",
       "      <th>recurrence_y</th>\n",
       "    </tr>\n",
       "  </thead>\n",
       "  <tbody>\n",
       "    <tr>\n",
       "      <th>0</th>\n",
       "      <td>1245</td>\n",
       "      <td>-32.312500</td>\n",
       "      <td>-20.0</td>\n",
       "      <td>-40.0</td>\n",
       "      <td>-2.0</td>\n",
       "      <td>-12.5</td>\n",
       "      <td>-50.0</td>\n",
       "      <td>-0.1697</td>\n",
       "      <td>-0.0465</td>\n",
       "      <td>0.3556</td>\n",
       "      <td>...</td>\n",
       "      <td>-1.905000</td>\n",
       "      <td>8.29750</td>\n",
       "      <td>91.972500</td>\n",
       "      <td>-0.3525</td>\n",
       "      <td>1399.397461</td>\n",
       "      <td>24.567507</td>\n",
       "      <td>54.597500</td>\n",
       "      <td>1790.035065</td>\n",
       "      <td>250.457520</td>\n",
       "      <td>0</td>\n",
       "    </tr>\n",
       "    <tr>\n",
       "      <th>1</th>\n",
       "      <td>1256</td>\n",
       "      <td>-36.687500</td>\n",
       "      <td>-5.0</td>\n",
       "      <td>10.0</td>\n",
       "      <td>-3.0</td>\n",
       "      <td>-50.0</td>\n",
       "      <td>-37.5</td>\n",
       "      <td>0.0980</td>\n",
       "      <td>-0.0966</td>\n",
       "      <td>0.0129</td>\n",
       "      <td>...</td>\n",
       "      <td>-5.290000</td>\n",
       "      <td>-6.13250</td>\n",
       "      <td>7.219999</td>\n",
       "      <td>-0.4350</td>\n",
       "      <td>-311.827454</td>\n",
       "      <td>248.392479</td>\n",
       "      <td>15.737500</td>\n",
       "      <td>-347.647522</td>\n",
       "      <td>-1278.749996</td>\n",
       "      <td>0</td>\n",
       "    </tr>\n",
       "    <tr>\n",
       "      <th>2</th>\n",
       "      <td>1265</td>\n",
       "      <td>-6.312500</td>\n",
       "      <td>-5.0</td>\n",
       "      <td>-10.0</td>\n",
       "      <td>2.0</td>\n",
       "      <td>-12.5</td>\n",
       "      <td>0.0</td>\n",
       "      <td>0.0349</td>\n",
       "      <td>-0.1795</td>\n",
       "      <td>-0.4249</td>\n",
       "      <td>...</td>\n",
       "      <td>-38.457500</td>\n",
       "      <td>1.31500</td>\n",
       "      <td>34.244999</td>\n",
       "      <td>-1.4150</td>\n",
       "      <td>18381.732422</td>\n",
       "      <td>8353.942706</td>\n",
       "      <td>61.490000</td>\n",
       "      <td>2007.082550</td>\n",
       "      <td>26804.000000</td>\n",
       "      <td>0</td>\n",
       "    </tr>\n",
       "    <tr>\n",
       "      <th>3</th>\n",
       "      <td>1266</td>\n",
       "      <td>0.437500</td>\n",
       "      <td>-10.0</td>\n",
       "      <td>0.0</td>\n",
       "      <td>2.0</td>\n",
       "      <td>25.0</td>\n",
       "      <td>-12.5</td>\n",
       "      <td>-0.1125</td>\n",
       "      <td>-0.1744</td>\n",
       "      <td>-0.4923</td>\n",
       "      <td>...</td>\n",
       "      <td>35.095001</td>\n",
       "      <td>-5.08750</td>\n",
       "      <td>26.660002</td>\n",
       "      <td>1.3200</td>\n",
       "      <td>-5628.977448</td>\n",
       "      <td>-1542.992467</td>\n",
       "      <td>312.769993</td>\n",
       "      <td>2945.134918</td>\n",
       "      <td>4928.824951</td>\n",
       "      <td>0</td>\n",
       "    </tr>\n",
       "    <tr>\n",
       "      <th>4</th>\n",
       "      <td>1276</td>\n",
       "      <td>30.646484</td>\n",
       "      <td>30.0</td>\n",
       "      <td>5.0</td>\n",
       "      <td>-1.0</td>\n",
       "      <td>25.0</td>\n",
       "      <td>37.5</td>\n",
       "      <td>0.0766</td>\n",
       "      <td>0.0213</td>\n",
       "      <td>-0.0547</td>\n",
       "      <td>...</td>\n",
       "      <td>4.437499</td>\n",
       "      <td>-1.35375</td>\n",
       "      <td>-67.597503</td>\n",
       "      <td>0.7600</td>\n",
       "      <td>49091.856445</td>\n",
       "      <td>28144.247949</td>\n",
       "      <td>284.864999</td>\n",
       "      <td>92.692444</td>\n",
       "      <td>-1542.129974</td>\n",
       "      <td>0</td>\n",
       "    </tr>\n",
       "  </tbody>\n",
       "</table>\n",
       "<p>5 rows × 68 columns</p>\n",
       "</div>"
      ],
      "text/plain": [
       "     ID    QOL_ovt  energy_ovt  genhlth_ovt  optimism_ovt  pain_ovt  \\\n",
       "0  1245 -32.312500       -20.0        -40.0          -2.0     -12.5   \n",
       "1  1256 -36.687500        -5.0         10.0          -3.0     -50.0   \n",
       "2  1265  -6.312500        -5.0        -10.0           2.0     -12.5   \n",
       "3  1266   0.437500       -10.0          0.0           2.0      25.0   \n",
       "4  1276  30.646484        30.0          5.0          -1.0      25.0   \n",
       "\n",
       "   socfctn_ovt  lutein_ovt  cryptox_ovt  lycopene_ovt_x  ...  \\\n",
       "0        -50.0     -0.1697      -0.0465          0.3556  ...   \n",
       "1        -37.5      0.0980      -0.0966          0.0129  ...   \n",
       "2          0.0      0.0349      -0.1795         -0.4249  ...   \n",
       "3        -12.5     -0.1125      -0.1744         -0.4923  ...   \n",
       "4         37.5      0.0766       0.0213         -0.0547  ...   \n",
       "\n",
       "   anim. protein_ovt  veg prot_ovt  vit k_ovt  trans fat acids_ovt  \\\n",
       "0          -1.905000       8.29750  91.972500              -0.3525   \n",
       "1          -5.290000      -6.13250   7.219999              -0.4350   \n",
       "2         -38.457500       1.31500  34.244999              -1.4150   \n",
       "3          35.095001      -5.08750  26.660002               1.3200   \n",
       "4           4.437499      -1.35375 -67.597503               0.7600   \n",
       "\n",
       "   beta-carot_ovt  alpha-carot_ovt  beta-cryptox_ovt  lut + zeax_ovt  \\\n",
       "0     1399.397461        24.567507         54.597500     1790.035065   \n",
       "1     -311.827454       248.392479         15.737500     -347.647522   \n",
       "2    18381.732422      8353.942706         61.490000     2007.082550   \n",
       "3    -5628.977448     -1542.992467        312.769993     2945.134918   \n",
       "4    49091.856445     28144.247949        284.864999       92.692444   \n",
       "\n",
       "   lycopene_ovt_y  recurrence_y  \n",
       "0      250.457520             0  \n",
       "1    -1278.749996             0  \n",
       "2    26804.000000             0  \n",
       "3     4928.824951             0  \n",
       "4    -1542.129974             0  \n",
       "\n",
       "[5 rows x 68 columns]"
      ]
     },
     "execution_count": 4,
     "metadata": {},
     "output_type": "execute_result"
    }
   ],
   "source": [
    "ovt = ovt.assign(recurrence_y=ovt.get('recurrence'))\n",
    "ovt = ovt.drop(columns='recurrence')\n",
    "ovt.head()"
   ]
  },
  {
   "cell_type": "code",
   "execution_count": 5,
   "id": "a0d9bcad",
   "metadata": {},
   "outputs": [
    {
     "data": {
      "text/plain": [
       "0    629\n",
       "1     26\n",
       "Name: recurrence_y, dtype: int64"
      ]
     },
     "execution_count": 5,
     "metadata": {},
     "output_type": "execute_result"
    }
   ],
   "source": [
    "ovt['recurrence_y'].value_counts()"
   ]
  },
  {
   "cell_type": "markdown",
   "id": "64e0ff39",
   "metadata": {},
   "source": [
    "### Data Preprocessing"
   ]
  },
  {
   "cell_type": "code",
   "execution_count": 6,
   "id": "23ae87f0",
   "metadata": {},
   "outputs": [],
   "source": [
    "# train and test datasets\n",
    "x = ovt.iloc[:,:-1].values\n",
    "y = ovt.iloc[:,-1].values\n",
    "\n",
    "x_train, x_test, y_train, y_test = train_test_split(x,y,test_size = 0.25, random_state = 0)"
   ]
  },
  {
   "cell_type": "code",
   "execution_count": 7,
   "id": "89cc7eb0",
   "metadata": {},
   "outputs": [],
   "source": [
    "# standard scaling\n",
    "sc = StandardScaler()\n",
    "\n",
    "x_train = sc.fit_transform(x_train)\n",
    "x_test = sc.transform(x_test)"
   ]
  },
  {
   "cell_type": "markdown",
   "id": "ac9d2344",
   "metadata": {},
   "source": [
    "### Logistic Regression"
   ]
  },
  {
   "cell_type": "code",
   "execution_count": 8,
   "id": "988c06c7",
   "metadata": {},
   "outputs": [
    {
     "data": {
      "text/html": [
       "<style>#sk-container-id-1 {color: black;background-color: white;}#sk-container-id-1 pre{padding: 0;}#sk-container-id-1 div.sk-toggleable {background-color: white;}#sk-container-id-1 label.sk-toggleable__label {cursor: pointer;display: block;width: 100%;margin-bottom: 0;padding: 0.3em;box-sizing: border-box;text-align: center;}#sk-container-id-1 label.sk-toggleable__label-arrow:before {content: \"▸\";float: left;margin-right: 0.25em;color: #696969;}#sk-container-id-1 label.sk-toggleable__label-arrow:hover:before {color: black;}#sk-container-id-1 div.sk-estimator:hover label.sk-toggleable__label-arrow:before {color: black;}#sk-container-id-1 div.sk-toggleable__content {max-height: 0;max-width: 0;overflow: hidden;text-align: left;background-color: #f0f8ff;}#sk-container-id-1 div.sk-toggleable__content pre {margin: 0.2em;color: black;border-radius: 0.25em;background-color: #f0f8ff;}#sk-container-id-1 input.sk-toggleable__control:checked~div.sk-toggleable__content {max-height: 200px;max-width: 100%;overflow: auto;}#sk-container-id-1 input.sk-toggleable__control:checked~label.sk-toggleable__label-arrow:before {content: \"▾\";}#sk-container-id-1 div.sk-estimator input.sk-toggleable__control:checked~label.sk-toggleable__label {background-color: #d4ebff;}#sk-container-id-1 div.sk-label input.sk-toggleable__control:checked~label.sk-toggleable__label {background-color: #d4ebff;}#sk-container-id-1 input.sk-hidden--visually {border: 0;clip: rect(1px 1px 1px 1px);clip: rect(1px, 1px, 1px, 1px);height: 1px;margin: -1px;overflow: hidden;padding: 0;position: absolute;width: 1px;}#sk-container-id-1 div.sk-estimator {font-family: monospace;background-color: #f0f8ff;border: 1px dotted black;border-radius: 0.25em;box-sizing: border-box;margin-bottom: 0.5em;}#sk-container-id-1 div.sk-estimator:hover {background-color: #d4ebff;}#sk-container-id-1 div.sk-parallel-item::after {content: \"\";width: 100%;border-bottom: 1px solid gray;flex-grow: 1;}#sk-container-id-1 div.sk-label:hover label.sk-toggleable__label {background-color: #d4ebff;}#sk-container-id-1 div.sk-serial::before {content: \"\";position: absolute;border-left: 1px solid gray;box-sizing: border-box;top: 0;bottom: 0;left: 50%;z-index: 0;}#sk-container-id-1 div.sk-serial {display: flex;flex-direction: column;align-items: center;background-color: white;padding-right: 0.2em;padding-left: 0.2em;position: relative;}#sk-container-id-1 div.sk-item {position: relative;z-index: 1;}#sk-container-id-1 div.sk-parallel {display: flex;align-items: stretch;justify-content: center;background-color: white;position: relative;}#sk-container-id-1 div.sk-item::before, #sk-container-id-1 div.sk-parallel-item::before {content: \"\";position: absolute;border-left: 1px solid gray;box-sizing: border-box;top: 0;bottom: 0;left: 50%;z-index: -1;}#sk-container-id-1 div.sk-parallel-item {display: flex;flex-direction: column;z-index: 1;position: relative;background-color: white;}#sk-container-id-1 div.sk-parallel-item:first-child::after {align-self: flex-end;width: 50%;}#sk-container-id-1 div.sk-parallel-item:last-child::after {align-self: flex-start;width: 50%;}#sk-container-id-1 div.sk-parallel-item:only-child::after {width: 0;}#sk-container-id-1 div.sk-dashed-wrapped {border: 1px dashed gray;margin: 0 0.4em 0.5em 0.4em;box-sizing: border-box;padding-bottom: 0.4em;background-color: white;}#sk-container-id-1 div.sk-label label {font-family: monospace;font-weight: bold;display: inline-block;line-height: 1.2em;}#sk-container-id-1 div.sk-label-container {text-align: center;}#sk-container-id-1 div.sk-container {/* jupyter's `normalize.less` sets `[hidden] { display: none; }` but bootstrap.min.css set `[hidden] { display: none !important; }` so we also need the `!important` here to be able to override the default hidden behavior on the sphinx rendered scikit-learn.org. See: https://github.com/scikit-learn/scikit-learn/issues/21755 */display: inline-block !important;position: relative;}#sk-container-id-1 div.sk-text-repr-fallback {display: none;}</style><div id=\"sk-container-id-1\" class=\"sk-top-container\"><div class=\"sk-text-repr-fallback\"><pre>LogisticRegression(random_state=0)</pre><b>In a Jupyter environment, please rerun this cell to show the HTML representation or trust the notebook. <br />On GitHub, the HTML representation is unable to render, please try loading this page with nbviewer.org.</b></div><div class=\"sk-container\" hidden><div class=\"sk-item\"><div class=\"sk-estimator sk-toggleable\"><input class=\"sk-toggleable__control sk-hidden--visually\" id=\"sk-estimator-id-1\" type=\"checkbox\" checked><label for=\"sk-estimator-id-1\" class=\"sk-toggleable__label sk-toggleable__label-arrow\">LogisticRegression</label><div class=\"sk-toggleable__content\"><pre>LogisticRegression(random_state=0)</pre></div></div></div></div></div>"
      ],
      "text/plain": [
       "LogisticRegression(random_state=0)"
      ]
     },
     "execution_count": 8,
     "metadata": {},
     "output_type": "execute_result"
    }
   ],
   "source": [
    "lr = LogisticRegression(random_state = 0)\n",
    "lr.fit(x_train, y_train)"
   ]
  },
  {
   "cell_type": "code",
   "execution_count": 9,
   "id": "385ed54e",
   "metadata": {},
   "outputs": [
    {
     "name": "stdout",
     "output_type": "stream",
     "text": [
      "[[158   1]\n",
      " [  5   0]]\n",
      "\n",
      " accuracy score: 0.9634146341463414\n",
      "\n",
      "              precision    recall  f1-score   support\n",
      "\n",
      "           0       0.97      0.99      0.98       159\n",
      "           1       0.00      0.00      0.00         5\n",
      "\n",
      "    accuracy                           0.96       164\n",
      "   macro avg       0.48      0.50      0.49       164\n",
      "weighted avg       0.94      0.96      0.95       164\n",
      "\n"
     ]
    }
   ],
   "source": [
    "y_pred_lr = lr.predict(x_test)\n",
    "matrix_lr = confusion_matrix(y_test, y_pred_lr)\n",
    "print(matrix_lr)\n",
    "\n",
    "acc_lr = accuracy_score(y_test, y_pred_lr)\n",
    "print('\\n accuracy score: ' + str(acc_lr) + '\\n')\n",
    "\n",
    "report_dict_lr = classification_report(y_test, y_pred_lr, output_dict = True)\n",
    "print(classification_report(y_test, y_pred_lr))"
   ]
  },
  {
   "cell_type": "markdown",
   "id": "e8a4efc9",
   "metadata": {},
   "source": [
    "### K-Nearest Neighbours (K-NN)"
   ]
  },
  {
   "cell_type": "code",
   "execution_count": 10,
   "id": "e4fef42e",
   "metadata": {},
   "outputs": [
    {
     "data": {
      "text/html": [
       "<style>#sk-container-id-2 {color: black;background-color: white;}#sk-container-id-2 pre{padding: 0;}#sk-container-id-2 div.sk-toggleable {background-color: white;}#sk-container-id-2 label.sk-toggleable__label {cursor: pointer;display: block;width: 100%;margin-bottom: 0;padding: 0.3em;box-sizing: border-box;text-align: center;}#sk-container-id-2 label.sk-toggleable__label-arrow:before {content: \"▸\";float: left;margin-right: 0.25em;color: #696969;}#sk-container-id-2 label.sk-toggleable__label-arrow:hover:before {color: black;}#sk-container-id-2 div.sk-estimator:hover label.sk-toggleable__label-arrow:before {color: black;}#sk-container-id-2 div.sk-toggleable__content {max-height: 0;max-width: 0;overflow: hidden;text-align: left;background-color: #f0f8ff;}#sk-container-id-2 div.sk-toggleable__content pre {margin: 0.2em;color: black;border-radius: 0.25em;background-color: #f0f8ff;}#sk-container-id-2 input.sk-toggleable__control:checked~div.sk-toggleable__content {max-height: 200px;max-width: 100%;overflow: auto;}#sk-container-id-2 input.sk-toggleable__control:checked~label.sk-toggleable__label-arrow:before {content: \"▾\";}#sk-container-id-2 div.sk-estimator input.sk-toggleable__control:checked~label.sk-toggleable__label {background-color: #d4ebff;}#sk-container-id-2 div.sk-label input.sk-toggleable__control:checked~label.sk-toggleable__label {background-color: #d4ebff;}#sk-container-id-2 input.sk-hidden--visually {border: 0;clip: rect(1px 1px 1px 1px);clip: rect(1px, 1px, 1px, 1px);height: 1px;margin: -1px;overflow: hidden;padding: 0;position: absolute;width: 1px;}#sk-container-id-2 div.sk-estimator {font-family: monospace;background-color: #f0f8ff;border: 1px dotted black;border-radius: 0.25em;box-sizing: border-box;margin-bottom: 0.5em;}#sk-container-id-2 div.sk-estimator:hover {background-color: #d4ebff;}#sk-container-id-2 div.sk-parallel-item::after {content: \"\";width: 100%;border-bottom: 1px solid gray;flex-grow: 1;}#sk-container-id-2 div.sk-label:hover label.sk-toggleable__label {background-color: #d4ebff;}#sk-container-id-2 div.sk-serial::before {content: \"\";position: absolute;border-left: 1px solid gray;box-sizing: border-box;top: 0;bottom: 0;left: 50%;z-index: 0;}#sk-container-id-2 div.sk-serial {display: flex;flex-direction: column;align-items: center;background-color: white;padding-right: 0.2em;padding-left: 0.2em;position: relative;}#sk-container-id-2 div.sk-item {position: relative;z-index: 1;}#sk-container-id-2 div.sk-parallel {display: flex;align-items: stretch;justify-content: center;background-color: white;position: relative;}#sk-container-id-2 div.sk-item::before, #sk-container-id-2 div.sk-parallel-item::before {content: \"\";position: absolute;border-left: 1px solid gray;box-sizing: border-box;top: 0;bottom: 0;left: 50%;z-index: -1;}#sk-container-id-2 div.sk-parallel-item {display: flex;flex-direction: column;z-index: 1;position: relative;background-color: white;}#sk-container-id-2 div.sk-parallel-item:first-child::after {align-self: flex-end;width: 50%;}#sk-container-id-2 div.sk-parallel-item:last-child::after {align-self: flex-start;width: 50%;}#sk-container-id-2 div.sk-parallel-item:only-child::after {width: 0;}#sk-container-id-2 div.sk-dashed-wrapped {border: 1px dashed gray;margin: 0 0.4em 0.5em 0.4em;box-sizing: border-box;padding-bottom: 0.4em;background-color: white;}#sk-container-id-2 div.sk-label label {font-family: monospace;font-weight: bold;display: inline-block;line-height: 1.2em;}#sk-container-id-2 div.sk-label-container {text-align: center;}#sk-container-id-2 div.sk-container {/* jupyter's `normalize.less` sets `[hidden] { display: none; }` but bootstrap.min.css set `[hidden] { display: none !important; }` so we also need the `!important` here to be able to override the default hidden behavior on the sphinx rendered scikit-learn.org. See: https://github.com/scikit-learn/scikit-learn/issues/21755 */display: inline-block !important;position: relative;}#sk-container-id-2 div.sk-text-repr-fallback {display: none;}</style><div id=\"sk-container-id-2\" class=\"sk-top-container\"><div class=\"sk-text-repr-fallback\"><pre>KNeighborsClassifier()</pre><b>In a Jupyter environment, please rerun this cell to show the HTML representation or trust the notebook. <br />On GitHub, the HTML representation is unable to render, please try loading this page with nbviewer.org.</b></div><div class=\"sk-container\" hidden><div class=\"sk-item\"><div class=\"sk-estimator sk-toggleable\"><input class=\"sk-toggleable__control sk-hidden--visually\" id=\"sk-estimator-id-2\" type=\"checkbox\" checked><label for=\"sk-estimator-id-2\" class=\"sk-toggleable__label sk-toggleable__label-arrow\">KNeighborsClassifier</label><div class=\"sk-toggleable__content\"><pre>KNeighborsClassifier()</pre></div></div></div></div></div>"
      ],
      "text/plain": [
       "KNeighborsClassifier()"
      ]
     },
     "execution_count": 10,
     "metadata": {},
     "output_type": "execute_result"
    }
   ],
   "source": [
    "knn = KNeighborsClassifier(n_neighbors = 5, metric = 'minkowski', p = 2)\n",
    "knn.fit(x_train, y_train)"
   ]
  },
  {
   "cell_type": "code",
   "execution_count": 11,
   "id": "843011ac",
   "metadata": {},
   "outputs": [
    {
     "name": "stdout",
     "output_type": "stream",
     "text": [
      "[[159   0]\n",
      " [  5   0]]\n",
      "\n",
      " accuracy score: 0.9695121951219512\n"
     ]
    }
   ],
   "source": [
    "y_pred_knn = knn.predict(x_test)\n",
    "\n",
    "matrix_knn = confusion_matrix(y_test, y_pred_knn)\n",
    "print(matrix_knn)\n",
    "\n",
    "acc_knn = accuracy_score(y_test, y_pred_knn)\n",
    "print('\\n accuracy score: ' + str(acc_knn))"
   ]
  },
  {
   "cell_type": "markdown",
   "id": "967093e2",
   "metadata": {},
   "source": [
    "### SVC (Support Vector Classifier) w/ Linear Kernel"
   ]
  },
  {
   "cell_type": "code",
   "execution_count": 12,
   "id": "bf4243a4",
   "metadata": {},
   "outputs": [
    {
     "data": {
      "text/html": [
       "<style>#sk-container-id-3 {color: black;background-color: white;}#sk-container-id-3 pre{padding: 0;}#sk-container-id-3 div.sk-toggleable {background-color: white;}#sk-container-id-3 label.sk-toggleable__label {cursor: pointer;display: block;width: 100%;margin-bottom: 0;padding: 0.3em;box-sizing: border-box;text-align: center;}#sk-container-id-3 label.sk-toggleable__label-arrow:before {content: \"▸\";float: left;margin-right: 0.25em;color: #696969;}#sk-container-id-3 label.sk-toggleable__label-arrow:hover:before {color: black;}#sk-container-id-3 div.sk-estimator:hover label.sk-toggleable__label-arrow:before {color: black;}#sk-container-id-3 div.sk-toggleable__content {max-height: 0;max-width: 0;overflow: hidden;text-align: left;background-color: #f0f8ff;}#sk-container-id-3 div.sk-toggleable__content pre {margin: 0.2em;color: black;border-radius: 0.25em;background-color: #f0f8ff;}#sk-container-id-3 input.sk-toggleable__control:checked~div.sk-toggleable__content {max-height: 200px;max-width: 100%;overflow: auto;}#sk-container-id-3 input.sk-toggleable__control:checked~label.sk-toggleable__label-arrow:before {content: \"▾\";}#sk-container-id-3 div.sk-estimator input.sk-toggleable__control:checked~label.sk-toggleable__label {background-color: #d4ebff;}#sk-container-id-3 div.sk-label input.sk-toggleable__control:checked~label.sk-toggleable__label {background-color: #d4ebff;}#sk-container-id-3 input.sk-hidden--visually {border: 0;clip: rect(1px 1px 1px 1px);clip: rect(1px, 1px, 1px, 1px);height: 1px;margin: -1px;overflow: hidden;padding: 0;position: absolute;width: 1px;}#sk-container-id-3 div.sk-estimator {font-family: monospace;background-color: #f0f8ff;border: 1px dotted black;border-radius: 0.25em;box-sizing: border-box;margin-bottom: 0.5em;}#sk-container-id-3 div.sk-estimator:hover {background-color: #d4ebff;}#sk-container-id-3 div.sk-parallel-item::after {content: \"\";width: 100%;border-bottom: 1px solid gray;flex-grow: 1;}#sk-container-id-3 div.sk-label:hover label.sk-toggleable__label {background-color: #d4ebff;}#sk-container-id-3 div.sk-serial::before {content: \"\";position: absolute;border-left: 1px solid gray;box-sizing: border-box;top: 0;bottom: 0;left: 50%;z-index: 0;}#sk-container-id-3 div.sk-serial {display: flex;flex-direction: column;align-items: center;background-color: white;padding-right: 0.2em;padding-left: 0.2em;position: relative;}#sk-container-id-3 div.sk-item {position: relative;z-index: 1;}#sk-container-id-3 div.sk-parallel {display: flex;align-items: stretch;justify-content: center;background-color: white;position: relative;}#sk-container-id-3 div.sk-item::before, #sk-container-id-3 div.sk-parallel-item::before {content: \"\";position: absolute;border-left: 1px solid gray;box-sizing: border-box;top: 0;bottom: 0;left: 50%;z-index: -1;}#sk-container-id-3 div.sk-parallel-item {display: flex;flex-direction: column;z-index: 1;position: relative;background-color: white;}#sk-container-id-3 div.sk-parallel-item:first-child::after {align-self: flex-end;width: 50%;}#sk-container-id-3 div.sk-parallel-item:last-child::after {align-self: flex-start;width: 50%;}#sk-container-id-3 div.sk-parallel-item:only-child::after {width: 0;}#sk-container-id-3 div.sk-dashed-wrapped {border: 1px dashed gray;margin: 0 0.4em 0.5em 0.4em;box-sizing: border-box;padding-bottom: 0.4em;background-color: white;}#sk-container-id-3 div.sk-label label {font-family: monospace;font-weight: bold;display: inline-block;line-height: 1.2em;}#sk-container-id-3 div.sk-label-container {text-align: center;}#sk-container-id-3 div.sk-container {/* jupyter's `normalize.less` sets `[hidden] { display: none; }` but bootstrap.min.css set `[hidden] { display: none !important; }` so we also need the `!important` here to be able to override the default hidden behavior on the sphinx rendered scikit-learn.org. See: https://github.com/scikit-learn/scikit-learn/issues/21755 */display: inline-block !important;position: relative;}#sk-container-id-3 div.sk-text-repr-fallback {display: none;}</style><div id=\"sk-container-id-3\" class=\"sk-top-container\"><div class=\"sk-text-repr-fallback\"><pre>SVC(kernel=&#x27;linear&#x27;, random_state=0)</pre><b>In a Jupyter environment, please rerun this cell to show the HTML representation or trust the notebook. <br />On GitHub, the HTML representation is unable to render, please try loading this page with nbviewer.org.</b></div><div class=\"sk-container\" hidden><div class=\"sk-item\"><div class=\"sk-estimator sk-toggleable\"><input class=\"sk-toggleable__control sk-hidden--visually\" id=\"sk-estimator-id-3\" type=\"checkbox\" checked><label for=\"sk-estimator-id-3\" class=\"sk-toggleable__label sk-toggleable__label-arrow\">SVC</label><div class=\"sk-toggleable__content\"><pre>SVC(kernel=&#x27;linear&#x27;, random_state=0)</pre></div></div></div></div></div>"
      ],
      "text/plain": [
       "SVC(kernel='linear', random_state=0)"
      ]
     },
     "execution_count": 12,
     "metadata": {},
     "output_type": "execute_result"
    }
   ],
   "source": [
    "svc = SVC(kernel = 'linear', random_state = 0)\n",
    "svc.fit(x_train, y_train)"
   ]
  },
  {
   "cell_type": "code",
   "execution_count": 13,
   "id": "1ccd31cd",
   "metadata": {},
   "outputs": [
    {
     "name": "stdout",
     "output_type": "stream",
     "text": [
      "[[158   1]\n",
      " [  5   0]]\n",
      "0.9634146341463414\n"
     ]
    }
   ],
   "source": [
    "y_pred_svc = svc.predict(x_test)\n",
    "\n",
    "matrix_svc = confusion_matrix(y_test, y_pred_svc)\n",
    "print(matrix_svc)\n",
    "\n",
    "acc_svc = accuracy_score(y_test, y_pred_svc)\n",
    "print(acc_svc)"
   ]
  },
  {
   "cell_type": "markdown",
   "id": "fea610db",
   "metadata": {},
   "source": [
    "### Naive Bayes"
   ]
  },
  {
   "cell_type": "code",
   "execution_count": 14,
   "id": "5b7cf7ab",
   "metadata": {},
   "outputs": [
    {
     "data": {
      "text/html": [
       "<style>#sk-container-id-4 {color: black;background-color: white;}#sk-container-id-4 pre{padding: 0;}#sk-container-id-4 div.sk-toggleable {background-color: white;}#sk-container-id-4 label.sk-toggleable__label {cursor: pointer;display: block;width: 100%;margin-bottom: 0;padding: 0.3em;box-sizing: border-box;text-align: center;}#sk-container-id-4 label.sk-toggleable__label-arrow:before {content: \"▸\";float: left;margin-right: 0.25em;color: #696969;}#sk-container-id-4 label.sk-toggleable__label-arrow:hover:before {color: black;}#sk-container-id-4 div.sk-estimator:hover label.sk-toggleable__label-arrow:before {color: black;}#sk-container-id-4 div.sk-toggleable__content {max-height: 0;max-width: 0;overflow: hidden;text-align: left;background-color: #f0f8ff;}#sk-container-id-4 div.sk-toggleable__content pre {margin: 0.2em;color: black;border-radius: 0.25em;background-color: #f0f8ff;}#sk-container-id-4 input.sk-toggleable__control:checked~div.sk-toggleable__content {max-height: 200px;max-width: 100%;overflow: auto;}#sk-container-id-4 input.sk-toggleable__control:checked~label.sk-toggleable__label-arrow:before {content: \"▾\";}#sk-container-id-4 div.sk-estimator input.sk-toggleable__control:checked~label.sk-toggleable__label {background-color: #d4ebff;}#sk-container-id-4 div.sk-label input.sk-toggleable__control:checked~label.sk-toggleable__label {background-color: #d4ebff;}#sk-container-id-4 input.sk-hidden--visually {border: 0;clip: rect(1px 1px 1px 1px);clip: rect(1px, 1px, 1px, 1px);height: 1px;margin: -1px;overflow: hidden;padding: 0;position: absolute;width: 1px;}#sk-container-id-4 div.sk-estimator {font-family: monospace;background-color: #f0f8ff;border: 1px dotted black;border-radius: 0.25em;box-sizing: border-box;margin-bottom: 0.5em;}#sk-container-id-4 div.sk-estimator:hover {background-color: #d4ebff;}#sk-container-id-4 div.sk-parallel-item::after {content: \"\";width: 100%;border-bottom: 1px solid gray;flex-grow: 1;}#sk-container-id-4 div.sk-label:hover label.sk-toggleable__label {background-color: #d4ebff;}#sk-container-id-4 div.sk-serial::before {content: \"\";position: absolute;border-left: 1px solid gray;box-sizing: border-box;top: 0;bottom: 0;left: 50%;z-index: 0;}#sk-container-id-4 div.sk-serial {display: flex;flex-direction: column;align-items: center;background-color: white;padding-right: 0.2em;padding-left: 0.2em;position: relative;}#sk-container-id-4 div.sk-item {position: relative;z-index: 1;}#sk-container-id-4 div.sk-parallel {display: flex;align-items: stretch;justify-content: center;background-color: white;position: relative;}#sk-container-id-4 div.sk-item::before, #sk-container-id-4 div.sk-parallel-item::before {content: \"\";position: absolute;border-left: 1px solid gray;box-sizing: border-box;top: 0;bottom: 0;left: 50%;z-index: -1;}#sk-container-id-4 div.sk-parallel-item {display: flex;flex-direction: column;z-index: 1;position: relative;background-color: white;}#sk-container-id-4 div.sk-parallel-item:first-child::after {align-self: flex-end;width: 50%;}#sk-container-id-4 div.sk-parallel-item:last-child::after {align-self: flex-start;width: 50%;}#sk-container-id-4 div.sk-parallel-item:only-child::after {width: 0;}#sk-container-id-4 div.sk-dashed-wrapped {border: 1px dashed gray;margin: 0 0.4em 0.5em 0.4em;box-sizing: border-box;padding-bottom: 0.4em;background-color: white;}#sk-container-id-4 div.sk-label label {font-family: monospace;font-weight: bold;display: inline-block;line-height: 1.2em;}#sk-container-id-4 div.sk-label-container {text-align: center;}#sk-container-id-4 div.sk-container {/* jupyter's `normalize.less` sets `[hidden] { display: none; }` but bootstrap.min.css set `[hidden] { display: none !important; }` so we also need the `!important` here to be able to override the default hidden behavior on the sphinx rendered scikit-learn.org. See: https://github.com/scikit-learn/scikit-learn/issues/21755 */display: inline-block !important;position: relative;}#sk-container-id-4 div.sk-text-repr-fallback {display: none;}</style><div id=\"sk-container-id-4\" class=\"sk-top-container\"><div class=\"sk-text-repr-fallback\"><pre>GaussianNB()</pre><b>In a Jupyter environment, please rerun this cell to show the HTML representation or trust the notebook. <br />On GitHub, the HTML representation is unable to render, please try loading this page with nbviewer.org.</b></div><div class=\"sk-container\" hidden><div class=\"sk-item\"><div class=\"sk-estimator sk-toggleable\"><input class=\"sk-toggleable__control sk-hidden--visually\" id=\"sk-estimator-id-4\" type=\"checkbox\" checked><label for=\"sk-estimator-id-4\" class=\"sk-toggleable__label sk-toggleable__label-arrow\">GaussianNB</label><div class=\"sk-toggleable__content\"><pre>GaussianNB()</pre></div></div></div></div></div>"
      ],
      "text/plain": [
       "GaussianNB()"
      ]
     },
     "execution_count": 14,
     "metadata": {},
     "output_type": "execute_result"
    }
   ],
   "source": [
    "nb = GaussianNB()\n",
    "nb.fit(x_train, y_train)"
   ]
  },
  {
   "cell_type": "code",
   "execution_count": 15,
   "id": "3ee3f5ce",
   "metadata": {},
   "outputs": [
    {
     "name": "stdout",
     "output_type": "stream",
     "text": [
      "[[81 78]\n",
      " [ 3  2]]\n",
      "0.5060975609756098\n"
     ]
    }
   ],
   "source": [
    "y_pred_nb = nb.predict(x_test)\n",
    "\n",
    "matrix_nb = confusion_matrix(y_test, y_pred_nb)\n",
    "print(matrix_nb)\n",
    "\n",
    "acc_nb = accuracy_score(y_test, y_pred_nb)\n",
    "print(acc_nb)"
   ]
  },
  {
   "cell_type": "markdown",
   "id": "8a8ecc0b",
   "metadata": {},
   "source": [
    "### Decision Tree"
   ]
  },
  {
   "cell_type": "code",
   "execution_count": 16,
   "id": "d71306fd",
   "metadata": {},
   "outputs": [
    {
     "data": {
      "text/html": [
       "<style>#sk-container-id-5 {color: black;background-color: white;}#sk-container-id-5 pre{padding: 0;}#sk-container-id-5 div.sk-toggleable {background-color: white;}#sk-container-id-5 label.sk-toggleable__label {cursor: pointer;display: block;width: 100%;margin-bottom: 0;padding: 0.3em;box-sizing: border-box;text-align: center;}#sk-container-id-5 label.sk-toggleable__label-arrow:before {content: \"▸\";float: left;margin-right: 0.25em;color: #696969;}#sk-container-id-5 label.sk-toggleable__label-arrow:hover:before {color: black;}#sk-container-id-5 div.sk-estimator:hover label.sk-toggleable__label-arrow:before {color: black;}#sk-container-id-5 div.sk-toggleable__content {max-height: 0;max-width: 0;overflow: hidden;text-align: left;background-color: #f0f8ff;}#sk-container-id-5 div.sk-toggleable__content pre {margin: 0.2em;color: black;border-radius: 0.25em;background-color: #f0f8ff;}#sk-container-id-5 input.sk-toggleable__control:checked~div.sk-toggleable__content {max-height: 200px;max-width: 100%;overflow: auto;}#sk-container-id-5 input.sk-toggleable__control:checked~label.sk-toggleable__label-arrow:before {content: \"▾\";}#sk-container-id-5 div.sk-estimator input.sk-toggleable__control:checked~label.sk-toggleable__label {background-color: #d4ebff;}#sk-container-id-5 div.sk-label input.sk-toggleable__control:checked~label.sk-toggleable__label {background-color: #d4ebff;}#sk-container-id-5 input.sk-hidden--visually {border: 0;clip: rect(1px 1px 1px 1px);clip: rect(1px, 1px, 1px, 1px);height: 1px;margin: -1px;overflow: hidden;padding: 0;position: absolute;width: 1px;}#sk-container-id-5 div.sk-estimator {font-family: monospace;background-color: #f0f8ff;border: 1px dotted black;border-radius: 0.25em;box-sizing: border-box;margin-bottom: 0.5em;}#sk-container-id-5 div.sk-estimator:hover {background-color: #d4ebff;}#sk-container-id-5 div.sk-parallel-item::after {content: \"\";width: 100%;border-bottom: 1px solid gray;flex-grow: 1;}#sk-container-id-5 div.sk-label:hover label.sk-toggleable__label {background-color: #d4ebff;}#sk-container-id-5 div.sk-serial::before {content: \"\";position: absolute;border-left: 1px solid gray;box-sizing: border-box;top: 0;bottom: 0;left: 50%;z-index: 0;}#sk-container-id-5 div.sk-serial {display: flex;flex-direction: column;align-items: center;background-color: white;padding-right: 0.2em;padding-left: 0.2em;position: relative;}#sk-container-id-5 div.sk-item {position: relative;z-index: 1;}#sk-container-id-5 div.sk-parallel {display: flex;align-items: stretch;justify-content: center;background-color: white;position: relative;}#sk-container-id-5 div.sk-item::before, #sk-container-id-5 div.sk-parallel-item::before {content: \"\";position: absolute;border-left: 1px solid gray;box-sizing: border-box;top: 0;bottom: 0;left: 50%;z-index: -1;}#sk-container-id-5 div.sk-parallel-item {display: flex;flex-direction: column;z-index: 1;position: relative;background-color: white;}#sk-container-id-5 div.sk-parallel-item:first-child::after {align-self: flex-end;width: 50%;}#sk-container-id-5 div.sk-parallel-item:last-child::after {align-self: flex-start;width: 50%;}#sk-container-id-5 div.sk-parallel-item:only-child::after {width: 0;}#sk-container-id-5 div.sk-dashed-wrapped {border: 1px dashed gray;margin: 0 0.4em 0.5em 0.4em;box-sizing: border-box;padding-bottom: 0.4em;background-color: white;}#sk-container-id-5 div.sk-label label {font-family: monospace;font-weight: bold;display: inline-block;line-height: 1.2em;}#sk-container-id-5 div.sk-label-container {text-align: center;}#sk-container-id-5 div.sk-container {/* jupyter's `normalize.less` sets `[hidden] { display: none; }` but bootstrap.min.css set `[hidden] { display: none !important; }` so we also need the `!important` here to be able to override the default hidden behavior on the sphinx rendered scikit-learn.org. See: https://github.com/scikit-learn/scikit-learn/issues/21755 */display: inline-block !important;position: relative;}#sk-container-id-5 div.sk-text-repr-fallback {display: none;}</style><div id=\"sk-container-id-5\" class=\"sk-top-container\"><div class=\"sk-text-repr-fallback\"><pre>DecisionTreeClassifier(criterion=&#x27;entropy&#x27;, random_state=0)</pre><b>In a Jupyter environment, please rerun this cell to show the HTML representation or trust the notebook. <br />On GitHub, the HTML representation is unable to render, please try loading this page with nbviewer.org.</b></div><div class=\"sk-container\" hidden><div class=\"sk-item\"><div class=\"sk-estimator sk-toggleable\"><input class=\"sk-toggleable__control sk-hidden--visually\" id=\"sk-estimator-id-5\" type=\"checkbox\" checked><label for=\"sk-estimator-id-5\" class=\"sk-toggleable__label sk-toggleable__label-arrow\">DecisionTreeClassifier</label><div class=\"sk-toggleable__content\"><pre>DecisionTreeClassifier(criterion=&#x27;entropy&#x27;, random_state=0)</pre></div></div></div></div></div>"
      ],
      "text/plain": [
       "DecisionTreeClassifier(criterion='entropy', random_state=0)"
      ]
     },
     "execution_count": 16,
     "metadata": {},
     "output_type": "execute_result"
    }
   ],
   "source": [
    "dt = DecisionTreeClassifier(criterion = 'entropy', random_state = 0)\n",
    "dt.fit(x_train, y_train)"
   ]
  },
  {
   "cell_type": "code",
   "execution_count": 17,
   "id": "86b11665",
   "metadata": {},
   "outputs": [
    {
     "name": "stdout",
     "output_type": "stream",
     "text": [
      "[[148  11]\n",
      " [  5   0]]\n",
      "0.9024390243902439\n"
     ]
    }
   ],
   "source": [
    "y_pred_dt = dt.predict(x_test)\n",
    "\n",
    "matrix_dt = confusion_matrix(y_test, y_pred_dt)\n",
    "print(matrix_dt)\n",
    "\n",
    "acc_dt = accuracy_score(y_test, y_pred_dt)\n",
    "print(acc_dt)"
   ]
  },
  {
   "cell_type": "markdown",
   "id": "90c7aefa",
   "metadata": {},
   "source": [
    "### Random Forest"
   ]
  },
  {
   "cell_type": "code",
   "execution_count": 18,
   "id": "0d065468",
   "metadata": {},
   "outputs": [
    {
     "data": {
      "text/html": [
       "<style>#sk-container-id-6 {color: black;background-color: white;}#sk-container-id-6 pre{padding: 0;}#sk-container-id-6 div.sk-toggleable {background-color: white;}#sk-container-id-6 label.sk-toggleable__label {cursor: pointer;display: block;width: 100%;margin-bottom: 0;padding: 0.3em;box-sizing: border-box;text-align: center;}#sk-container-id-6 label.sk-toggleable__label-arrow:before {content: \"▸\";float: left;margin-right: 0.25em;color: #696969;}#sk-container-id-6 label.sk-toggleable__label-arrow:hover:before {color: black;}#sk-container-id-6 div.sk-estimator:hover label.sk-toggleable__label-arrow:before {color: black;}#sk-container-id-6 div.sk-toggleable__content {max-height: 0;max-width: 0;overflow: hidden;text-align: left;background-color: #f0f8ff;}#sk-container-id-6 div.sk-toggleable__content pre {margin: 0.2em;color: black;border-radius: 0.25em;background-color: #f0f8ff;}#sk-container-id-6 input.sk-toggleable__control:checked~div.sk-toggleable__content {max-height: 200px;max-width: 100%;overflow: auto;}#sk-container-id-6 input.sk-toggleable__control:checked~label.sk-toggleable__label-arrow:before {content: \"▾\";}#sk-container-id-6 div.sk-estimator input.sk-toggleable__control:checked~label.sk-toggleable__label {background-color: #d4ebff;}#sk-container-id-6 div.sk-label input.sk-toggleable__control:checked~label.sk-toggleable__label {background-color: #d4ebff;}#sk-container-id-6 input.sk-hidden--visually {border: 0;clip: rect(1px 1px 1px 1px);clip: rect(1px, 1px, 1px, 1px);height: 1px;margin: -1px;overflow: hidden;padding: 0;position: absolute;width: 1px;}#sk-container-id-6 div.sk-estimator {font-family: monospace;background-color: #f0f8ff;border: 1px dotted black;border-radius: 0.25em;box-sizing: border-box;margin-bottom: 0.5em;}#sk-container-id-6 div.sk-estimator:hover {background-color: #d4ebff;}#sk-container-id-6 div.sk-parallel-item::after {content: \"\";width: 100%;border-bottom: 1px solid gray;flex-grow: 1;}#sk-container-id-6 div.sk-label:hover label.sk-toggleable__label {background-color: #d4ebff;}#sk-container-id-6 div.sk-serial::before {content: \"\";position: absolute;border-left: 1px solid gray;box-sizing: border-box;top: 0;bottom: 0;left: 50%;z-index: 0;}#sk-container-id-6 div.sk-serial {display: flex;flex-direction: column;align-items: center;background-color: white;padding-right: 0.2em;padding-left: 0.2em;position: relative;}#sk-container-id-6 div.sk-item {position: relative;z-index: 1;}#sk-container-id-6 div.sk-parallel {display: flex;align-items: stretch;justify-content: center;background-color: white;position: relative;}#sk-container-id-6 div.sk-item::before, #sk-container-id-6 div.sk-parallel-item::before {content: \"\";position: absolute;border-left: 1px solid gray;box-sizing: border-box;top: 0;bottom: 0;left: 50%;z-index: -1;}#sk-container-id-6 div.sk-parallel-item {display: flex;flex-direction: column;z-index: 1;position: relative;background-color: white;}#sk-container-id-6 div.sk-parallel-item:first-child::after {align-self: flex-end;width: 50%;}#sk-container-id-6 div.sk-parallel-item:last-child::after {align-self: flex-start;width: 50%;}#sk-container-id-6 div.sk-parallel-item:only-child::after {width: 0;}#sk-container-id-6 div.sk-dashed-wrapped {border: 1px dashed gray;margin: 0 0.4em 0.5em 0.4em;box-sizing: border-box;padding-bottom: 0.4em;background-color: white;}#sk-container-id-6 div.sk-label label {font-family: monospace;font-weight: bold;display: inline-block;line-height: 1.2em;}#sk-container-id-6 div.sk-label-container {text-align: center;}#sk-container-id-6 div.sk-container {/* jupyter's `normalize.less` sets `[hidden] { display: none; }` but bootstrap.min.css set `[hidden] { display: none !important; }` so we also need the `!important` here to be able to override the default hidden behavior on the sphinx rendered scikit-learn.org. See: https://github.com/scikit-learn/scikit-learn/issues/21755 */display: inline-block !important;position: relative;}#sk-container-id-6 div.sk-text-repr-fallback {display: none;}</style><div id=\"sk-container-id-6\" class=\"sk-top-container\"><div class=\"sk-text-repr-fallback\"><pre>RandomForestClassifier(max_depth=2, random_state=0)</pre><b>In a Jupyter environment, please rerun this cell to show the HTML representation or trust the notebook. <br />On GitHub, the HTML representation is unable to render, please try loading this page with nbviewer.org.</b></div><div class=\"sk-container\" hidden><div class=\"sk-item\"><div class=\"sk-estimator sk-toggleable\"><input class=\"sk-toggleable__control sk-hidden--visually\" id=\"sk-estimator-id-6\" type=\"checkbox\" checked><label for=\"sk-estimator-id-6\" class=\"sk-toggleable__label sk-toggleable__label-arrow\">RandomForestClassifier</label><div class=\"sk-toggleable__content\"><pre>RandomForestClassifier(max_depth=2, random_state=0)</pre></div></div></div></div></div>"
      ],
      "text/plain": [
       "RandomForestClassifier(max_depth=2, random_state=0)"
      ]
     },
     "execution_count": 18,
     "metadata": {},
     "output_type": "execute_result"
    }
   ],
   "source": [
    "rf = RandomForestClassifier(max_depth = 2, random_state = 0)\n",
    "rf.fit(x_train, y_train)"
   ]
  },
  {
   "cell_type": "code",
   "execution_count": 19,
   "id": "57455a6c",
   "metadata": {},
   "outputs": [
    {
     "name": "stdout",
     "output_type": "stream",
     "text": [
      "[[159   0]\n",
      " [  5   0]]\n",
      "0.9695121951219512\n"
     ]
    }
   ],
   "source": [
    "y_pred_rf = rf.predict(x_test)\n",
    "\n",
    "matrix_rf = confusion_matrix(y_test, y_pred_rf)\n",
    "print(matrix_rf)\n",
    "\n",
    "acc_rf = accuracy_score(y_test, y_pred_rf)\n",
    "print(acc_rf)"
   ]
  },
  {
   "cell_type": "markdown",
   "id": "02151a6b",
   "metadata": {},
   "source": [
    "### Comparing Accuracies with Different Scores\n",
    "- checking to see if high accuracy is due to imbalance of data"
   ]
  },
  {
   "cell_type": "code",
   "execution_count": 20,
   "id": "7362281e",
   "metadata": {},
   "outputs": [
    {
     "data": {
      "text/plain": [
       "array([[158,   1],\n",
       "       [  5,   0]], dtype=int64)"
      ]
     },
     "execution_count": 20,
     "metadata": {},
     "output_type": "execute_result"
    }
   ],
   "source": [
    "# logistic regression \n",
    "matrix_lr"
   ]
  },
  {
   "cell_type": "code",
   "execution_count": 21,
   "id": "c159867c",
   "metadata": {},
   "outputs": [
    {
     "data": {
      "text/plain": [
       "array([[159,   0],\n",
       "       [  5,   0]], dtype=int64)"
      ]
     },
     "execution_count": 21,
     "metadata": {},
     "output_type": "execute_result"
    }
   ],
   "source": [
    "# knn \n",
    "matrix_knn"
   ]
  },
  {
   "cell_type": "code",
   "execution_count": 22,
   "id": "bb28e8d9",
   "metadata": {},
   "outputs": [
    {
     "data": {
      "text/plain": [
       "array([[158,   1],\n",
       "       [  5,   0]], dtype=int64)"
      ]
     },
     "execution_count": 22,
     "metadata": {},
     "output_type": "execute_result"
    }
   ],
   "source": [
    "# svc\n",
    "matrix_svc"
   ]
  },
  {
   "cell_type": "code",
   "execution_count": 23,
   "id": "a2c88328",
   "metadata": {},
   "outputs": [
    {
     "data": {
      "text/plain": [
       "array([[148,  11],\n",
       "       [  5,   0]], dtype=int64)"
      ]
     },
     "execution_count": 23,
     "metadata": {},
     "output_type": "execute_result"
    }
   ],
   "source": [
    "# decision tree \n",
    "matrix_dt"
   ]
  },
  {
   "cell_type": "code",
   "execution_count": 24,
   "id": "436cb0c1",
   "metadata": {},
   "outputs": [
    {
     "data": {
      "text/plain": [
       "array([[159,   0],\n",
       "       [  5,   0]], dtype=int64)"
      ]
     },
     "execution_count": 24,
     "metadata": {},
     "output_type": "execute_result"
    }
   ],
   "source": [
    "# random forest \n",
    "matrix_rf"
   ]
  },
  {
   "cell_type": "code",
   "execution_count": 25,
   "id": "867cb8c2",
   "metadata": {},
   "outputs": [],
   "source": [
    "# making arrays for confusion matrix elements\n",
    "matrix = [matrix_lr, matrix_knn, matrix_svc, matrix_dt, matrix_rf]\n",
    "tp_array = []\n",
    "fp_array = []\n",
    "fn_array = []\n",
    "tn_array = []\n",
    "\n",
    "for matrix in matrix:\n",
    "    tp_array.append(matrix[0][0])\n",
    "    fp_array.append(matrix[0][1])\n",
    "    fn_array.append(matrix[1][0])\n",
    "    tn_array.append(matrix[1][1])"
   ]
  },
  {
   "cell_type": "code",
   "execution_count": 26,
   "id": "4221a1ea",
   "metadata": {},
   "outputs": [],
   "source": [
    "# acc score \n",
    "acc_array = [acc_lr, acc_knn, acc_svc, acc_dt, acc_rf]"
   ]
  },
  {
   "cell_type": "code",
   "execution_count": 27,
   "id": "c551802d",
   "metadata": {},
   "outputs": [
    {
     "data": {
      "text/html": [
       "<div>\n",
       "<style scoped>\n",
       "    .dataframe tbody tr th:only-of-type {\n",
       "        vertical-align: middle;\n",
       "    }\n",
       "\n",
       "    .dataframe tbody tr th {\n",
       "        vertical-align: top;\n",
       "    }\n",
       "\n",
       "    .dataframe thead th {\n",
       "        text-align: right;\n",
       "    }\n",
       "</style>\n",
       "<table border=\"1\" class=\"dataframe\">\n",
       "  <thead>\n",
       "    <tr style=\"text-align: right;\">\n",
       "      <th></th>\n",
       "      <th>model</th>\n",
       "      <th>tp</th>\n",
       "      <th>fp</th>\n",
       "      <th>fn</th>\n",
       "      <th>tn</th>\n",
       "      <th>accuracy</th>\n",
       "    </tr>\n",
       "  </thead>\n",
       "  <tbody>\n",
       "    <tr>\n",
       "      <th>0</th>\n",
       "      <td>logistic</td>\n",
       "      <td>158</td>\n",
       "      <td>1</td>\n",
       "      <td>5</td>\n",
       "      <td>0</td>\n",
       "      <td>0.963415</td>\n",
       "    </tr>\n",
       "    <tr>\n",
       "      <th>1</th>\n",
       "      <td>knn</td>\n",
       "      <td>159</td>\n",
       "      <td>0</td>\n",
       "      <td>5</td>\n",
       "      <td>0</td>\n",
       "      <td>0.969512</td>\n",
       "    </tr>\n",
       "    <tr>\n",
       "      <th>2</th>\n",
       "      <td>svc</td>\n",
       "      <td>158</td>\n",
       "      <td>1</td>\n",
       "      <td>5</td>\n",
       "      <td>0</td>\n",
       "      <td>0.963415</td>\n",
       "    </tr>\n",
       "    <tr>\n",
       "      <th>3</th>\n",
       "      <td>decision tree</td>\n",
       "      <td>148</td>\n",
       "      <td>11</td>\n",
       "      <td>5</td>\n",
       "      <td>0</td>\n",
       "      <td>0.902439</td>\n",
       "    </tr>\n",
       "    <tr>\n",
       "      <th>4</th>\n",
       "      <td>random forest</td>\n",
       "      <td>159</td>\n",
       "      <td>0</td>\n",
       "      <td>5</td>\n",
       "      <td>0</td>\n",
       "      <td>0.969512</td>\n",
       "    </tr>\n",
       "  </tbody>\n",
       "</table>\n",
       "</div>"
      ],
      "text/plain": [
       "           model   tp  fp  fn  tn  accuracy\n",
       "0       logistic  158   1   5   0  0.963415\n",
       "1            knn  159   0   5   0  0.969512\n",
       "2            svc  158   1   5   0  0.963415\n",
       "3  decision tree  148  11   5   0  0.902439\n",
       "4  random forest  159   0   5   0  0.969512"
      ]
     },
     "execution_count": 27,
     "metadata": {},
     "output_type": "execute_result"
    }
   ],
   "source": [
    "dict_for_matrix = {\n",
    "    'model':['logistic', 'knn', 'svc', 'decision tree', 'random forest'],\n",
    "    'tp':tp_array,\n",
    "    'fp':fp_array,\n",
    "    'fn':fn_array,\n",
    "    'tn':tn_array,\n",
    "    'accuracy':acc_array\n",
    "}\n",
    "\n",
    "score_compare = pd.DataFrame(data=dict_for_matrix)\n",
    "score_compare"
   ]
  },
  {
   "cell_type": "markdown",
   "id": "2328e63f",
   "metadata": {},
   "source": [
    "### Getting Arrays of Different Types of Scores"
   ]
  },
  {
   "cell_type": "markdown",
   "id": "ad144116",
   "metadata": {},
   "source": [
    "#### sklearn precision_recall_fscore_support\n",
    "\n",
    "- **micro**:\n",
    "    - Calculate metrics globally by **counting the total** true positives, false negatives and false positives.\n",
    "    \n",
    "    \n",
    "- **macro**:\n",
    "    - Calculate metrics for each label, and find their unweighted mean. This **does not take label imbalance into account**.\n",
    "    \n",
    "    \n",
    "- **weighted**:\n",
    "    - Calculate metrics for each label, and find their **average weighted by support** (the number of true instances for each label)."
   ]
  },
  {
   "cell_type": "code",
   "execution_count": 28,
   "id": "f5b84ce7",
   "metadata": {},
   "outputs": [],
   "source": [
    "# precision, recall, f_score\n",
    "pred_array = [y_pred_lr, y_pred_knn, y_pred_svc, y_pred_dt, y_pred_rf]\n",
    "\n",
    "    # micro\n",
    "precision_micro= []\n",
    "recall_micro = []\n",
    "fscore_micro = []\n",
    "\n",
    "for y_pred in pred_array:\n",
    "    scores = precision_recall_fscore_support(y_test, y_pred, average='micro')\n",
    "    precision_micro.append(scores[0])\n",
    "    recall_micro.append(scores[1])\n",
    "    fscore_micro.append(scores[2])\n",
    "\n",
    "    # macro\n",
    "precision_macro = []\n",
    "recall_macro = []\n",
    "fscore_macro = []\n",
    "\n",
    "for y_pred in pred_array:\n",
    "    scores = precision_recall_fscore_support(y_test, y_pred, average='macro', zero_division = 0)\n",
    "    precision_macro.append(scores[0])\n",
    "    recall_macro.append(scores[1])\n",
    "    fscore_macro.append(scores[2])\n",
    "\n",
    "    # weighted \n",
    "precision_weighted = []\n",
    "recall_weighted = []\n",
    "fscore_weighted = []\n",
    "\n",
    "for y_pred in pred_array:\n",
    "    scores = precision_recall_fscore_support(y_test, y_pred, average='weighted', zero_division = 0)\n",
    "    precision_weighted.append(scores[0])\n",
    "    recall_weighted.append(scores[1])\n",
    "    fscore_weighted.append(scores[2])"
   ]
  },
  {
   "cell_type": "code",
   "execution_count": 29,
   "id": "30e2b25d",
   "metadata": {
    "scrolled": true
   },
   "outputs": [
    {
     "data": {
      "text/html": [
       "<div>\n",
       "<style scoped>\n",
       "    .dataframe tbody tr th:only-of-type {\n",
       "        vertical-align: middle;\n",
       "    }\n",
       "\n",
       "    .dataframe tbody tr th {\n",
       "        vertical-align: top;\n",
       "    }\n",
       "\n",
       "    .dataframe thead th {\n",
       "        text-align: right;\n",
       "    }\n",
       "</style>\n",
       "<table border=\"1\" class=\"dataframe\">\n",
       "  <thead>\n",
       "    <tr style=\"text-align: right;\">\n",
       "      <th></th>\n",
       "      <th>model</th>\n",
       "      <th>tp</th>\n",
       "      <th>fp</th>\n",
       "      <th>fn</th>\n",
       "      <th>tn</th>\n",
       "      <th>accuracy</th>\n",
       "      <th>precision_micro</th>\n",
       "      <th>recall_micro</th>\n",
       "      <th>fscore_micro</th>\n",
       "      <th>precision_macro</th>\n",
       "      <th>recall_macro</th>\n",
       "      <th>fscore_macro</th>\n",
       "      <th>precision_weighted</th>\n",
       "      <th>recall_weighted</th>\n",
       "      <th>fscore_weighted</th>\n",
       "    </tr>\n",
       "  </thead>\n",
       "  <tbody>\n",
       "    <tr>\n",
       "      <th>0</th>\n",
       "      <td>logistic</td>\n",
       "      <td>158</td>\n",
       "      <td>1</td>\n",
       "      <td>5</td>\n",
       "      <td>0</td>\n",
       "      <td>0.963415</td>\n",
       "      <td>0.963415</td>\n",
       "      <td>0.963415</td>\n",
       "      <td>0.963415</td>\n",
       "      <td>0.484663</td>\n",
       "      <td>0.496855</td>\n",
       "      <td>0.490683</td>\n",
       "      <td>0.939773</td>\n",
       "      <td>0.963415</td>\n",
       "      <td>0.951447</td>\n",
       "    </tr>\n",
       "    <tr>\n",
       "      <th>1</th>\n",
       "      <td>knn</td>\n",
       "      <td>159</td>\n",
       "      <td>0</td>\n",
       "      <td>5</td>\n",
       "      <td>0</td>\n",
       "      <td>0.969512</td>\n",
       "      <td>0.969512</td>\n",
       "      <td>0.969512</td>\n",
       "      <td>0.969512</td>\n",
       "      <td>0.484756</td>\n",
       "      <td>0.500000</td>\n",
       "      <td>0.492260</td>\n",
       "      <td>0.939954</td>\n",
       "      <td>0.969512</td>\n",
       "      <td>0.954504</td>\n",
       "    </tr>\n",
       "    <tr>\n",
       "      <th>2</th>\n",
       "      <td>svc</td>\n",
       "      <td>158</td>\n",
       "      <td>1</td>\n",
       "      <td>5</td>\n",
       "      <td>0</td>\n",
       "      <td>0.963415</td>\n",
       "      <td>0.963415</td>\n",
       "      <td>0.963415</td>\n",
       "      <td>0.963415</td>\n",
       "      <td>0.484663</td>\n",
       "      <td>0.496855</td>\n",
       "      <td>0.490683</td>\n",
       "      <td>0.939773</td>\n",
       "      <td>0.963415</td>\n",
       "      <td>0.951447</td>\n",
       "    </tr>\n",
       "    <tr>\n",
       "      <th>3</th>\n",
       "      <td>decision tree</td>\n",
       "      <td>148</td>\n",
       "      <td>11</td>\n",
       "      <td>5</td>\n",
       "      <td>0</td>\n",
       "      <td>0.902439</td>\n",
       "      <td>0.902439</td>\n",
       "      <td>0.902439</td>\n",
       "      <td>0.902439</td>\n",
       "      <td>0.483660</td>\n",
       "      <td>0.465409</td>\n",
       "      <td>0.474359</td>\n",
       "      <td>0.937829</td>\n",
       "      <td>0.902439</td>\n",
       "      <td>0.919794</td>\n",
       "    </tr>\n",
       "    <tr>\n",
       "      <th>4</th>\n",
       "      <td>random forest</td>\n",
       "      <td>159</td>\n",
       "      <td>0</td>\n",
       "      <td>5</td>\n",
       "      <td>0</td>\n",
       "      <td>0.969512</td>\n",
       "      <td>0.969512</td>\n",
       "      <td>0.969512</td>\n",
       "      <td>0.969512</td>\n",
       "      <td>0.484756</td>\n",
       "      <td>0.500000</td>\n",
       "      <td>0.492260</td>\n",
       "      <td>0.939954</td>\n",
       "      <td>0.969512</td>\n",
       "      <td>0.954504</td>\n",
       "    </tr>\n",
       "  </tbody>\n",
       "</table>\n",
       "</div>"
      ],
      "text/plain": [
       "           model   tp  fp  fn  tn  accuracy  precision_micro  recall_micro  \\\n",
       "0       logistic  158   1   5   0  0.963415         0.963415      0.963415   \n",
       "1            knn  159   0   5   0  0.969512         0.969512      0.969512   \n",
       "2            svc  158   1   5   0  0.963415         0.963415      0.963415   \n",
       "3  decision tree  148  11   5   0  0.902439         0.902439      0.902439   \n",
       "4  random forest  159   0   5   0  0.969512         0.969512      0.969512   \n",
       "\n",
       "   fscore_micro  precision_macro  recall_macro  fscore_macro  \\\n",
       "0      0.963415         0.484663      0.496855      0.490683   \n",
       "1      0.969512         0.484756      0.500000      0.492260   \n",
       "2      0.963415         0.484663      0.496855      0.490683   \n",
       "3      0.902439         0.483660      0.465409      0.474359   \n",
       "4      0.969512         0.484756      0.500000      0.492260   \n",
       "\n",
       "   precision_weighted  recall_weighted  fscore_weighted  \n",
       "0            0.939773         0.963415         0.951447  \n",
       "1            0.939954         0.969512         0.954504  \n",
       "2            0.939773         0.963415         0.951447  \n",
       "3            0.937829         0.902439         0.919794  \n",
       "4            0.939954         0.969512         0.954504  "
      ]
     },
     "execution_count": 29,
     "metadata": {},
     "output_type": "execute_result"
    }
   ],
   "source": [
    "all_scores = [precision_micro, recall_micro, fscore_micro,\n",
    "              precision_macro, recall_macro, fscore_macro,\n",
    "              precision_weighted, recall_weighted, fscore_weighted]\n",
    "\n",
    "all_scores_strs = ['precision_micro', 'recall_micro', 'fscore_micro',\n",
    "                      'precision_macro', 'recall_macro', 'fscore_macro',\n",
    "                      'precision_weighted', 'recall_weighted', 'fscore_weighted']\n",
    "\n",
    "for i in np.arange(len(all_scores)):\n",
    "    score_compare[all_scores_strs[i]] = all_scores[i]\n",
    "    \n",
    "score_compare"
   ]
  },
  {
   "cell_type": "markdown",
   "id": "57781538",
   "metadata": {},
   "source": [
    "#### Every model did not correctly predict negative/minority values !!"
   ]
  },
  {
   "cell_type": "markdown",
   "id": "75b47bbd",
   "metadata": {},
   "source": [
    "# Handling Imbalanced Data"
   ]
  },
  {
   "cell_type": "code",
   "execution_count": 30,
   "id": "e064b1a6",
   "metadata": {},
   "outputs": [],
   "source": [
    "# setup target and features \n",
    "X = ovt.drop('recurrence_y', axis=1)\n",
    "y = ovt.recurrence_y\n",
    "\n",
    "X_train, X_test, y_train, y_test = train_test_split(X,y,test_size = 0.25, random_state = 27)"
   ]
  },
  {
   "cell_type": "markdown",
   "id": "f4ca8018",
   "metadata": {},
   "source": [
    "#### Functions to calculate scores from confusion matrix"
   ]
  },
  {
   "cell_type": "code",
   "execution_count": 31,
   "id": "a531e0a7",
   "metadata": {},
   "outputs": [],
   "source": [
    "# sensitivity, recall, true positive rate (TPR)\n",
    "def sensitivity(matrix):\n",
    "    return (matrix[0][0] / (matrix[0][0] + matrix[0][1]))\n",
    "\n",
    "# specificity, true negative rate (TNR)\n",
    "def specificity(matrix):\n",
    "    return (matrix[1][1] / (matrix[1][1] + matrix[1][0]))\n",
    "\n",
    "# precision, positive predictive value (PPV)\n",
    "def precision(matrix):\n",
    "    return (matrix[0][0] / (matrix[0][0] + matrix[1][0]))\n",
    "\n",
    "# neg predictive value (NPV) \n",
    "def neg_pred(matrix):\n",
    "    return (matrix[1][1] / (matrix[1][1] + matrix[0][1]))\n",
    "\n",
    "# accuracy \n",
    "def accuracy(matrix):\n",
    "    total = matrix[0][0] + matrix[0][1] + matrix[1][0] + matrix[1][1]\n",
    "    return((matrix[0][0] + matrix[1][1]) / total)\n",
    "\n",
    "# f1 score \n",
    "def f1(matrix):\n",
    "    return 2 * ((precision(matrix) * sensitivity(matrix)) / ((precision(matrix) + sensitivity(matrix))))"
   ]
  },
  {
   "cell_type": "markdown",
   "id": "5a332a0c",
   "metadata": {},
   "source": [
    "## Oversampling minority values\n",
    "- 1:1 ratio for recurrence and no recurrence"
   ]
  },
  {
   "cell_type": "markdown",
   "id": "393ac094",
   "metadata": {},
   "source": [
    "### Preparing Upsampled Dataset"
   ]
  },
  {
   "cell_type": "code",
   "execution_count": 32,
   "id": "8e4c900b",
   "metadata": {},
   "outputs": [],
   "source": [
    "from sklearn.utils import resample"
   ]
  },
  {
   "cell_type": "code",
   "execution_count": 33,
   "id": "365e1c7f",
   "metadata": {},
   "outputs": [
    {
     "data": {
      "text/plain": [
       "1    472\n",
       "0    472\n",
       "Name: recurrence_y, dtype: int64"
      ]
     },
     "execution_count": 33,
     "metadata": {},
     "output_type": "execute_result"
    }
   ],
   "source": [
    "# concatenate training data \n",
    "X = pd.concat([X_train, y_train], axis = 1)\n",
    "\n",
    "# separate recurrence \n",
    "recur = X[X.recurrence_y == 1]\n",
    "no_recur = X[X.recurrence_y == 0]\n",
    "\n",
    "# upsample recur \n",
    "recur_upsample = resample(recur, replace=True, n_samples = len(no_recur), random_state=27)\n",
    "\n",
    "# concatenate recur_upsample w/ no_recur\n",
    "upsampled = pd.concat([recur_upsample, no_recur])\n",
    "upsampled['recurrence_y'].value_counts()"
   ]
  },
  {
   "cell_type": "markdown",
   "id": "43182728",
   "metadata": {},
   "source": [
    "### Testing Models with Upsampled Dataset "
   ]
  },
  {
   "cell_type": "code",
   "execution_count": 34,
   "id": "78af5ff9",
   "metadata": {},
   "outputs": [],
   "source": [
    "# setup training data with new upsampled dataset\n",
    "y_train_up = upsampled.recurrence_y\n",
    "X_train_up = upsampled.drop('recurrence_y', axis=1)"
   ]
  },
  {
   "cell_type": "code",
   "execution_count": 35,
   "id": "fbcc10e3",
   "metadata": {},
   "outputs": [],
   "source": [
    "# standard scaling\n",
    "sc = StandardScaler()\n",
    "\n",
    "X_train_up = sc.fit_transform(X_train_up)\n",
    "X_test = sc.transform(X_test)"
   ]
  },
  {
   "cell_type": "markdown",
   "id": "27f972f2",
   "metadata": {},
   "source": [
    "#### Logistic Regression"
   ]
  },
  {
   "cell_type": "code",
   "execution_count": 36,
   "id": "46e64882",
   "metadata": {},
   "outputs": [
    {
     "data": {
      "text/html": [
       "<style>#sk-container-id-7 {color: black;background-color: white;}#sk-container-id-7 pre{padding: 0;}#sk-container-id-7 div.sk-toggleable {background-color: white;}#sk-container-id-7 label.sk-toggleable__label {cursor: pointer;display: block;width: 100%;margin-bottom: 0;padding: 0.3em;box-sizing: border-box;text-align: center;}#sk-container-id-7 label.sk-toggleable__label-arrow:before {content: \"▸\";float: left;margin-right: 0.25em;color: #696969;}#sk-container-id-7 label.sk-toggleable__label-arrow:hover:before {color: black;}#sk-container-id-7 div.sk-estimator:hover label.sk-toggleable__label-arrow:before {color: black;}#sk-container-id-7 div.sk-toggleable__content {max-height: 0;max-width: 0;overflow: hidden;text-align: left;background-color: #f0f8ff;}#sk-container-id-7 div.sk-toggleable__content pre {margin: 0.2em;color: black;border-radius: 0.25em;background-color: #f0f8ff;}#sk-container-id-7 input.sk-toggleable__control:checked~div.sk-toggleable__content {max-height: 200px;max-width: 100%;overflow: auto;}#sk-container-id-7 input.sk-toggleable__control:checked~label.sk-toggleable__label-arrow:before {content: \"▾\";}#sk-container-id-7 div.sk-estimator input.sk-toggleable__control:checked~label.sk-toggleable__label {background-color: #d4ebff;}#sk-container-id-7 div.sk-label input.sk-toggleable__control:checked~label.sk-toggleable__label {background-color: #d4ebff;}#sk-container-id-7 input.sk-hidden--visually {border: 0;clip: rect(1px 1px 1px 1px);clip: rect(1px, 1px, 1px, 1px);height: 1px;margin: -1px;overflow: hidden;padding: 0;position: absolute;width: 1px;}#sk-container-id-7 div.sk-estimator {font-family: monospace;background-color: #f0f8ff;border: 1px dotted black;border-radius: 0.25em;box-sizing: border-box;margin-bottom: 0.5em;}#sk-container-id-7 div.sk-estimator:hover {background-color: #d4ebff;}#sk-container-id-7 div.sk-parallel-item::after {content: \"\";width: 100%;border-bottom: 1px solid gray;flex-grow: 1;}#sk-container-id-7 div.sk-label:hover label.sk-toggleable__label {background-color: #d4ebff;}#sk-container-id-7 div.sk-serial::before {content: \"\";position: absolute;border-left: 1px solid gray;box-sizing: border-box;top: 0;bottom: 0;left: 50%;z-index: 0;}#sk-container-id-7 div.sk-serial {display: flex;flex-direction: column;align-items: center;background-color: white;padding-right: 0.2em;padding-left: 0.2em;position: relative;}#sk-container-id-7 div.sk-item {position: relative;z-index: 1;}#sk-container-id-7 div.sk-parallel {display: flex;align-items: stretch;justify-content: center;background-color: white;position: relative;}#sk-container-id-7 div.sk-item::before, #sk-container-id-7 div.sk-parallel-item::before {content: \"\";position: absolute;border-left: 1px solid gray;box-sizing: border-box;top: 0;bottom: 0;left: 50%;z-index: -1;}#sk-container-id-7 div.sk-parallel-item {display: flex;flex-direction: column;z-index: 1;position: relative;background-color: white;}#sk-container-id-7 div.sk-parallel-item:first-child::after {align-self: flex-end;width: 50%;}#sk-container-id-7 div.sk-parallel-item:last-child::after {align-self: flex-start;width: 50%;}#sk-container-id-7 div.sk-parallel-item:only-child::after {width: 0;}#sk-container-id-7 div.sk-dashed-wrapped {border: 1px dashed gray;margin: 0 0.4em 0.5em 0.4em;box-sizing: border-box;padding-bottom: 0.4em;background-color: white;}#sk-container-id-7 div.sk-label label {font-family: monospace;font-weight: bold;display: inline-block;line-height: 1.2em;}#sk-container-id-7 div.sk-label-container {text-align: center;}#sk-container-id-7 div.sk-container {/* jupyter's `normalize.less` sets `[hidden] { display: none; }` but bootstrap.min.css set `[hidden] { display: none !important; }` so we also need the `!important` here to be able to override the default hidden behavior on the sphinx rendered scikit-learn.org. See: https://github.com/scikit-learn/scikit-learn/issues/21755 */display: inline-block !important;position: relative;}#sk-container-id-7 div.sk-text-repr-fallback {display: none;}</style><div id=\"sk-container-id-7\" class=\"sk-top-container\"><div class=\"sk-text-repr-fallback\"><pre>LogisticRegression(random_state=0)</pre><b>In a Jupyter environment, please rerun this cell to show the HTML representation or trust the notebook. <br />On GitHub, the HTML representation is unable to render, please try loading this page with nbviewer.org.</b></div><div class=\"sk-container\" hidden><div class=\"sk-item\"><div class=\"sk-estimator sk-toggleable\"><input class=\"sk-toggleable__control sk-hidden--visually\" id=\"sk-estimator-id-7\" type=\"checkbox\" checked><label for=\"sk-estimator-id-7\" class=\"sk-toggleable__label sk-toggleable__label-arrow\">LogisticRegression</label><div class=\"sk-toggleable__content\"><pre>LogisticRegression(random_state=0)</pre></div></div></div></div></div>"
      ],
      "text/plain": [
       "LogisticRegression(random_state=0)"
      ]
     },
     "execution_count": 36,
     "metadata": {},
     "output_type": "execute_result"
    }
   ],
   "source": [
    "lr = LogisticRegression(random_state = 0)\n",
    "lr.fit(X_train_up, y_train_up)"
   ]
  },
  {
   "cell_type": "code",
   "execution_count": 37,
   "id": "70fc3187",
   "metadata": {},
   "outputs": [
    {
     "data": {
      "text/plain": [
       "array([[132,  25],\n",
       "       [  6,   1]], dtype=int64)"
      ]
     },
     "execution_count": 37,
     "metadata": {},
     "output_type": "execute_result"
    }
   ],
   "source": [
    "lr_upsample_y_pred = lr.predict(X_test)\n",
    "lr_upsample_matrix = confusion_matrix(y_test, lr_upsample_y_pred )\n",
    "lr_upsample_matrix"
   ]
  },
  {
   "cell_type": "code",
   "execution_count": 38,
   "id": "a4de4066",
   "metadata": {},
   "outputs": [
    {
     "name": "stdout",
     "output_type": "stream",
     "text": [
      "UPSAMPLE LINEAR REGRESSION SCORES\n",
      "\n",
      "sensitivity(TPR): 0.8407643312101911\n",
      "specificity(TNR): 0.14285714285714285\n",
      "precision(PPV): 0.9565217391304348\n",
      "negative predictive value: 0.038461538461538464\n",
      "accuracy: 0.8109756097560976\n",
      "f1: 0.8949152542372882\n"
     ]
    }
   ],
   "source": [
    "print(\"UPSAMPLE LINEAR REGRESSION SCORES\\n\")\n",
    "\n",
    "lr_up_tpr = sensitivity(lr_upsample_matrix)\n",
    "print(\"sensitivity(TPR): \" + str(lr_up_tpr))\n",
    "\n",
    "lr_up_tnr = specificity(lr_upsample_matrix)\n",
    "print(\"specificity(TNR): \" + str(lr_up_tnr))\n",
    "\n",
    "lr_up_ppv = precision(lr_upsample_matrix)\n",
    "print(\"precision(PPV): \" + str(lr_up_ppv))\n",
    "\n",
    "lr_up_neg_predscore = neg_pred(lr_upsample_matrix)\n",
    "print(\"negative predictive value: \" + str(lr_up_neg_predscore))\n",
    "\n",
    "lr_up_acc = accuracy(lr_upsample_matrix)\n",
    "print(\"accuracy: \" + str(lr_up_acc))\n",
    "\n",
    "lr_up_f1 = f1(lr_upsample_matrix)\n",
    "print(\"f1: \" + str(lr_up_f1))"
   ]
  },
  {
   "cell_type": "markdown",
   "id": "93412cb4",
   "metadata": {},
   "source": [
    "#### KNN"
   ]
  },
  {
   "cell_type": "code",
   "execution_count": 39,
   "id": "7ca7ac58",
   "metadata": {},
   "outputs": [
    {
     "data": {
      "text/html": [
       "<style>#sk-container-id-8 {color: black;background-color: white;}#sk-container-id-8 pre{padding: 0;}#sk-container-id-8 div.sk-toggleable {background-color: white;}#sk-container-id-8 label.sk-toggleable__label {cursor: pointer;display: block;width: 100%;margin-bottom: 0;padding: 0.3em;box-sizing: border-box;text-align: center;}#sk-container-id-8 label.sk-toggleable__label-arrow:before {content: \"▸\";float: left;margin-right: 0.25em;color: #696969;}#sk-container-id-8 label.sk-toggleable__label-arrow:hover:before {color: black;}#sk-container-id-8 div.sk-estimator:hover label.sk-toggleable__label-arrow:before {color: black;}#sk-container-id-8 div.sk-toggleable__content {max-height: 0;max-width: 0;overflow: hidden;text-align: left;background-color: #f0f8ff;}#sk-container-id-8 div.sk-toggleable__content pre {margin: 0.2em;color: black;border-radius: 0.25em;background-color: #f0f8ff;}#sk-container-id-8 input.sk-toggleable__control:checked~div.sk-toggleable__content {max-height: 200px;max-width: 100%;overflow: auto;}#sk-container-id-8 input.sk-toggleable__control:checked~label.sk-toggleable__label-arrow:before {content: \"▾\";}#sk-container-id-8 div.sk-estimator input.sk-toggleable__control:checked~label.sk-toggleable__label {background-color: #d4ebff;}#sk-container-id-8 div.sk-label input.sk-toggleable__control:checked~label.sk-toggleable__label {background-color: #d4ebff;}#sk-container-id-8 input.sk-hidden--visually {border: 0;clip: rect(1px 1px 1px 1px);clip: rect(1px, 1px, 1px, 1px);height: 1px;margin: -1px;overflow: hidden;padding: 0;position: absolute;width: 1px;}#sk-container-id-8 div.sk-estimator {font-family: monospace;background-color: #f0f8ff;border: 1px dotted black;border-radius: 0.25em;box-sizing: border-box;margin-bottom: 0.5em;}#sk-container-id-8 div.sk-estimator:hover {background-color: #d4ebff;}#sk-container-id-8 div.sk-parallel-item::after {content: \"\";width: 100%;border-bottom: 1px solid gray;flex-grow: 1;}#sk-container-id-8 div.sk-label:hover label.sk-toggleable__label {background-color: #d4ebff;}#sk-container-id-8 div.sk-serial::before {content: \"\";position: absolute;border-left: 1px solid gray;box-sizing: border-box;top: 0;bottom: 0;left: 50%;z-index: 0;}#sk-container-id-8 div.sk-serial {display: flex;flex-direction: column;align-items: center;background-color: white;padding-right: 0.2em;padding-left: 0.2em;position: relative;}#sk-container-id-8 div.sk-item {position: relative;z-index: 1;}#sk-container-id-8 div.sk-parallel {display: flex;align-items: stretch;justify-content: center;background-color: white;position: relative;}#sk-container-id-8 div.sk-item::before, #sk-container-id-8 div.sk-parallel-item::before {content: \"\";position: absolute;border-left: 1px solid gray;box-sizing: border-box;top: 0;bottom: 0;left: 50%;z-index: -1;}#sk-container-id-8 div.sk-parallel-item {display: flex;flex-direction: column;z-index: 1;position: relative;background-color: white;}#sk-container-id-8 div.sk-parallel-item:first-child::after {align-self: flex-end;width: 50%;}#sk-container-id-8 div.sk-parallel-item:last-child::after {align-self: flex-start;width: 50%;}#sk-container-id-8 div.sk-parallel-item:only-child::after {width: 0;}#sk-container-id-8 div.sk-dashed-wrapped {border: 1px dashed gray;margin: 0 0.4em 0.5em 0.4em;box-sizing: border-box;padding-bottom: 0.4em;background-color: white;}#sk-container-id-8 div.sk-label label {font-family: monospace;font-weight: bold;display: inline-block;line-height: 1.2em;}#sk-container-id-8 div.sk-label-container {text-align: center;}#sk-container-id-8 div.sk-container {/* jupyter's `normalize.less` sets `[hidden] { display: none; }` but bootstrap.min.css set `[hidden] { display: none !important; }` so we also need the `!important` here to be able to override the default hidden behavior on the sphinx rendered scikit-learn.org. See: https://github.com/scikit-learn/scikit-learn/issues/21755 */display: inline-block !important;position: relative;}#sk-container-id-8 div.sk-text-repr-fallback {display: none;}</style><div id=\"sk-container-id-8\" class=\"sk-top-container\"><div class=\"sk-text-repr-fallback\"><pre>KNeighborsClassifier()</pre><b>In a Jupyter environment, please rerun this cell to show the HTML representation or trust the notebook. <br />On GitHub, the HTML representation is unable to render, please try loading this page with nbviewer.org.</b></div><div class=\"sk-container\" hidden><div class=\"sk-item\"><div class=\"sk-estimator sk-toggleable\"><input class=\"sk-toggleable__control sk-hidden--visually\" id=\"sk-estimator-id-8\" type=\"checkbox\" checked><label for=\"sk-estimator-id-8\" class=\"sk-toggleable__label sk-toggleable__label-arrow\">KNeighborsClassifier</label><div class=\"sk-toggleable__content\"><pre>KNeighborsClassifier()</pre></div></div></div></div></div>"
      ],
      "text/plain": [
       "KNeighborsClassifier()"
      ]
     },
     "execution_count": 39,
     "metadata": {},
     "output_type": "execute_result"
    }
   ],
   "source": [
    "knn = KNeighborsClassifier(n_neighbors = 5, metric = 'minkowski', p = 2)\n",
    "knn.fit(X_train_up, y_train_up)"
   ]
  },
  {
   "cell_type": "code",
   "execution_count": 40,
   "id": "9caded58",
   "metadata": {},
   "outputs": [
    {
     "data": {
      "text/plain": [
       "array([[144,  13],\n",
       "       [  6,   1]], dtype=int64)"
      ]
     },
     "execution_count": 40,
     "metadata": {},
     "output_type": "execute_result"
    }
   ],
   "source": [
    "knn_upsample_y_pred = knn.predict(X_test)\n",
    "knn_upsample_matrix = confusion_matrix(y_test, knn_upsample_y_pred)\n",
    "knn_upsample_matrix"
   ]
  },
  {
   "cell_type": "code",
   "execution_count": 41,
   "id": "58f1c56f",
   "metadata": {},
   "outputs": [
    {
     "name": "stdout",
     "output_type": "stream",
     "text": [
      "UPSAMPLE KNN SCORES\n",
      "\n",
      "sensitivity(TPR): 0.9171974522292994\n",
      "specificity(TNR): 0.14285714285714285\n",
      "precision(PPV): 0.96\n",
      "negative predictive value: 0.07142857142857142\n",
      "accuracy: 0.8841463414634146\n",
      "f1: 0.9381107491856677\n"
     ]
    }
   ],
   "source": [
    "print(\"UPSAMPLE KNN SCORES\\n\")\n",
    "\n",
    "knn_up_tpr = sensitivity(knn_upsample_matrix)\n",
    "print(\"sensitivity(TPR): \" + str(knn_up_tpr))\n",
    "\n",
    "knn_up_tnr = specificity(knn_upsample_matrix)\n",
    "print(\"specificity(TNR): \" + str(knn_up_tnr))\n",
    "\n",
    "knn_up_ppv = precision(knn_upsample_matrix)\n",
    "print(\"precision(PPV): \" + str(knn_up_ppv))\n",
    "\n",
    "knn_up_neg_predscore = neg_pred(knn_upsample_matrix)\n",
    "print(\"negative predictive value: \" + str(knn_up_neg_predscore))\n",
    "\n",
    "knn_up_acc = accuracy(knn_upsample_matrix)\n",
    "print(\"accuracy: \" + str(knn_up_acc))\n",
    "\n",
    "knn_up_f1 = f1(knn_upsample_matrix)\n",
    "print(\"f1: \" + str(knn_up_f1))"
   ]
  },
  {
   "cell_type": "markdown",
   "id": "858c16fe",
   "metadata": {},
   "source": [
    "#### SVC"
   ]
  },
  {
   "cell_type": "code",
   "execution_count": 42,
   "id": "903a72e3",
   "metadata": {},
   "outputs": [
    {
     "data": {
      "text/html": [
       "<style>#sk-container-id-9 {color: black;background-color: white;}#sk-container-id-9 pre{padding: 0;}#sk-container-id-9 div.sk-toggleable {background-color: white;}#sk-container-id-9 label.sk-toggleable__label {cursor: pointer;display: block;width: 100%;margin-bottom: 0;padding: 0.3em;box-sizing: border-box;text-align: center;}#sk-container-id-9 label.sk-toggleable__label-arrow:before {content: \"▸\";float: left;margin-right: 0.25em;color: #696969;}#sk-container-id-9 label.sk-toggleable__label-arrow:hover:before {color: black;}#sk-container-id-9 div.sk-estimator:hover label.sk-toggleable__label-arrow:before {color: black;}#sk-container-id-9 div.sk-toggleable__content {max-height: 0;max-width: 0;overflow: hidden;text-align: left;background-color: #f0f8ff;}#sk-container-id-9 div.sk-toggleable__content pre {margin: 0.2em;color: black;border-radius: 0.25em;background-color: #f0f8ff;}#sk-container-id-9 input.sk-toggleable__control:checked~div.sk-toggleable__content {max-height: 200px;max-width: 100%;overflow: auto;}#sk-container-id-9 input.sk-toggleable__control:checked~label.sk-toggleable__label-arrow:before {content: \"▾\";}#sk-container-id-9 div.sk-estimator input.sk-toggleable__control:checked~label.sk-toggleable__label {background-color: #d4ebff;}#sk-container-id-9 div.sk-label input.sk-toggleable__control:checked~label.sk-toggleable__label {background-color: #d4ebff;}#sk-container-id-9 input.sk-hidden--visually {border: 0;clip: rect(1px 1px 1px 1px);clip: rect(1px, 1px, 1px, 1px);height: 1px;margin: -1px;overflow: hidden;padding: 0;position: absolute;width: 1px;}#sk-container-id-9 div.sk-estimator {font-family: monospace;background-color: #f0f8ff;border: 1px dotted black;border-radius: 0.25em;box-sizing: border-box;margin-bottom: 0.5em;}#sk-container-id-9 div.sk-estimator:hover {background-color: #d4ebff;}#sk-container-id-9 div.sk-parallel-item::after {content: \"\";width: 100%;border-bottom: 1px solid gray;flex-grow: 1;}#sk-container-id-9 div.sk-label:hover label.sk-toggleable__label {background-color: #d4ebff;}#sk-container-id-9 div.sk-serial::before {content: \"\";position: absolute;border-left: 1px solid gray;box-sizing: border-box;top: 0;bottom: 0;left: 50%;z-index: 0;}#sk-container-id-9 div.sk-serial {display: flex;flex-direction: column;align-items: center;background-color: white;padding-right: 0.2em;padding-left: 0.2em;position: relative;}#sk-container-id-9 div.sk-item {position: relative;z-index: 1;}#sk-container-id-9 div.sk-parallel {display: flex;align-items: stretch;justify-content: center;background-color: white;position: relative;}#sk-container-id-9 div.sk-item::before, #sk-container-id-9 div.sk-parallel-item::before {content: \"\";position: absolute;border-left: 1px solid gray;box-sizing: border-box;top: 0;bottom: 0;left: 50%;z-index: -1;}#sk-container-id-9 div.sk-parallel-item {display: flex;flex-direction: column;z-index: 1;position: relative;background-color: white;}#sk-container-id-9 div.sk-parallel-item:first-child::after {align-self: flex-end;width: 50%;}#sk-container-id-9 div.sk-parallel-item:last-child::after {align-self: flex-start;width: 50%;}#sk-container-id-9 div.sk-parallel-item:only-child::after {width: 0;}#sk-container-id-9 div.sk-dashed-wrapped {border: 1px dashed gray;margin: 0 0.4em 0.5em 0.4em;box-sizing: border-box;padding-bottom: 0.4em;background-color: white;}#sk-container-id-9 div.sk-label label {font-family: monospace;font-weight: bold;display: inline-block;line-height: 1.2em;}#sk-container-id-9 div.sk-label-container {text-align: center;}#sk-container-id-9 div.sk-container {/* jupyter's `normalize.less` sets `[hidden] { display: none; }` but bootstrap.min.css set `[hidden] { display: none !important; }` so we also need the `!important` here to be able to override the default hidden behavior on the sphinx rendered scikit-learn.org. See: https://github.com/scikit-learn/scikit-learn/issues/21755 */display: inline-block !important;position: relative;}#sk-container-id-9 div.sk-text-repr-fallback {display: none;}</style><div id=\"sk-container-id-9\" class=\"sk-top-container\"><div class=\"sk-text-repr-fallback\"><pre>SVC(kernel=&#x27;linear&#x27;, random_state=0)</pre><b>In a Jupyter environment, please rerun this cell to show the HTML representation or trust the notebook. <br />On GitHub, the HTML representation is unable to render, please try loading this page with nbviewer.org.</b></div><div class=\"sk-container\" hidden><div class=\"sk-item\"><div class=\"sk-estimator sk-toggleable\"><input class=\"sk-toggleable__control sk-hidden--visually\" id=\"sk-estimator-id-9\" type=\"checkbox\" checked><label for=\"sk-estimator-id-9\" class=\"sk-toggleable__label sk-toggleable__label-arrow\">SVC</label><div class=\"sk-toggleable__content\"><pre>SVC(kernel=&#x27;linear&#x27;, random_state=0)</pre></div></div></div></div></div>"
      ],
      "text/plain": [
       "SVC(kernel='linear', random_state=0)"
      ]
     },
     "execution_count": 42,
     "metadata": {},
     "output_type": "execute_result"
    }
   ],
   "source": [
    "svc = SVC(kernel = 'linear', random_state = 0)\n",
    "svc.fit(X_train_up, y_train_up)"
   ]
  },
  {
   "cell_type": "code",
   "execution_count": 43,
   "id": "9429a619",
   "metadata": {},
   "outputs": [
    {
     "data": {
      "text/plain": [
       "array([[131,  26],\n",
       "       [  5,   2]], dtype=int64)"
      ]
     },
     "execution_count": 43,
     "metadata": {},
     "output_type": "execute_result"
    }
   ],
   "source": [
    "svc_upsample_y_pred = svc.predict(X_test)\n",
    "svc_upsample_matrix = confusion_matrix(y_test, svc_upsample_y_pred)\n",
    "svc_upsample_matrix"
   ]
  },
  {
   "cell_type": "code",
   "execution_count": 44,
   "id": "a93ee554",
   "metadata": {},
   "outputs": [
    {
     "name": "stdout",
     "output_type": "stream",
     "text": [
      "UPSAMPLE SVC SCORES\n",
      "\n",
      "sensitivity(TPR): 0.8343949044585988\n",
      "specificity(TNR): 0.2857142857142857\n",
      "precision(PPV): 0.9632352941176471\n",
      "negative predictive value: 0.07142857142857142\n",
      "accuracy: 0.8109756097560976\n",
      "f1: 0.89419795221843\n"
     ]
    }
   ],
   "source": [
    "print(\"UPSAMPLE SVC SCORES\\n\")\n",
    "\n",
    "svc_up_tpr = sensitivity(svc_upsample_matrix)\n",
    "print(\"sensitivity(TPR): \" + str(svc_up_tpr))\n",
    "\n",
    "svc_up_tnr = specificity(svc_upsample_matrix)\n",
    "print(\"specificity(TNR): \" + str(svc_up_tnr))\n",
    "\n",
    "svc_up_ppv = precision(svc_upsample_matrix)\n",
    "print(\"precision(PPV): \" + str(svc_up_ppv))\n",
    "\n",
    "svc_up_neg_predscore = neg_pred(svc_upsample_matrix)\n",
    "print(\"negative predictive value: \" + str(svc_up_neg_predscore))\n",
    "\n",
    "svc_up_acc = accuracy(svc_upsample_matrix)\n",
    "print(\"accuracy: \" + str(svc_up_acc))\n",
    "\n",
    "svc_up_f1 = f1(svc_upsample_matrix)\n",
    "print(\"f1: \" + str(svc_up_f1))"
   ]
  },
  {
   "cell_type": "markdown",
   "id": "0e8d82ef",
   "metadata": {},
   "source": [
    "#### Decision Tree"
   ]
  },
  {
   "cell_type": "code",
   "execution_count": 45,
   "id": "c7eb364c",
   "metadata": {},
   "outputs": [
    {
     "data": {
      "text/html": [
       "<style>#sk-container-id-10 {color: black;background-color: white;}#sk-container-id-10 pre{padding: 0;}#sk-container-id-10 div.sk-toggleable {background-color: white;}#sk-container-id-10 label.sk-toggleable__label {cursor: pointer;display: block;width: 100%;margin-bottom: 0;padding: 0.3em;box-sizing: border-box;text-align: center;}#sk-container-id-10 label.sk-toggleable__label-arrow:before {content: \"▸\";float: left;margin-right: 0.25em;color: #696969;}#sk-container-id-10 label.sk-toggleable__label-arrow:hover:before {color: black;}#sk-container-id-10 div.sk-estimator:hover label.sk-toggleable__label-arrow:before {color: black;}#sk-container-id-10 div.sk-toggleable__content {max-height: 0;max-width: 0;overflow: hidden;text-align: left;background-color: #f0f8ff;}#sk-container-id-10 div.sk-toggleable__content pre {margin: 0.2em;color: black;border-radius: 0.25em;background-color: #f0f8ff;}#sk-container-id-10 input.sk-toggleable__control:checked~div.sk-toggleable__content {max-height: 200px;max-width: 100%;overflow: auto;}#sk-container-id-10 input.sk-toggleable__control:checked~label.sk-toggleable__label-arrow:before {content: \"▾\";}#sk-container-id-10 div.sk-estimator input.sk-toggleable__control:checked~label.sk-toggleable__label {background-color: #d4ebff;}#sk-container-id-10 div.sk-label input.sk-toggleable__control:checked~label.sk-toggleable__label {background-color: #d4ebff;}#sk-container-id-10 input.sk-hidden--visually {border: 0;clip: rect(1px 1px 1px 1px);clip: rect(1px, 1px, 1px, 1px);height: 1px;margin: -1px;overflow: hidden;padding: 0;position: absolute;width: 1px;}#sk-container-id-10 div.sk-estimator {font-family: monospace;background-color: #f0f8ff;border: 1px dotted black;border-radius: 0.25em;box-sizing: border-box;margin-bottom: 0.5em;}#sk-container-id-10 div.sk-estimator:hover {background-color: #d4ebff;}#sk-container-id-10 div.sk-parallel-item::after {content: \"\";width: 100%;border-bottom: 1px solid gray;flex-grow: 1;}#sk-container-id-10 div.sk-label:hover label.sk-toggleable__label {background-color: #d4ebff;}#sk-container-id-10 div.sk-serial::before {content: \"\";position: absolute;border-left: 1px solid gray;box-sizing: border-box;top: 0;bottom: 0;left: 50%;z-index: 0;}#sk-container-id-10 div.sk-serial {display: flex;flex-direction: column;align-items: center;background-color: white;padding-right: 0.2em;padding-left: 0.2em;position: relative;}#sk-container-id-10 div.sk-item {position: relative;z-index: 1;}#sk-container-id-10 div.sk-parallel {display: flex;align-items: stretch;justify-content: center;background-color: white;position: relative;}#sk-container-id-10 div.sk-item::before, #sk-container-id-10 div.sk-parallel-item::before {content: \"\";position: absolute;border-left: 1px solid gray;box-sizing: border-box;top: 0;bottom: 0;left: 50%;z-index: -1;}#sk-container-id-10 div.sk-parallel-item {display: flex;flex-direction: column;z-index: 1;position: relative;background-color: white;}#sk-container-id-10 div.sk-parallel-item:first-child::after {align-self: flex-end;width: 50%;}#sk-container-id-10 div.sk-parallel-item:last-child::after {align-self: flex-start;width: 50%;}#sk-container-id-10 div.sk-parallel-item:only-child::after {width: 0;}#sk-container-id-10 div.sk-dashed-wrapped {border: 1px dashed gray;margin: 0 0.4em 0.5em 0.4em;box-sizing: border-box;padding-bottom: 0.4em;background-color: white;}#sk-container-id-10 div.sk-label label {font-family: monospace;font-weight: bold;display: inline-block;line-height: 1.2em;}#sk-container-id-10 div.sk-label-container {text-align: center;}#sk-container-id-10 div.sk-container {/* jupyter's `normalize.less` sets `[hidden] { display: none; }` but bootstrap.min.css set `[hidden] { display: none !important; }` so we also need the `!important` here to be able to override the default hidden behavior on the sphinx rendered scikit-learn.org. See: https://github.com/scikit-learn/scikit-learn/issues/21755 */display: inline-block !important;position: relative;}#sk-container-id-10 div.sk-text-repr-fallback {display: none;}</style><div id=\"sk-container-id-10\" class=\"sk-top-container\"><div class=\"sk-text-repr-fallback\"><pre>DecisionTreeClassifier(criterion=&#x27;entropy&#x27;, random_state=0)</pre><b>In a Jupyter environment, please rerun this cell to show the HTML representation or trust the notebook. <br />On GitHub, the HTML representation is unable to render, please try loading this page with nbviewer.org.</b></div><div class=\"sk-container\" hidden><div class=\"sk-item\"><div class=\"sk-estimator sk-toggleable\"><input class=\"sk-toggleable__control sk-hidden--visually\" id=\"sk-estimator-id-10\" type=\"checkbox\" checked><label for=\"sk-estimator-id-10\" class=\"sk-toggleable__label sk-toggleable__label-arrow\">DecisionTreeClassifier</label><div class=\"sk-toggleable__content\"><pre>DecisionTreeClassifier(criterion=&#x27;entropy&#x27;, random_state=0)</pre></div></div></div></div></div>"
      ],
      "text/plain": [
       "DecisionTreeClassifier(criterion='entropy', random_state=0)"
      ]
     },
     "execution_count": 45,
     "metadata": {},
     "output_type": "execute_result"
    }
   ],
   "source": [
    "dt = DecisionTreeClassifier(criterion = 'entropy', random_state = 0)\n",
    "dt.fit(X_train_up, y_train_up)"
   ]
  },
  {
   "cell_type": "code",
   "execution_count": 46,
   "id": "8303ab76",
   "metadata": {},
   "outputs": [
    {
     "data": {
      "text/plain": [
       "array([[153,   4],\n",
       "       [  7,   0]], dtype=int64)"
      ]
     },
     "execution_count": 46,
     "metadata": {},
     "output_type": "execute_result"
    }
   ],
   "source": [
    "dt_upsample_y_pred = dt.predict(X_test)\n",
    "dt_upsample_matrix = confusion_matrix(y_test, dt_upsample_y_pred)\n",
    "dt_upsample_matrix"
   ]
  },
  {
   "cell_type": "code",
   "execution_count": 47,
   "id": "0a95c268",
   "metadata": {},
   "outputs": [
    {
     "name": "stdout",
     "output_type": "stream",
     "text": [
      "UPSAMPLE DECISION TREE SCORES\n",
      "\n",
      "sensitivity(TPR): 0.9745222929936306\n",
      "specificity(TNR): 0.0\n",
      "precision(PPV): 0.95625\n",
      "negative predictive value: 0.0\n",
      "accuracy: 0.9329268292682927\n",
      "f1: 0.9652996845425867\n"
     ]
    }
   ],
   "source": [
    "print(\"UPSAMPLE DECISION TREE SCORES\\n\")\n",
    "\n",
    "dt_up_tpr = sensitivity(dt_upsample_matrix)\n",
    "print(\"sensitivity(TPR): \" + str(dt_up_tpr))\n",
    "\n",
    "dt_up_tnr = specificity(dt_upsample_matrix)\n",
    "print(\"specificity(TNR): \" + str(dt_up_tnr))\n",
    "\n",
    "dt_up_ppv = precision(dt_upsample_matrix)\n",
    "print(\"precision(PPV): \" + str(dt_up_ppv))\n",
    "\n",
    "dt_up_neg_predscore = neg_pred(dt_upsample_matrix)\n",
    "print(\"negative predictive value: \" + str(dt_up_neg_predscore))\n",
    "\n",
    "dt_up_acc = accuracy(dt_upsample_matrix)\n",
    "print(\"accuracy: \" + str(dt_up_acc))\n",
    "\n",
    "dt_up_f1 = f1(dt_upsample_matrix)\n",
    "print(\"f1: \" + str(dt_up_f1))"
   ]
  },
  {
   "cell_type": "markdown",
   "id": "9423bc59",
   "metadata": {},
   "source": [
    "#### Random Forest"
   ]
  },
  {
   "cell_type": "code",
   "execution_count": 48,
   "id": "0ea15893",
   "metadata": {},
   "outputs": [
    {
     "data": {
      "text/html": [
       "<style>#sk-container-id-11 {color: black;background-color: white;}#sk-container-id-11 pre{padding: 0;}#sk-container-id-11 div.sk-toggleable {background-color: white;}#sk-container-id-11 label.sk-toggleable__label {cursor: pointer;display: block;width: 100%;margin-bottom: 0;padding: 0.3em;box-sizing: border-box;text-align: center;}#sk-container-id-11 label.sk-toggleable__label-arrow:before {content: \"▸\";float: left;margin-right: 0.25em;color: #696969;}#sk-container-id-11 label.sk-toggleable__label-arrow:hover:before {color: black;}#sk-container-id-11 div.sk-estimator:hover label.sk-toggleable__label-arrow:before {color: black;}#sk-container-id-11 div.sk-toggleable__content {max-height: 0;max-width: 0;overflow: hidden;text-align: left;background-color: #f0f8ff;}#sk-container-id-11 div.sk-toggleable__content pre {margin: 0.2em;color: black;border-radius: 0.25em;background-color: #f0f8ff;}#sk-container-id-11 input.sk-toggleable__control:checked~div.sk-toggleable__content {max-height: 200px;max-width: 100%;overflow: auto;}#sk-container-id-11 input.sk-toggleable__control:checked~label.sk-toggleable__label-arrow:before {content: \"▾\";}#sk-container-id-11 div.sk-estimator input.sk-toggleable__control:checked~label.sk-toggleable__label {background-color: #d4ebff;}#sk-container-id-11 div.sk-label input.sk-toggleable__control:checked~label.sk-toggleable__label {background-color: #d4ebff;}#sk-container-id-11 input.sk-hidden--visually {border: 0;clip: rect(1px 1px 1px 1px);clip: rect(1px, 1px, 1px, 1px);height: 1px;margin: -1px;overflow: hidden;padding: 0;position: absolute;width: 1px;}#sk-container-id-11 div.sk-estimator {font-family: monospace;background-color: #f0f8ff;border: 1px dotted black;border-radius: 0.25em;box-sizing: border-box;margin-bottom: 0.5em;}#sk-container-id-11 div.sk-estimator:hover {background-color: #d4ebff;}#sk-container-id-11 div.sk-parallel-item::after {content: \"\";width: 100%;border-bottom: 1px solid gray;flex-grow: 1;}#sk-container-id-11 div.sk-label:hover label.sk-toggleable__label {background-color: #d4ebff;}#sk-container-id-11 div.sk-serial::before {content: \"\";position: absolute;border-left: 1px solid gray;box-sizing: border-box;top: 0;bottom: 0;left: 50%;z-index: 0;}#sk-container-id-11 div.sk-serial {display: flex;flex-direction: column;align-items: center;background-color: white;padding-right: 0.2em;padding-left: 0.2em;position: relative;}#sk-container-id-11 div.sk-item {position: relative;z-index: 1;}#sk-container-id-11 div.sk-parallel {display: flex;align-items: stretch;justify-content: center;background-color: white;position: relative;}#sk-container-id-11 div.sk-item::before, #sk-container-id-11 div.sk-parallel-item::before {content: \"\";position: absolute;border-left: 1px solid gray;box-sizing: border-box;top: 0;bottom: 0;left: 50%;z-index: -1;}#sk-container-id-11 div.sk-parallel-item {display: flex;flex-direction: column;z-index: 1;position: relative;background-color: white;}#sk-container-id-11 div.sk-parallel-item:first-child::after {align-self: flex-end;width: 50%;}#sk-container-id-11 div.sk-parallel-item:last-child::after {align-self: flex-start;width: 50%;}#sk-container-id-11 div.sk-parallel-item:only-child::after {width: 0;}#sk-container-id-11 div.sk-dashed-wrapped {border: 1px dashed gray;margin: 0 0.4em 0.5em 0.4em;box-sizing: border-box;padding-bottom: 0.4em;background-color: white;}#sk-container-id-11 div.sk-label label {font-family: monospace;font-weight: bold;display: inline-block;line-height: 1.2em;}#sk-container-id-11 div.sk-label-container {text-align: center;}#sk-container-id-11 div.sk-container {/* jupyter's `normalize.less` sets `[hidden] { display: none; }` but bootstrap.min.css set `[hidden] { display: none !important; }` so we also need the `!important` here to be able to override the default hidden behavior on the sphinx rendered scikit-learn.org. See: https://github.com/scikit-learn/scikit-learn/issues/21755 */display: inline-block !important;position: relative;}#sk-container-id-11 div.sk-text-repr-fallback {display: none;}</style><div id=\"sk-container-id-11\" class=\"sk-top-container\"><div class=\"sk-text-repr-fallback\"><pre>RandomForestClassifier(max_depth=2, random_state=0)</pre><b>In a Jupyter environment, please rerun this cell to show the HTML representation or trust the notebook. <br />On GitHub, the HTML representation is unable to render, please try loading this page with nbviewer.org.</b></div><div class=\"sk-container\" hidden><div class=\"sk-item\"><div class=\"sk-estimator sk-toggleable\"><input class=\"sk-toggleable__control sk-hidden--visually\" id=\"sk-estimator-id-11\" type=\"checkbox\" checked><label for=\"sk-estimator-id-11\" class=\"sk-toggleable__label sk-toggleable__label-arrow\">RandomForestClassifier</label><div class=\"sk-toggleable__content\"><pre>RandomForestClassifier(max_depth=2, random_state=0)</pre></div></div></div></div></div>"
      ],
      "text/plain": [
       "RandomForestClassifier(max_depth=2, random_state=0)"
      ]
     },
     "execution_count": 48,
     "metadata": {},
     "output_type": "execute_result"
    }
   ],
   "source": [
    "rf = RandomForestClassifier(max_depth = 2, random_state = 0)\n",
    "rf.fit(X_train_up, y_train_up)"
   ]
  },
  {
   "cell_type": "code",
   "execution_count": 49,
   "id": "0c6c0bbf",
   "metadata": {},
   "outputs": [
    {
     "data": {
      "text/plain": [
       "array([[145,  12],\n",
       "       [  6,   1]], dtype=int64)"
      ]
     },
     "execution_count": 49,
     "metadata": {},
     "output_type": "execute_result"
    }
   ],
   "source": [
    "rf_upsample_y_pred = rf.predict(X_test)\n",
    "\n",
    "rf_upsample_matrix = confusion_matrix(y_test, rf_upsample_y_pred)\n",
    "rf_upsample_matrix"
   ]
  },
  {
   "cell_type": "code",
   "execution_count": 50,
   "id": "b677be0a",
   "metadata": {},
   "outputs": [
    {
     "name": "stdout",
     "output_type": "stream",
     "text": [
      "UPSAMPLE RANDOM FOREST SCORES\n",
      "\n",
      "sensitivity (TPR): 0.9235668789808917\n",
      "specificity (TNR): 0.14285714285714285\n",
      "precision (PPV): 0.9602649006622517\n",
      "negative predictive value: 0.07692307692307693\n",
      "accuracy: 0.8902439024390244\n",
      "f1: 0.9415584415584416\n"
     ]
    }
   ],
   "source": [
    "print(\"UPSAMPLE RANDOM FOREST SCORES\\n\")\n",
    "\n",
    "rf_up_tpr = sensitivity(rf_upsample_matrix)\n",
    "print(\"sensitivity (TPR): \" + str(rf_up_tpr))\n",
    "\n",
    "rf_up_tnr = specificity(rf_upsample_matrix)\n",
    "print(\"specificity (TNR): \" + str(rf_up_tnr))\n",
    "\n",
    "rf_up_ppv = precision(rf_upsample_matrix)\n",
    "print(\"precision (PPV): \" + str(rf_up_ppv))\n",
    "\n",
    "rf_up_neg_predscore = neg_pred(rf_upsample_matrix)\n",
    "print(\"negative predictive value: \" + str(rf_up_neg_predscore))\n",
    "\n",
    "rf_up_acc = accuracy(rf_upsample_matrix)\n",
    "print(\"accuracy: \" + str(rf_up_acc))\n",
    "\n",
    "rf_up_f1 = f1(rf_upsample_matrix)\n",
    "print(\"f1: \" + str(rf_up_f1))"
   ]
  },
  {
   "cell_type": "markdown",
   "id": "fdc9c0d5",
   "metadata": {},
   "source": [
    "## Undersampling majority class (downsample)"
   ]
  },
  {
   "cell_type": "markdown",
   "id": "e71a75c6",
   "metadata": {},
   "source": [
    "### Preparing Downsampled Dataset"
   ]
  },
  {
   "cell_type": "code",
   "execution_count": 51,
   "id": "67c85019",
   "metadata": {},
   "outputs": [
    {
     "data": {
      "text/plain": [
       "0    76\n",
       "1    19\n",
       "Name: recurrence_y, dtype: int64"
      ]
     },
     "execution_count": 51,
     "metadata": {},
     "output_type": "execute_result"
    }
   ],
   "source": [
    "no_recur_downsampled = resample(no_recur, replace = False, n_samples = len(recur) * 4, random_state = 27)\n",
    "\n",
    "downsampled = pd.concat([no_recur_downsampled, recur])\n",
    "downsampled.recurrence_y.value_counts()"
   ]
  },
  {
   "cell_type": "code",
   "execution_count": 52,
   "id": "70d58761",
   "metadata": {},
   "outputs": [],
   "source": [
    "# downsample training datasets (note: still using X_test and y_test)\n",
    "y_train_down = downsampled.recurrence_y\n",
    "X_train_down = downsampled.drop('recurrence_y', axis=1)"
   ]
  },
  {
   "cell_type": "markdown",
   "id": "4023cd6a",
   "metadata": {},
   "source": [
    "### Testing Models with Downsampled Dataset "
   ]
  },
  {
   "cell_type": "markdown",
   "id": "c20a71ae",
   "metadata": {},
   "source": [
    "#### Logistic Regression"
   ]
  },
  {
   "cell_type": "code",
   "execution_count": 53,
   "id": "52d7a9b5",
   "metadata": {},
   "outputs": [
    {
     "data": {
      "text/html": [
       "<style>#sk-container-id-12 {color: black;background-color: white;}#sk-container-id-12 pre{padding: 0;}#sk-container-id-12 div.sk-toggleable {background-color: white;}#sk-container-id-12 label.sk-toggleable__label {cursor: pointer;display: block;width: 100%;margin-bottom: 0;padding: 0.3em;box-sizing: border-box;text-align: center;}#sk-container-id-12 label.sk-toggleable__label-arrow:before {content: \"▸\";float: left;margin-right: 0.25em;color: #696969;}#sk-container-id-12 label.sk-toggleable__label-arrow:hover:before {color: black;}#sk-container-id-12 div.sk-estimator:hover label.sk-toggleable__label-arrow:before {color: black;}#sk-container-id-12 div.sk-toggleable__content {max-height: 0;max-width: 0;overflow: hidden;text-align: left;background-color: #f0f8ff;}#sk-container-id-12 div.sk-toggleable__content pre {margin: 0.2em;color: black;border-radius: 0.25em;background-color: #f0f8ff;}#sk-container-id-12 input.sk-toggleable__control:checked~div.sk-toggleable__content {max-height: 200px;max-width: 100%;overflow: auto;}#sk-container-id-12 input.sk-toggleable__control:checked~label.sk-toggleable__label-arrow:before {content: \"▾\";}#sk-container-id-12 div.sk-estimator input.sk-toggleable__control:checked~label.sk-toggleable__label {background-color: #d4ebff;}#sk-container-id-12 div.sk-label input.sk-toggleable__control:checked~label.sk-toggleable__label {background-color: #d4ebff;}#sk-container-id-12 input.sk-hidden--visually {border: 0;clip: rect(1px 1px 1px 1px);clip: rect(1px, 1px, 1px, 1px);height: 1px;margin: -1px;overflow: hidden;padding: 0;position: absolute;width: 1px;}#sk-container-id-12 div.sk-estimator {font-family: monospace;background-color: #f0f8ff;border: 1px dotted black;border-radius: 0.25em;box-sizing: border-box;margin-bottom: 0.5em;}#sk-container-id-12 div.sk-estimator:hover {background-color: #d4ebff;}#sk-container-id-12 div.sk-parallel-item::after {content: \"\";width: 100%;border-bottom: 1px solid gray;flex-grow: 1;}#sk-container-id-12 div.sk-label:hover label.sk-toggleable__label {background-color: #d4ebff;}#sk-container-id-12 div.sk-serial::before {content: \"\";position: absolute;border-left: 1px solid gray;box-sizing: border-box;top: 0;bottom: 0;left: 50%;z-index: 0;}#sk-container-id-12 div.sk-serial {display: flex;flex-direction: column;align-items: center;background-color: white;padding-right: 0.2em;padding-left: 0.2em;position: relative;}#sk-container-id-12 div.sk-item {position: relative;z-index: 1;}#sk-container-id-12 div.sk-parallel {display: flex;align-items: stretch;justify-content: center;background-color: white;position: relative;}#sk-container-id-12 div.sk-item::before, #sk-container-id-12 div.sk-parallel-item::before {content: \"\";position: absolute;border-left: 1px solid gray;box-sizing: border-box;top: 0;bottom: 0;left: 50%;z-index: -1;}#sk-container-id-12 div.sk-parallel-item {display: flex;flex-direction: column;z-index: 1;position: relative;background-color: white;}#sk-container-id-12 div.sk-parallel-item:first-child::after {align-self: flex-end;width: 50%;}#sk-container-id-12 div.sk-parallel-item:last-child::after {align-self: flex-start;width: 50%;}#sk-container-id-12 div.sk-parallel-item:only-child::after {width: 0;}#sk-container-id-12 div.sk-dashed-wrapped {border: 1px dashed gray;margin: 0 0.4em 0.5em 0.4em;box-sizing: border-box;padding-bottom: 0.4em;background-color: white;}#sk-container-id-12 div.sk-label label {font-family: monospace;font-weight: bold;display: inline-block;line-height: 1.2em;}#sk-container-id-12 div.sk-label-container {text-align: center;}#sk-container-id-12 div.sk-container {/* jupyter's `normalize.less` sets `[hidden] { display: none; }` but bootstrap.min.css set `[hidden] { display: none !important; }` so we also need the `!important` here to be able to override the default hidden behavior on the sphinx rendered scikit-learn.org. See: https://github.com/scikit-learn/scikit-learn/issues/21755 */display: inline-block !important;position: relative;}#sk-container-id-12 div.sk-text-repr-fallback {display: none;}</style><div id=\"sk-container-id-12\" class=\"sk-top-container\"><div class=\"sk-text-repr-fallback\"><pre>LogisticRegression(random_state=0)</pre><b>In a Jupyter environment, please rerun this cell to show the HTML representation or trust the notebook. <br />On GitHub, the HTML representation is unable to render, please try loading this page with nbviewer.org.</b></div><div class=\"sk-container\" hidden><div class=\"sk-item\"><div class=\"sk-estimator sk-toggleable\"><input class=\"sk-toggleable__control sk-hidden--visually\" id=\"sk-estimator-id-12\" type=\"checkbox\" checked><label for=\"sk-estimator-id-12\" class=\"sk-toggleable__label sk-toggleable__label-arrow\">LogisticRegression</label><div class=\"sk-toggleable__content\"><pre>LogisticRegression(random_state=0)</pre></div></div></div></div></div>"
      ],
      "text/plain": [
       "LogisticRegression(random_state=0)"
      ]
     },
     "execution_count": 53,
     "metadata": {},
     "output_type": "execute_result"
    }
   ],
   "source": [
    "lr = LogisticRegression(random_state = 0)\n",
    "lr.fit(X_train_down, y_train_down)"
   ]
  },
  {
   "cell_type": "code",
   "execution_count": 54,
   "id": "9152475e",
   "metadata": {},
   "outputs": [
    {
     "data": {
      "text/plain": [
       "array([[90, 67],\n",
       "       [ 4,  3]], dtype=int64)"
      ]
     },
     "execution_count": 54,
     "metadata": {},
     "output_type": "execute_result"
    }
   ],
   "source": [
    "lr_downsample_y_pred = lr.predict(X_test)\n",
    "\n",
    "lr_downsample_matrix = confusion_matrix(y_test, lr_downsample_y_pred)\n",
    "lr_downsample_matrix"
   ]
  },
  {
   "cell_type": "code",
   "execution_count": 55,
   "id": "db3c4a43",
   "metadata": {},
   "outputs": [
    {
     "name": "stdout",
     "output_type": "stream",
     "text": [
      "DOWNSAMPLE LOGISTIC REGRESSION SCORES\n",
      "\n",
      "sensitivity (TPR): 0.5732484076433121\n",
      "specificity (TNR): 0.42857142857142855\n",
      "precision (PPV): 0.9574468085106383\n",
      "negative predictive value: 0.04285714285714286\n",
      "accuracy: 0.5670731707317073\n",
      "f1: 0.7171314741035857\n"
     ]
    }
   ],
   "source": [
    "print(\"DOWNSAMPLE LOGISTIC REGRESSION SCORES\\n\")\n",
    "\n",
    "lr_down_tpr = sensitivity(lr_downsample_matrix)\n",
    "print(\"sensitivity (TPR): \" + str(lr_down_tpr))\n",
    "\n",
    "lr_down_tnr = specificity(lr_downsample_matrix)\n",
    "print(\"specificity (TNR): \" + str(lr_down_tnr))\n",
    "\n",
    "lr_down_ppv = precision(lr_downsample_matrix)\n",
    "print(\"precision (PPV): \" + str(lr_down_ppv))\n",
    "\n",
    "lr_down_neg_predscore = neg_pred(lr_downsample_matrix)\n",
    "print(\"negative predictive value: \" + str(lr_down_neg_predscore))\n",
    "\n",
    "lr_down_acc = accuracy(lr_downsample_matrix)\n",
    "print(\"accuracy: \" + str(lr_down_acc))\n",
    "\n",
    "lr_down_f1 = f1(lr_downsample_matrix)\n",
    "print(\"f1: \" + str(lr_down_f1))"
   ]
  },
  {
   "cell_type": "markdown",
   "id": "36200f72",
   "metadata": {},
   "source": [
    "#### KNN"
   ]
  },
  {
   "cell_type": "code",
   "execution_count": 56,
   "id": "8a753051",
   "metadata": {},
   "outputs": [
    {
     "data": {
      "text/html": [
       "<style>#sk-container-id-13 {color: black;background-color: white;}#sk-container-id-13 pre{padding: 0;}#sk-container-id-13 div.sk-toggleable {background-color: white;}#sk-container-id-13 label.sk-toggleable__label {cursor: pointer;display: block;width: 100%;margin-bottom: 0;padding: 0.3em;box-sizing: border-box;text-align: center;}#sk-container-id-13 label.sk-toggleable__label-arrow:before {content: \"▸\";float: left;margin-right: 0.25em;color: #696969;}#sk-container-id-13 label.sk-toggleable__label-arrow:hover:before {color: black;}#sk-container-id-13 div.sk-estimator:hover label.sk-toggleable__label-arrow:before {color: black;}#sk-container-id-13 div.sk-toggleable__content {max-height: 0;max-width: 0;overflow: hidden;text-align: left;background-color: #f0f8ff;}#sk-container-id-13 div.sk-toggleable__content pre {margin: 0.2em;color: black;border-radius: 0.25em;background-color: #f0f8ff;}#sk-container-id-13 input.sk-toggleable__control:checked~div.sk-toggleable__content {max-height: 200px;max-width: 100%;overflow: auto;}#sk-container-id-13 input.sk-toggleable__control:checked~label.sk-toggleable__label-arrow:before {content: \"▾\";}#sk-container-id-13 div.sk-estimator input.sk-toggleable__control:checked~label.sk-toggleable__label {background-color: #d4ebff;}#sk-container-id-13 div.sk-label input.sk-toggleable__control:checked~label.sk-toggleable__label {background-color: #d4ebff;}#sk-container-id-13 input.sk-hidden--visually {border: 0;clip: rect(1px 1px 1px 1px);clip: rect(1px, 1px, 1px, 1px);height: 1px;margin: -1px;overflow: hidden;padding: 0;position: absolute;width: 1px;}#sk-container-id-13 div.sk-estimator {font-family: monospace;background-color: #f0f8ff;border: 1px dotted black;border-radius: 0.25em;box-sizing: border-box;margin-bottom: 0.5em;}#sk-container-id-13 div.sk-estimator:hover {background-color: #d4ebff;}#sk-container-id-13 div.sk-parallel-item::after {content: \"\";width: 100%;border-bottom: 1px solid gray;flex-grow: 1;}#sk-container-id-13 div.sk-label:hover label.sk-toggleable__label {background-color: #d4ebff;}#sk-container-id-13 div.sk-serial::before {content: \"\";position: absolute;border-left: 1px solid gray;box-sizing: border-box;top: 0;bottom: 0;left: 50%;z-index: 0;}#sk-container-id-13 div.sk-serial {display: flex;flex-direction: column;align-items: center;background-color: white;padding-right: 0.2em;padding-left: 0.2em;position: relative;}#sk-container-id-13 div.sk-item {position: relative;z-index: 1;}#sk-container-id-13 div.sk-parallel {display: flex;align-items: stretch;justify-content: center;background-color: white;position: relative;}#sk-container-id-13 div.sk-item::before, #sk-container-id-13 div.sk-parallel-item::before {content: \"\";position: absolute;border-left: 1px solid gray;box-sizing: border-box;top: 0;bottom: 0;left: 50%;z-index: -1;}#sk-container-id-13 div.sk-parallel-item {display: flex;flex-direction: column;z-index: 1;position: relative;background-color: white;}#sk-container-id-13 div.sk-parallel-item:first-child::after {align-self: flex-end;width: 50%;}#sk-container-id-13 div.sk-parallel-item:last-child::after {align-self: flex-start;width: 50%;}#sk-container-id-13 div.sk-parallel-item:only-child::after {width: 0;}#sk-container-id-13 div.sk-dashed-wrapped {border: 1px dashed gray;margin: 0 0.4em 0.5em 0.4em;box-sizing: border-box;padding-bottom: 0.4em;background-color: white;}#sk-container-id-13 div.sk-label label {font-family: monospace;font-weight: bold;display: inline-block;line-height: 1.2em;}#sk-container-id-13 div.sk-label-container {text-align: center;}#sk-container-id-13 div.sk-container {/* jupyter's `normalize.less` sets `[hidden] { display: none; }` but bootstrap.min.css set `[hidden] { display: none !important; }` so we also need the `!important` here to be able to override the default hidden behavior on the sphinx rendered scikit-learn.org. See: https://github.com/scikit-learn/scikit-learn/issues/21755 */display: inline-block !important;position: relative;}#sk-container-id-13 div.sk-text-repr-fallback {display: none;}</style><div id=\"sk-container-id-13\" class=\"sk-top-container\"><div class=\"sk-text-repr-fallback\"><pre>KNeighborsClassifier()</pre><b>In a Jupyter environment, please rerun this cell to show the HTML representation or trust the notebook. <br />On GitHub, the HTML representation is unable to render, please try loading this page with nbviewer.org.</b></div><div class=\"sk-container\" hidden><div class=\"sk-item\"><div class=\"sk-estimator sk-toggleable\"><input class=\"sk-toggleable__control sk-hidden--visually\" id=\"sk-estimator-id-13\" type=\"checkbox\" checked><label for=\"sk-estimator-id-13\" class=\"sk-toggleable__label sk-toggleable__label-arrow\">KNeighborsClassifier</label><div class=\"sk-toggleable__content\"><pre>KNeighborsClassifier()</pre></div></div></div></div></div>"
      ],
      "text/plain": [
       "KNeighborsClassifier()"
      ]
     },
     "execution_count": 56,
     "metadata": {},
     "output_type": "execute_result"
    }
   ],
   "source": [
    "knn = KNeighborsClassifier(n_neighbors = 5, metric = 'minkowski', p = 2)\n",
    "knn.fit(X_train_down, y_train_down)"
   ]
  },
  {
   "cell_type": "code",
   "execution_count": 57,
   "id": "11a8588e",
   "metadata": {},
   "outputs": [
    {
     "data": {
      "text/plain": [
       "array([[157,   0],\n",
       "       [  7,   0]], dtype=int64)"
      ]
     },
     "execution_count": 57,
     "metadata": {},
     "output_type": "execute_result"
    }
   ],
   "source": [
    "knn_downsample_y_pred = knn.predict(X_test)\n",
    "\n",
    "knn_downsample_matrix = confusion_matrix(y_test, knn_downsample_y_pred)\n",
    "knn_downsample_matrix"
   ]
  },
  {
   "cell_type": "code",
   "execution_count": 58,
   "id": "208c5f55",
   "metadata": {},
   "outputs": [
    {
     "name": "stdout",
     "output_type": "stream",
     "text": [
      "DOWNSAMPLE KNN SCORES\n",
      "\n",
      "sensitivity (TPR): 1.0\n",
      "specificity (TNR): 0.0\n",
      "precision (PPV): 0.9573170731707317\n",
      "negative predictive value: nan\n",
      "accuracy: 0.9573170731707317\n",
      "f1: 0.9781931464174455\n"
     ]
    }
   ],
   "source": [
    "print(\"DOWNSAMPLE KNN SCORES\\n\")\n",
    "\n",
    "knn_down_tpr = sensitivity(knn_downsample_matrix)\n",
    "print(\"sensitivity (TPR): \" + str(knn_down_tpr))\n",
    "\n",
    "knn_down_tnr = specificity(knn_downsample_matrix)\n",
    "print(\"specificity (TNR): \" + str(knn_down_tnr))\n",
    "\n",
    "knn_down_ppv = precision(knn_downsample_matrix)\n",
    "print(\"precision (PPV): \" + str(knn_down_ppv))\n",
    "\n",
    "knn_down_neg_predscore = neg_pred(knn_downsample_matrix)\n",
    "print(\"negative predictive value: \" + str(knn_down_neg_predscore))\n",
    "\n",
    "knn_down_acc = accuracy(knn_downsample_matrix)\n",
    "print(\"accuracy: \" + str(knn_down_acc))\n",
    "\n",
    "knn_down_f1 = f1(knn_downsample_matrix)\n",
    "print(\"f1: \" + str(knn_down_f1))"
   ]
  },
  {
   "cell_type": "markdown",
   "id": "80d10284",
   "metadata": {},
   "source": [
    "#### SVC"
   ]
  },
  {
   "cell_type": "code",
   "execution_count": 59,
   "id": "2992c287",
   "metadata": {},
   "outputs": [],
   "source": [
    "# svc = SVC(kernel = 'linear', random_state = 0)\n",
    "# svc.fit(X_train_down, y_train_down)"
   ]
  },
  {
   "cell_type": "code",
   "execution_count": 60,
   "id": "58338c13",
   "metadata": {},
   "outputs": [],
   "source": [
    "# svc_downsample_y_pred = svc.predict(X_test)\n",
    "\n",
    "# svc_downsample_matrix = confusion_matrix(y_test, svc_downsample_y_pred)\n",
    "# svc_downsample_matrix"
   ]
  },
  {
   "cell_type": "code",
   "execution_count": 61,
   "id": "728fae27",
   "metadata": {},
   "outputs": [],
   "source": [
    "# print(\"DOWNSAMPLE SVC SCORES\\n\")\n",
    "\n",
    "# svc_down_tpr = sensitivity(svc_downsample_matrix)\n",
    "# print(\"sensitivity (TPR): \" + str(svc_down_tpr))\n",
    "\n",
    "# svc_down_tnr = specificity(svc_downsample_matrix)\n",
    "# print(\"specificity (TNR): \" + str(svc_down_tnr))\n",
    "\n",
    "# svc_down_ppv = precision(svc_downsample_matrix)\n",
    "# print(\"precision (PPV): \" + str(svc_down_ppv))\n",
    "\n",
    "# svc_down_neg_predscore = neg_pred(svc_downsample_matrix)\n",
    "# print(\"negative predictive value: \" + str(svc_down_neg_predscore))\n",
    "\n",
    "# svc_down_acc = accuracy(svc_downsample_matrix)\n",
    "# print(\"accuracy: \" + str(svc_down_acc))\n",
    "\n",
    "# svc_down_f1 = f1(svc_downsample_matrix)\n",
    "# print(\"f1: \" + str(svc_down_f1))"
   ]
  },
  {
   "cell_type": "code",
   "execution_count": 62,
   "id": "7675680c",
   "metadata": {},
   "outputs": [],
   "source": [
    "# BECAUSE RUNNING SVC TAKES TOO LONG: \n",
    "svc_down_tpr = 1.0\n",
    "svc_down_tnr = 0.0\n",
    "svc_down_ppv = 0.9573170731707317\n",
    "svc_down_neg_predscore = np.nan\n",
    "svc_down_acc = 0.9573170731707317\n",
    "svc_down_f1 = 0.9781931464174455"
   ]
  },
  {
   "cell_type": "markdown",
   "id": "b1a00a9a",
   "metadata": {},
   "source": [
    "#### Decision Tree"
   ]
  },
  {
   "cell_type": "code",
   "execution_count": 63,
   "id": "b5a6c5d3",
   "metadata": {},
   "outputs": [
    {
     "data": {
      "text/html": [
       "<style>#sk-container-id-14 {color: black;background-color: white;}#sk-container-id-14 pre{padding: 0;}#sk-container-id-14 div.sk-toggleable {background-color: white;}#sk-container-id-14 label.sk-toggleable__label {cursor: pointer;display: block;width: 100%;margin-bottom: 0;padding: 0.3em;box-sizing: border-box;text-align: center;}#sk-container-id-14 label.sk-toggleable__label-arrow:before {content: \"▸\";float: left;margin-right: 0.25em;color: #696969;}#sk-container-id-14 label.sk-toggleable__label-arrow:hover:before {color: black;}#sk-container-id-14 div.sk-estimator:hover label.sk-toggleable__label-arrow:before {color: black;}#sk-container-id-14 div.sk-toggleable__content {max-height: 0;max-width: 0;overflow: hidden;text-align: left;background-color: #f0f8ff;}#sk-container-id-14 div.sk-toggleable__content pre {margin: 0.2em;color: black;border-radius: 0.25em;background-color: #f0f8ff;}#sk-container-id-14 input.sk-toggleable__control:checked~div.sk-toggleable__content {max-height: 200px;max-width: 100%;overflow: auto;}#sk-container-id-14 input.sk-toggleable__control:checked~label.sk-toggleable__label-arrow:before {content: \"▾\";}#sk-container-id-14 div.sk-estimator input.sk-toggleable__control:checked~label.sk-toggleable__label {background-color: #d4ebff;}#sk-container-id-14 div.sk-label input.sk-toggleable__control:checked~label.sk-toggleable__label {background-color: #d4ebff;}#sk-container-id-14 input.sk-hidden--visually {border: 0;clip: rect(1px 1px 1px 1px);clip: rect(1px, 1px, 1px, 1px);height: 1px;margin: -1px;overflow: hidden;padding: 0;position: absolute;width: 1px;}#sk-container-id-14 div.sk-estimator {font-family: monospace;background-color: #f0f8ff;border: 1px dotted black;border-radius: 0.25em;box-sizing: border-box;margin-bottom: 0.5em;}#sk-container-id-14 div.sk-estimator:hover {background-color: #d4ebff;}#sk-container-id-14 div.sk-parallel-item::after {content: \"\";width: 100%;border-bottom: 1px solid gray;flex-grow: 1;}#sk-container-id-14 div.sk-label:hover label.sk-toggleable__label {background-color: #d4ebff;}#sk-container-id-14 div.sk-serial::before {content: \"\";position: absolute;border-left: 1px solid gray;box-sizing: border-box;top: 0;bottom: 0;left: 50%;z-index: 0;}#sk-container-id-14 div.sk-serial {display: flex;flex-direction: column;align-items: center;background-color: white;padding-right: 0.2em;padding-left: 0.2em;position: relative;}#sk-container-id-14 div.sk-item {position: relative;z-index: 1;}#sk-container-id-14 div.sk-parallel {display: flex;align-items: stretch;justify-content: center;background-color: white;position: relative;}#sk-container-id-14 div.sk-item::before, #sk-container-id-14 div.sk-parallel-item::before {content: \"\";position: absolute;border-left: 1px solid gray;box-sizing: border-box;top: 0;bottom: 0;left: 50%;z-index: -1;}#sk-container-id-14 div.sk-parallel-item {display: flex;flex-direction: column;z-index: 1;position: relative;background-color: white;}#sk-container-id-14 div.sk-parallel-item:first-child::after {align-self: flex-end;width: 50%;}#sk-container-id-14 div.sk-parallel-item:last-child::after {align-self: flex-start;width: 50%;}#sk-container-id-14 div.sk-parallel-item:only-child::after {width: 0;}#sk-container-id-14 div.sk-dashed-wrapped {border: 1px dashed gray;margin: 0 0.4em 0.5em 0.4em;box-sizing: border-box;padding-bottom: 0.4em;background-color: white;}#sk-container-id-14 div.sk-label label {font-family: monospace;font-weight: bold;display: inline-block;line-height: 1.2em;}#sk-container-id-14 div.sk-label-container {text-align: center;}#sk-container-id-14 div.sk-container {/* jupyter's `normalize.less` sets `[hidden] { display: none; }` but bootstrap.min.css set `[hidden] { display: none !important; }` so we also need the `!important` here to be able to override the default hidden behavior on the sphinx rendered scikit-learn.org. See: https://github.com/scikit-learn/scikit-learn/issues/21755 */display: inline-block !important;position: relative;}#sk-container-id-14 div.sk-text-repr-fallback {display: none;}</style><div id=\"sk-container-id-14\" class=\"sk-top-container\"><div class=\"sk-text-repr-fallback\"><pre>DecisionTreeClassifier(criterion=&#x27;entropy&#x27;, random_state=0)</pre><b>In a Jupyter environment, please rerun this cell to show the HTML representation or trust the notebook. <br />On GitHub, the HTML representation is unable to render, please try loading this page with nbviewer.org.</b></div><div class=\"sk-container\" hidden><div class=\"sk-item\"><div class=\"sk-estimator sk-toggleable\"><input class=\"sk-toggleable__control sk-hidden--visually\" id=\"sk-estimator-id-14\" type=\"checkbox\" checked><label for=\"sk-estimator-id-14\" class=\"sk-toggleable__label sk-toggleable__label-arrow\">DecisionTreeClassifier</label><div class=\"sk-toggleable__content\"><pre>DecisionTreeClassifier(criterion=&#x27;entropy&#x27;, random_state=0)</pre></div></div></div></div></div>"
      ],
      "text/plain": [
       "DecisionTreeClassifier(criterion='entropy', random_state=0)"
      ]
     },
     "execution_count": 63,
     "metadata": {},
     "output_type": "execute_result"
    }
   ],
   "source": [
    "dt = DecisionTreeClassifier(criterion = 'entropy', random_state = 0)\n",
    "dt.fit(X_train_down, y_train_down)"
   ]
  },
  {
   "cell_type": "code",
   "execution_count": 64,
   "id": "4d89a4f1",
   "metadata": {},
   "outputs": [
    {
     "data": {
      "text/plain": [
       "array([[149,   8],\n",
       "       [  7,   0]], dtype=int64)"
      ]
     },
     "execution_count": 64,
     "metadata": {},
     "output_type": "execute_result"
    }
   ],
   "source": [
    "dt_downsample_y_pred = dt.predict(X_test)\n",
    "\n",
    "dt_downsample_matrix = confusion_matrix(y_test, dt_downsample_y_pred)\n",
    "dt_downsample_matrix"
   ]
  },
  {
   "cell_type": "code",
   "execution_count": 65,
   "id": "e34a848a",
   "metadata": {},
   "outputs": [
    {
     "name": "stdout",
     "output_type": "stream",
     "text": [
      "DOWNSAMPLE DECISION TREE SCORES\n",
      "\n",
      "sensitivity (TPR): 0.9490445859872612\n",
      "specificity (TNR): 0.0\n",
      "precision (PPV): 0.9551282051282052\n",
      "negative predictive value: 0.0\n",
      "accuracy: 0.9085365853658537\n",
      "f1: 0.952076677316294\n"
     ]
    }
   ],
   "source": [
    "print(\"DOWNSAMPLE DECISION TREE SCORES\\n\")\n",
    "\n",
    "dt_down_tpr = sensitivity(dt_downsample_matrix)\n",
    "print(\"sensitivity (TPR): \" + str(dt_down_tpr))\n",
    "\n",
    "dt_down_tnr = specificity(dt_downsample_matrix)\n",
    "print(\"specificity (TNR): \" + str(dt_down_tnr))\n",
    "\n",
    "dt_down_ppv = precision(dt_downsample_matrix)\n",
    "print(\"precision (PPV): \" + str(dt_down_ppv))\n",
    "\n",
    "dt_down_neg_predscore = neg_pred(dt_downsample_matrix)\n",
    "print(\"negative predictive value: \" + str(dt_down_neg_predscore))\n",
    "\n",
    "dt_down_acc = accuracy(dt_downsample_matrix)\n",
    "print(\"accuracy: \" + str(dt_down_acc))\n",
    "\n",
    "dt_down_f1 = f1(dt_downsample_matrix)\n",
    "print(\"f1: \" + str(dt_down_f1))"
   ]
  },
  {
   "cell_type": "markdown",
   "id": "0083904d",
   "metadata": {},
   "source": [
    "#### Random Forest"
   ]
  },
  {
   "cell_type": "code",
   "execution_count": 66,
   "id": "04369299",
   "metadata": {},
   "outputs": [
    {
     "data": {
      "text/html": [
       "<style>#sk-container-id-15 {color: black;background-color: white;}#sk-container-id-15 pre{padding: 0;}#sk-container-id-15 div.sk-toggleable {background-color: white;}#sk-container-id-15 label.sk-toggleable__label {cursor: pointer;display: block;width: 100%;margin-bottom: 0;padding: 0.3em;box-sizing: border-box;text-align: center;}#sk-container-id-15 label.sk-toggleable__label-arrow:before {content: \"▸\";float: left;margin-right: 0.25em;color: #696969;}#sk-container-id-15 label.sk-toggleable__label-arrow:hover:before {color: black;}#sk-container-id-15 div.sk-estimator:hover label.sk-toggleable__label-arrow:before {color: black;}#sk-container-id-15 div.sk-toggleable__content {max-height: 0;max-width: 0;overflow: hidden;text-align: left;background-color: #f0f8ff;}#sk-container-id-15 div.sk-toggleable__content pre {margin: 0.2em;color: black;border-radius: 0.25em;background-color: #f0f8ff;}#sk-container-id-15 input.sk-toggleable__control:checked~div.sk-toggleable__content {max-height: 200px;max-width: 100%;overflow: auto;}#sk-container-id-15 input.sk-toggleable__control:checked~label.sk-toggleable__label-arrow:before {content: \"▾\";}#sk-container-id-15 div.sk-estimator input.sk-toggleable__control:checked~label.sk-toggleable__label {background-color: #d4ebff;}#sk-container-id-15 div.sk-label input.sk-toggleable__control:checked~label.sk-toggleable__label {background-color: #d4ebff;}#sk-container-id-15 input.sk-hidden--visually {border: 0;clip: rect(1px 1px 1px 1px);clip: rect(1px, 1px, 1px, 1px);height: 1px;margin: -1px;overflow: hidden;padding: 0;position: absolute;width: 1px;}#sk-container-id-15 div.sk-estimator {font-family: monospace;background-color: #f0f8ff;border: 1px dotted black;border-radius: 0.25em;box-sizing: border-box;margin-bottom: 0.5em;}#sk-container-id-15 div.sk-estimator:hover {background-color: #d4ebff;}#sk-container-id-15 div.sk-parallel-item::after {content: \"\";width: 100%;border-bottom: 1px solid gray;flex-grow: 1;}#sk-container-id-15 div.sk-label:hover label.sk-toggleable__label {background-color: #d4ebff;}#sk-container-id-15 div.sk-serial::before {content: \"\";position: absolute;border-left: 1px solid gray;box-sizing: border-box;top: 0;bottom: 0;left: 50%;z-index: 0;}#sk-container-id-15 div.sk-serial {display: flex;flex-direction: column;align-items: center;background-color: white;padding-right: 0.2em;padding-left: 0.2em;position: relative;}#sk-container-id-15 div.sk-item {position: relative;z-index: 1;}#sk-container-id-15 div.sk-parallel {display: flex;align-items: stretch;justify-content: center;background-color: white;position: relative;}#sk-container-id-15 div.sk-item::before, #sk-container-id-15 div.sk-parallel-item::before {content: \"\";position: absolute;border-left: 1px solid gray;box-sizing: border-box;top: 0;bottom: 0;left: 50%;z-index: -1;}#sk-container-id-15 div.sk-parallel-item {display: flex;flex-direction: column;z-index: 1;position: relative;background-color: white;}#sk-container-id-15 div.sk-parallel-item:first-child::after {align-self: flex-end;width: 50%;}#sk-container-id-15 div.sk-parallel-item:last-child::after {align-self: flex-start;width: 50%;}#sk-container-id-15 div.sk-parallel-item:only-child::after {width: 0;}#sk-container-id-15 div.sk-dashed-wrapped {border: 1px dashed gray;margin: 0 0.4em 0.5em 0.4em;box-sizing: border-box;padding-bottom: 0.4em;background-color: white;}#sk-container-id-15 div.sk-label label {font-family: monospace;font-weight: bold;display: inline-block;line-height: 1.2em;}#sk-container-id-15 div.sk-label-container {text-align: center;}#sk-container-id-15 div.sk-container {/* jupyter's `normalize.less` sets `[hidden] { display: none; }` but bootstrap.min.css set `[hidden] { display: none !important; }` so we also need the `!important` here to be able to override the default hidden behavior on the sphinx rendered scikit-learn.org. See: https://github.com/scikit-learn/scikit-learn/issues/21755 */display: inline-block !important;position: relative;}#sk-container-id-15 div.sk-text-repr-fallback {display: none;}</style><div id=\"sk-container-id-15\" class=\"sk-top-container\"><div class=\"sk-text-repr-fallback\"><pre>RandomForestClassifier(max_depth=2, random_state=0)</pre><b>In a Jupyter environment, please rerun this cell to show the HTML representation or trust the notebook. <br />On GitHub, the HTML representation is unable to render, please try loading this page with nbviewer.org.</b></div><div class=\"sk-container\" hidden><div class=\"sk-item\"><div class=\"sk-estimator sk-toggleable\"><input class=\"sk-toggleable__control sk-hidden--visually\" id=\"sk-estimator-id-15\" type=\"checkbox\" checked><label for=\"sk-estimator-id-15\" class=\"sk-toggleable__label sk-toggleable__label-arrow\">RandomForestClassifier</label><div class=\"sk-toggleable__content\"><pre>RandomForestClassifier(max_depth=2, random_state=0)</pre></div></div></div></div></div>"
      ],
      "text/plain": [
       "RandomForestClassifier(max_depth=2, random_state=0)"
      ]
     },
     "execution_count": 66,
     "metadata": {},
     "output_type": "execute_result"
    }
   ],
   "source": [
    "rf = RandomForestClassifier(max_depth = 2, random_state = 0)\n",
    "rf.fit(X_train_down, y_train_down)"
   ]
  },
  {
   "cell_type": "code",
   "execution_count": 67,
   "id": "98790015",
   "metadata": {},
   "outputs": [
    {
     "data": {
      "text/plain": [
       "array([[157,   0],\n",
       "       [  7,   0]], dtype=int64)"
      ]
     },
     "execution_count": 67,
     "metadata": {},
     "output_type": "execute_result"
    }
   ],
   "source": [
    "rf_downsample_y_pred = rf.predict(X_test)\n",
    "\n",
    "rf_downsample_matrix = confusion_matrix(y_test, rf_downsample_y_pred)\n",
    "rf_downsample_matrix"
   ]
  },
  {
   "cell_type": "code",
   "execution_count": 68,
   "id": "53da006c",
   "metadata": {},
   "outputs": [
    {
     "name": "stdout",
     "output_type": "stream",
     "text": [
      "DOWNSAMPLE RANDOM FOREST SCORES\n",
      "\n",
      "sensitivity (TPR): 1.0\n",
      "specificity (TNR): 0.0\n",
      "precision (PPV): 0.9573170731707317\n",
      "negative predictive value: nan\n",
      "accuracy: 0.9573170731707317\n",
      "f1: 0.9781931464174455\n"
     ]
    }
   ],
   "source": [
    "print(\"DOWNSAMPLE RANDOM FOREST SCORES\\n\")\n",
    "\n",
    "rf_down_tpr = sensitivity(rf_downsample_matrix)\n",
    "print(\"sensitivity (TPR): \" + str(rf_down_tpr))\n",
    "\n",
    "rf_down_tnr = specificity(rf_downsample_matrix)\n",
    "print(\"specificity (TNR): \" + str(rf_down_tnr))\n",
    "\n",
    "rf_down_ppv = precision(rf_downsample_matrix)\n",
    "print(\"precision (PPV): \" + str(rf_down_ppv))\n",
    "\n",
    "rf_down_neg_predscore = neg_pred(rf_downsample_matrix)\n",
    "print(\"negative predictive value: \" + str(rf_down_neg_predscore))\n",
    "\n",
    "rf_down_acc = accuracy(rf_downsample_matrix)\n",
    "print(\"accuracy: \" + str(rf_down_acc))\n",
    "\n",
    "rf_down_f1 = f1(rf_downsample_matrix)\n",
    "print(\"f1: \" + str(rf_down_f1))"
   ]
  },
  {
   "cell_type": "markdown",
   "id": "2f6994f2",
   "metadata": {},
   "source": [
    "## Generating Synthetic Samples (SMOTE)"
   ]
  },
  {
   "cell_type": "code",
   "execution_count": 69,
   "id": "e6724047",
   "metadata": {},
   "outputs": [],
   "source": [
    "from imblearn.over_sampling import SMOTE"
   ]
  },
  {
   "cell_type": "code",
   "execution_count": 70,
   "id": "0cc0cfef",
   "metadata": {},
   "outputs": [],
   "source": [
    "# # setting up testing and training sets (again)\n",
    "y = ovt.recurrence_y\n",
    "X = ovt.drop('recurrence_y', axis=1)\n",
    "\n",
    "X_train, X_test, y_train, y_test = train_test_split(X, y, test_size=0.25, random_state=27)\n",
    "\n",
    "# standard scaling\n",
    "sc = StandardScaler()\n",
    "\n",
    "X_train = sc.fit_transform(X_train)\n",
    "X_test = sc.transform(X_test)"
   ]
  },
  {
   "cell_type": "code",
   "execution_count": 71,
   "id": "ab06e411",
   "metadata": {},
   "outputs": [],
   "source": [
    "sm = SMOTE(random_state = 2)\n",
    "X_train_smote, y_train_smote = sm.fit_resample(X_train, y_train.ravel())"
   ]
  },
  {
   "cell_type": "code",
   "execution_count": 72,
   "id": "3bc9c0f2",
   "metadata": {},
   "outputs": [
    {
     "data": {
      "text/plain": [
       "((944, 67), (944,))"
      ]
     },
     "execution_count": 72,
     "metadata": {},
     "output_type": "execute_result"
    }
   ],
   "source": [
    "X_train_smote.shape, y_train_smote.shape"
   ]
  },
  {
   "cell_type": "code",
   "execution_count": 73,
   "id": "c654c7ed",
   "metadata": {},
   "outputs": [],
   "source": [
    "# TRAINING : X_train_smote, y_train_smote \n",
    "# TESTING: X_test, y_test"
   ]
  },
  {
   "cell_type": "markdown",
   "id": "98122827",
   "metadata": {},
   "source": [
    "### Testing Models from SMOTE"
   ]
  },
  {
   "cell_type": "markdown",
   "id": "61deccdd",
   "metadata": {},
   "source": [
    "#### Logistic Regression"
   ]
  },
  {
   "cell_type": "code",
   "execution_count": 74,
   "id": "a8e0e3b7",
   "metadata": {},
   "outputs": [
    {
     "data": {
      "text/html": [
       "<style>#sk-container-id-16 {color: black;background-color: white;}#sk-container-id-16 pre{padding: 0;}#sk-container-id-16 div.sk-toggleable {background-color: white;}#sk-container-id-16 label.sk-toggleable__label {cursor: pointer;display: block;width: 100%;margin-bottom: 0;padding: 0.3em;box-sizing: border-box;text-align: center;}#sk-container-id-16 label.sk-toggleable__label-arrow:before {content: \"▸\";float: left;margin-right: 0.25em;color: #696969;}#sk-container-id-16 label.sk-toggleable__label-arrow:hover:before {color: black;}#sk-container-id-16 div.sk-estimator:hover label.sk-toggleable__label-arrow:before {color: black;}#sk-container-id-16 div.sk-toggleable__content {max-height: 0;max-width: 0;overflow: hidden;text-align: left;background-color: #f0f8ff;}#sk-container-id-16 div.sk-toggleable__content pre {margin: 0.2em;color: black;border-radius: 0.25em;background-color: #f0f8ff;}#sk-container-id-16 input.sk-toggleable__control:checked~div.sk-toggleable__content {max-height: 200px;max-width: 100%;overflow: auto;}#sk-container-id-16 input.sk-toggleable__control:checked~label.sk-toggleable__label-arrow:before {content: \"▾\";}#sk-container-id-16 div.sk-estimator input.sk-toggleable__control:checked~label.sk-toggleable__label {background-color: #d4ebff;}#sk-container-id-16 div.sk-label input.sk-toggleable__control:checked~label.sk-toggleable__label {background-color: #d4ebff;}#sk-container-id-16 input.sk-hidden--visually {border: 0;clip: rect(1px 1px 1px 1px);clip: rect(1px, 1px, 1px, 1px);height: 1px;margin: -1px;overflow: hidden;padding: 0;position: absolute;width: 1px;}#sk-container-id-16 div.sk-estimator {font-family: monospace;background-color: #f0f8ff;border: 1px dotted black;border-radius: 0.25em;box-sizing: border-box;margin-bottom: 0.5em;}#sk-container-id-16 div.sk-estimator:hover {background-color: #d4ebff;}#sk-container-id-16 div.sk-parallel-item::after {content: \"\";width: 100%;border-bottom: 1px solid gray;flex-grow: 1;}#sk-container-id-16 div.sk-label:hover label.sk-toggleable__label {background-color: #d4ebff;}#sk-container-id-16 div.sk-serial::before {content: \"\";position: absolute;border-left: 1px solid gray;box-sizing: border-box;top: 0;bottom: 0;left: 50%;z-index: 0;}#sk-container-id-16 div.sk-serial {display: flex;flex-direction: column;align-items: center;background-color: white;padding-right: 0.2em;padding-left: 0.2em;position: relative;}#sk-container-id-16 div.sk-item {position: relative;z-index: 1;}#sk-container-id-16 div.sk-parallel {display: flex;align-items: stretch;justify-content: center;background-color: white;position: relative;}#sk-container-id-16 div.sk-item::before, #sk-container-id-16 div.sk-parallel-item::before {content: \"\";position: absolute;border-left: 1px solid gray;box-sizing: border-box;top: 0;bottom: 0;left: 50%;z-index: -1;}#sk-container-id-16 div.sk-parallel-item {display: flex;flex-direction: column;z-index: 1;position: relative;background-color: white;}#sk-container-id-16 div.sk-parallel-item:first-child::after {align-self: flex-end;width: 50%;}#sk-container-id-16 div.sk-parallel-item:last-child::after {align-self: flex-start;width: 50%;}#sk-container-id-16 div.sk-parallel-item:only-child::after {width: 0;}#sk-container-id-16 div.sk-dashed-wrapped {border: 1px dashed gray;margin: 0 0.4em 0.5em 0.4em;box-sizing: border-box;padding-bottom: 0.4em;background-color: white;}#sk-container-id-16 div.sk-label label {font-family: monospace;font-weight: bold;display: inline-block;line-height: 1.2em;}#sk-container-id-16 div.sk-label-container {text-align: center;}#sk-container-id-16 div.sk-container {/* jupyter's `normalize.less` sets `[hidden] { display: none; }` but bootstrap.min.css set `[hidden] { display: none !important; }` so we also need the `!important` here to be able to override the default hidden behavior on the sphinx rendered scikit-learn.org. See: https://github.com/scikit-learn/scikit-learn/issues/21755 */display: inline-block !important;position: relative;}#sk-container-id-16 div.sk-text-repr-fallback {display: none;}</style><div id=\"sk-container-id-16\" class=\"sk-top-container\"><div class=\"sk-text-repr-fallback\"><pre>LogisticRegression(random_state=0)</pre><b>In a Jupyter environment, please rerun this cell to show the HTML representation or trust the notebook. <br />On GitHub, the HTML representation is unable to render, please try loading this page with nbviewer.org.</b></div><div class=\"sk-container\" hidden><div class=\"sk-item\"><div class=\"sk-estimator sk-toggleable\"><input class=\"sk-toggleable__control sk-hidden--visually\" id=\"sk-estimator-id-16\" type=\"checkbox\" checked><label for=\"sk-estimator-id-16\" class=\"sk-toggleable__label sk-toggleable__label-arrow\">LogisticRegression</label><div class=\"sk-toggleable__content\"><pre>LogisticRegression(random_state=0)</pre></div></div></div></div></div>"
      ],
      "text/plain": [
       "LogisticRegression(random_state=0)"
      ]
     },
     "execution_count": 74,
     "metadata": {},
     "output_type": "execute_result"
    }
   ],
   "source": [
    "lr = LogisticRegression(random_state = 0)\n",
    "lr.fit(X_train_smote, y_train_smote)"
   ]
  },
  {
   "cell_type": "code",
   "execution_count": 75,
   "id": "90115d55",
   "metadata": {},
   "outputs": [
    {
     "data": {
      "text/plain": [
       "array([[132,  25],\n",
       "       [  6,   1]], dtype=int64)"
      ]
     },
     "execution_count": 75,
     "metadata": {},
     "output_type": "execute_result"
    }
   ],
   "source": [
    "lr_smote_y_pred = lr.predict(X_test)\n",
    "lr_smote_matrix = confusion_matrix(y_test, lr_smote_y_pred)\n",
    "lr_smote_matrix"
   ]
  },
  {
   "cell_type": "code",
   "execution_count": 76,
   "id": "487429c1",
   "metadata": {},
   "outputs": [
    {
     "name": "stdout",
     "output_type": "stream",
     "text": [
      "SMOTE LINEAR REGRESSION SCORES\n",
      "\n",
      "sensitivity(TPR): 0.8407643312101911\n",
      "specificity(TNR): 0.14285714285714285\n",
      "precision(PPV): 0.9565217391304348\n",
      "negative predictive value: 0.038461538461538464\n",
      "accuracy: 0.8109756097560976\n",
      "f1: 0.8949152542372882\n"
     ]
    }
   ],
   "source": [
    "print(\"SMOTE LINEAR REGRESSION SCORES\\n\")\n",
    "\n",
    "lr_sm_tpr = sensitivity(lr_smote_matrix)\n",
    "print(\"sensitivity(TPR): \" + str(lr_sm_tpr))\n",
    "\n",
    "lr_sm_tnr = specificity(lr_smote_matrix)\n",
    "print(\"specificity(TNR): \" + str(lr_sm_tnr))\n",
    "\n",
    "lr_sm_ppv = precision(lr_smote_matrix)\n",
    "print(\"precision(PPV): \" + str(lr_sm_ppv))\n",
    "\n",
    "lr_sm_neg_predscore = neg_pred(lr_smote_matrix)\n",
    "print(\"negative predictive value: \" + str(lr_sm_neg_predscore))\n",
    "\n",
    "lr_sm_acc = accuracy(lr_smote_matrix)\n",
    "print(\"accuracy: \" + str(lr_sm_acc))\n",
    "\n",
    "lr_sm_f1 = f1(lr_smote_matrix)\n",
    "print(\"f1: \" + str(lr_sm_f1))"
   ]
  },
  {
   "cell_type": "markdown",
   "id": "2b719115",
   "metadata": {},
   "source": [
    "#### KNN"
   ]
  },
  {
   "cell_type": "code",
   "execution_count": 77,
   "id": "735d20ea",
   "metadata": {},
   "outputs": [
    {
     "data": {
      "text/html": [
       "<style>#sk-container-id-17 {color: black;background-color: white;}#sk-container-id-17 pre{padding: 0;}#sk-container-id-17 div.sk-toggleable {background-color: white;}#sk-container-id-17 label.sk-toggleable__label {cursor: pointer;display: block;width: 100%;margin-bottom: 0;padding: 0.3em;box-sizing: border-box;text-align: center;}#sk-container-id-17 label.sk-toggleable__label-arrow:before {content: \"▸\";float: left;margin-right: 0.25em;color: #696969;}#sk-container-id-17 label.sk-toggleable__label-arrow:hover:before {color: black;}#sk-container-id-17 div.sk-estimator:hover label.sk-toggleable__label-arrow:before {color: black;}#sk-container-id-17 div.sk-toggleable__content {max-height: 0;max-width: 0;overflow: hidden;text-align: left;background-color: #f0f8ff;}#sk-container-id-17 div.sk-toggleable__content pre {margin: 0.2em;color: black;border-radius: 0.25em;background-color: #f0f8ff;}#sk-container-id-17 input.sk-toggleable__control:checked~div.sk-toggleable__content {max-height: 200px;max-width: 100%;overflow: auto;}#sk-container-id-17 input.sk-toggleable__control:checked~label.sk-toggleable__label-arrow:before {content: \"▾\";}#sk-container-id-17 div.sk-estimator input.sk-toggleable__control:checked~label.sk-toggleable__label {background-color: #d4ebff;}#sk-container-id-17 div.sk-label input.sk-toggleable__control:checked~label.sk-toggleable__label {background-color: #d4ebff;}#sk-container-id-17 input.sk-hidden--visually {border: 0;clip: rect(1px 1px 1px 1px);clip: rect(1px, 1px, 1px, 1px);height: 1px;margin: -1px;overflow: hidden;padding: 0;position: absolute;width: 1px;}#sk-container-id-17 div.sk-estimator {font-family: monospace;background-color: #f0f8ff;border: 1px dotted black;border-radius: 0.25em;box-sizing: border-box;margin-bottom: 0.5em;}#sk-container-id-17 div.sk-estimator:hover {background-color: #d4ebff;}#sk-container-id-17 div.sk-parallel-item::after {content: \"\";width: 100%;border-bottom: 1px solid gray;flex-grow: 1;}#sk-container-id-17 div.sk-label:hover label.sk-toggleable__label {background-color: #d4ebff;}#sk-container-id-17 div.sk-serial::before {content: \"\";position: absolute;border-left: 1px solid gray;box-sizing: border-box;top: 0;bottom: 0;left: 50%;z-index: 0;}#sk-container-id-17 div.sk-serial {display: flex;flex-direction: column;align-items: center;background-color: white;padding-right: 0.2em;padding-left: 0.2em;position: relative;}#sk-container-id-17 div.sk-item {position: relative;z-index: 1;}#sk-container-id-17 div.sk-parallel {display: flex;align-items: stretch;justify-content: center;background-color: white;position: relative;}#sk-container-id-17 div.sk-item::before, #sk-container-id-17 div.sk-parallel-item::before {content: \"\";position: absolute;border-left: 1px solid gray;box-sizing: border-box;top: 0;bottom: 0;left: 50%;z-index: -1;}#sk-container-id-17 div.sk-parallel-item {display: flex;flex-direction: column;z-index: 1;position: relative;background-color: white;}#sk-container-id-17 div.sk-parallel-item:first-child::after {align-self: flex-end;width: 50%;}#sk-container-id-17 div.sk-parallel-item:last-child::after {align-self: flex-start;width: 50%;}#sk-container-id-17 div.sk-parallel-item:only-child::after {width: 0;}#sk-container-id-17 div.sk-dashed-wrapped {border: 1px dashed gray;margin: 0 0.4em 0.5em 0.4em;box-sizing: border-box;padding-bottom: 0.4em;background-color: white;}#sk-container-id-17 div.sk-label label {font-family: monospace;font-weight: bold;display: inline-block;line-height: 1.2em;}#sk-container-id-17 div.sk-label-container {text-align: center;}#sk-container-id-17 div.sk-container {/* jupyter's `normalize.less` sets `[hidden] { display: none; }` but bootstrap.min.css set `[hidden] { display: none !important; }` so we also need the `!important` here to be able to override the default hidden behavior on the sphinx rendered scikit-learn.org. See: https://github.com/scikit-learn/scikit-learn/issues/21755 */display: inline-block !important;position: relative;}#sk-container-id-17 div.sk-text-repr-fallback {display: none;}</style><div id=\"sk-container-id-17\" class=\"sk-top-container\"><div class=\"sk-text-repr-fallback\"><pre>KNeighborsClassifier()</pre><b>In a Jupyter environment, please rerun this cell to show the HTML representation or trust the notebook. <br />On GitHub, the HTML representation is unable to render, please try loading this page with nbviewer.org.</b></div><div class=\"sk-container\" hidden><div class=\"sk-item\"><div class=\"sk-estimator sk-toggleable\"><input class=\"sk-toggleable__control sk-hidden--visually\" id=\"sk-estimator-id-17\" type=\"checkbox\" checked><label for=\"sk-estimator-id-17\" class=\"sk-toggleable__label sk-toggleable__label-arrow\">KNeighborsClassifier</label><div class=\"sk-toggleable__content\"><pre>KNeighborsClassifier()</pre></div></div></div></div></div>"
      ],
      "text/plain": [
       "KNeighborsClassifier()"
      ]
     },
     "execution_count": 77,
     "metadata": {},
     "output_type": "execute_result"
    }
   ],
   "source": [
    "knn = KNeighborsClassifier(n_neighbors = 5, metric = 'minkowski', p = 2)\n",
    "knn.fit(X_train_smote, y_train_smote)"
   ]
  },
  {
   "cell_type": "code",
   "execution_count": 78,
   "id": "a753bcfc",
   "metadata": {},
   "outputs": [
    {
     "data": {
      "text/plain": [
       "array([[78, 79],\n",
       "       [ 4,  3]], dtype=int64)"
      ]
     },
     "execution_count": 78,
     "metadata": {},
     "output_type": "execute_result"
    }
   ],
   "source": [
    "knn_smote_y_pred = knn.predict(X_test)\n",
    "knn_smote_matrix = confusion_matrix(y_test, knn_smote_y_pred)\n",
    "knn_smote_matrix"
   ]
  },
  {
   "cell_type": "code",
   "execution_count": 79,
   "id": "4126ee31",
   "metadata": {},
   "outputs": [
    {
     "name": "stdout",
     "output_type": "stream",
     "text": [
      "SMOTE KNN SCORES\n",
      "\n",
      "sensitivity(TPR): 0.4968152866242038\n",
      "specificity(TNR): 0.42857142857142855\n",
      "precision(PPV): 0.9512195121951219\n",
      "negative predictive value: 0.036585365853658534\n",
      "accuracy: 0.49390243902439024\n",
      "f1: 0.6527196652719666\n"
     ]
    }
   ],
   "source": [
    "print(\"SMOTE KNN SCORES\\n\")\n",
    "\n",
    "knn_sm_tpr = sensitivity(knn_smote_matrix)\n",
    "print(\"sensitivity(TPR): \" + str(knn_sm_tpr))\n",
    "\n",
    "knn_sm_tnr = specificity(knn_smote_matrix)\n",
    "print(\"specificity(TNR): \" + str(knn_sm_tnr))\n",
    "\n",
    "knn_sm_ppv = precision(knn_smote_matrix)\n",
    "print(\"precision(PPV): \" + str(knn_sm_ppv))\n",
    "\n",
    "knn_sm_neg_predscore = neg_pred(knn_smote_matrix)\n",
    "print(\"negative predictive value: \" + str(knn_sm_neg_predscore))\n",
    "\n",
    "knn_sm_acc = accuracy(knn_smote_matrix)\n",
    "print(\"accuracy: \" + str(knn_sm_acc))\n",
    "\n",
    "knn_sm_f1 = f1(knn_smote_matrix)\n",
    "print(\"f1: \" + str(knn_sm_f1))"
   ]
  },
  {
   "cell_type": "markdown",
   "id": "a634681b",
   "metadata": {},
   "source": [
    "#### SVC "
   ]
  },
  {
   "cell_type": "code",
   "execution_count": 80,
   "id": "f326d6d2",
   "metadata": {},
   "outputs": [
    {
     "data": {
      "text/html": [
       "<style>#sk-container-id-18 {color: black;background-color: white;}#sk-container-id-18 pre{padding: 0;}#sk-container-id-18 div.sk-toggleable {background-color: white;}#sk-container-id-18 label.sk-toggleable__label {cursor: pointer;display: block;width: 100%;margin-bottom: 0;padding: 0.3em;box-sizing: border-box;text-align: center;}#sk-container-id-18 label.sk-toggleable__label-arrow:before {content: \"▸\";float: left;margin-right: 0.25em;color: #696969;}#sk-container-id-18 label.sk-toggleable__label-arrow:hover:before {color: black;}#sk-container-id-18 div.sk-estimator:hover label.sk-toggleable__label-arrow:before {color: black;}#sk-container-id-18 div.sk-toggleable__content {max-height: 0;max-width: 0;overflow: hidden;text-align: left;background-color: #f0f8ff;}#sk-container-id-18 div.sk-toggleable__content pre {margin: 0.2em;color: black;border-radius: 0.25em;background-color: #f0f8ff;}#sk-container-id-18 input.sk-toggleable__control:checked~div.sk-toggleable__content {max-height: 200px;max-width: 100%;overflow: auto;}#sk-container-id-18 input.sk-toggleable__control:checked~label.sk-toggleable__label-arrow:before {content: \"▾\";}#sk-container-id-18 div.sk-estimator input.sk-toggleable__control:checked~label.sk-toggleable__label {background-color: #d4ebff;}#sk-container-id-18 div.sk-label input.sk-toggleable__control:checked~label.sk-toggleable__label {background-color: #d4ebff;}#sk-container-id-18 input.sk-hidden--visually {border: 0;clip: rect(1px 1px 1px 1px);clip: rect(1px, 1px, 1px, 1px);height: 1px;margin: -1px;overflow: hidden;padding: 0;position: absolute;width: 1px;}#sk-container-id-18 div.sk-estimator {font-family: monospace;background-color: #f0f8ff;border: 1px dotted black;border-radius: 0.25em;box-sizing: border-box;margin-bottom: 0.5em;}#sk-container-id-18 div.sk-estimator:hover {background-color: #d4ebff;}#sk-container-id-18 div.sk-parallel-item::after {content: \"\";width: 100%;border-bottom: 1px solid gray;flex-grow: 1;}#sk-container-id-18 div.sk-label:hover label.sk-toggleable__label {background-color: #d4ebff;}#sk-container-id-18 div.sk-serial::before {content: \"\";position: absolute;border-left: 1px solid gray;box-sizing: border-box;top: 0;bottom: 0;left: 50%;z-index: 0;}#sk-container-id-18 div.sk-serial {display: flex;flex-direction: column;align-items: center;background-color: white;padding-right: 0.2em;padding-left: 0.2em;position: relative;}#sk-container-id-18 div.sk-item {position: relative;z-index: 1;}#sk-container-id-18 div.sk-parallel {display: flex;align-items: stretch;justify-content: center;background-color: white;position: relative;}#sk-container-id-18 div.sk-item::before, #sk-container-id-18 div.sk-parallel-item::before {content: \"\";position: absolute;border-left: 1px solid gray;box-sizing: border-box;top: 0;bottom: 0;left: 50%;z-index: -1;}#sk-container-id-18 div.sk-parallel-item {display: flex;flex-direction: column;z-index: 1;position: relative;background-color: white;}#sk-container-id-18 div.sk-parallel-item:first-child::after {align-self: flex-end;width: 50%;}#sk-container-id-18 div.sk-parallel-item:last-child::after {align-self: flex-start;width: 50%;}#sk-container-id-18 div.sk-parallel-item:only-child::after {width: 0;}#sk-container-id-18 div.sk-dashed-wrapped {border: 1px dashed gray;margin: 0 0.4em 0.5em 0.4em;box-sizing: border-box;padding-bottom: 0.4em;background-color: white;}#sk-container-id-18 div.sk-label label {font-family: monospace;font-weight: bold;display: inline-block;line-height: 1.2em;}#sk-container-id-18 div.sk-label-container {text-align: center;}#sk-container-id-18 div.sk-container {/* jupyter's `normalize.less` sets `[hidden] { display: none; }` but bootstrap.min.css set `[hidden] { display: none !important; }` so we also need the `!important` here to be able to override the default hidden behavior on the sphinx rendered scikit-learn.org. See: https://github.com/scikit-learn/scikit-learn/issues/21755 */display: inline-block !important;position: relative;}#sk-container-id-18 div.sk-text-repr-fallback {display: none;}</style><div id=\"sk-container-id-18\" class=\"sk-top-container\"><div class=\"sk-text-repr-fallback\"><pre>SVC(kernel=&#x27;linear&#x27;, random_state=0)</pre><b>In a Jupyter environment, please rerun this cell to show the HTML representation or trust the notebook. <br />On GitHub, the HTML representation is unable to render, please try loading this page with nbviewer.org.</b></div><div class=\"sk-container\" hidden><div class=\"sk-item\"><div class=\"sk-estimator sk-toggleable\"><input class=\"sk-toggleable__control sk-hidden--visually\" id=\"sk-estimator-id-18\" type=\"checkbox\" checked><label for=\"sk-estimator-id-18\" class=\"sk-toggleable__label sk-toggleable__label-arrow\">SVC</label><div class=\"sk-toggleable__content\"><pre>SVC(kernel=&#x27;linear&#x27;, random_state=0)</pre></div></div></div></div></div>"
      ],
      "text/plain": [
       "SVC(kernel='linear', random_state=0)"
      ]
     },
     "execution_count": 80,
     "metadata": {},
     "output_type": "execute_result"
    }
   ],
   "source": [
    "svc = SVC(kernel = 'linear', random_state = 0)\n",
    "svc.fit(X_train_smote, y_train_smote)"
   ]
  },
  {
   "cell_type": "code",
   "execution_count": 81,
   "id": "faa7ccdc",
   "metadata": {},
   "outputs": [
    {
     "data": {
      "text/plain": [
       "array([[130,  27],\n",
       "       [  5,   2]], dtype=int64)"
      ]
     },
     "execution_count": 81,
     "metadata": {},
     "output_type": "execute_result"
    }
   ],
   "source": [
    "svc_smote_y_pred = svc.predict(X_test)\n",
    "svc_smote_matrix = confusion_matrix(y_test, svc_smote_y_pred)\n",
    "svc_smote_matrix"
   ]
  },
  {
   "cell_type": "code",
   "execution_count": 82,
   "id": "871c06e3",
   "metadata": {},
   "outputs": [
    {
     "name": "stdout",
     "output_type": "stream",
     "text": [
      "SMOTE SVC SCORES\n",
      "\n",
      "sensitivity(TPR): 0.8280254777070064\n",
      "specificity(TNR): 0.2857142857142857\n",
      "precision(PPV): 0.9629629629629629\n",
      "negative predictive value: 0.06896551724137931\n",
      "accuracy: 0.8048780487804879\n",
      "f1: 0.8904109589041095\n"
     ]
    }
   ],
   "source": [
    "print(\"SMOTE SVC SCORES\\n\")\n",
    "\n",
    "svc_sm_tpr = sensitivity(svc_smote_matrix)\n",
    "print(\"sensitivity(TPR): \" + str(svc_sm_tpr))\n",
    "\n",
    "svc_sm_tnr = specificity(svc_smote_matrix)\n",
    "print(\"specificity(TNR): \" + str(svc_sm_tnr))\n",
    "\n",
    "svc_sm_ppv = precision(svc_smote_matrix)\n",
    "print(\"precision(PPV): \" + str(svc_sm_ppv))\n",
    "\n",
    "svc_sm_neg_predscore = neg_pred(svc_smote_matrix)\n",
    "print(\"negative predictive value: \" + str(svc_sm_neg_predscore))\n",
    "\n",
    "svc_sm_acc = accuracy(svc_smote_matrix)\n",
    "print(\"accuracy: \" + str(svc_sm_acc))\n",
    "\n",
    "svc_sm_f1 = f1(svc_smote_matrix)\n",
    "print(\"f1: \" + str(svc_sm_f1))"
   ]
  },
  {
   "cell_type": "markdown",
   "id": "1129f41e",
   "metadata": {},
   "source": [
    "#### Decision Tree "
   ]
  },
  {
   "cell_type": "code",
   "execution_count": 83,
   "id": "4ff78733",
   "metadata": {},
   "outputs": [
    {
     "data": {
      "text/html": [
       "<style>#sk-container-id-19 {color: black;background-color: white;}#sk-container-id-19 pre{padding: 0;}#sk-container-id-19 div.sk-toggleable {background-color: white;}#sk-container-id-19 label.sk-toggleable__label {cursor: pointer;display: block;width: 100%;margin-bottom: 0;padding: 0.3em;box-sizing: border-box;text-align: center;}#sk-container-id-19 label.sk-toggleable__label-arrow:before {content: \"▸\";float: left;margin-right: 0.25em;color: #696969;}#sk-container-id-19 label.sk-toggleable__label-arrow:hover:before {color: black;}#sk-container-id-19 div.sk-estimator:hover label.sk-toggleable__label-arrow:before {color: black;}#sk-container-id-19 div.sk-toggleable__content {max-height: 0;max-width: 0;overflow: hidden;text-align: left;background-color: #f0f8ff;}#sk-container-id-19 div.sk-toggleable__content pre {margin: 0.2em;color: black;border-radius: 0.25em;background-color: #f0f8ff;}#sk-container-id-19 input.sk-toggleable__control:checked~div.sk-toggleable__content {max-height: 200px;max-width: 100%;overflow: auto;}#sk-container-id-19 input.sk-toggleable__control:checked~label.sk-toggleable__label-arrow:before {content: \"▾\";}#sk-container-id-19 div.sk-estimator input.sk-toggleable__control:checked~label.sk-toggleable__label {background-color: #d4ebff;}#sk-container-id-19 div.sk-label input.sk-toggleable__control:checked~label.sk-toggleable__label {background-color: #d4ebff;}#sk-container-id-19 input.sk-hidden--visually {border: 0;clip: rect(1px 1px 1px 1px);clip: rect(1px, 1px, 1px, 1px);height: 1px;margin: -1px;overflow: hidden;padding: 0;position: absolute;width: 1px;}#sk-container-id-19 div.sk-estimator {font-family: monospace;background-color: #f0f8ff;border: 1px dotted black;border-radius: 0.25em;box-sizing: border-box;margin-bottom: 0.5em;}#sk-container-id-19 div.sk-estimator:hover {background-color: #d4ebff;}#sk-container-id-19 div.sk-parallel-item::after {content: \"\";width: 100%;border-bottom: 1px solid gray;flex-grow: 1;}#sk-container-id-19 div.sk-label:hover label.sk-toggleable__label {background-color: #d4ebff;}#sk-container-id-19 div.sk-serial::before {content: \"\";position: absolute;border-left: 1px solid gray;box-sizing: border-box;top: 0;bottom: 0;left: 50%;z-index: 0;}#sk-container-id-19 div.sk-serial {display: flex;flex-direction: column;align-items: center;background-color: white;padding-right: 0.2em;padding-left: 0.2em;position: relative;}#sk-container-id-19 div.sk-item {position: relative;z-index: 1;}#sk-container-id-19 div.sk-parallel {display: flex;align-items: stretch;justify-content: center;background-color: white;position: relative;}#sk-container-id-19 div.sk-item::before, #sk-container-id-19 div.sk-parallel-item::before {content: \"\";position: absolute;border-left: 1px solid gray;box-sizing: border-box;top: 0;bottom: 0;left: 50%;z-index: -1;}#sk-container-id-19 div.sk-parallel-item {display: flex;flex-direction: column;z-index: 1;position: relative;background-color: white;}#sk-container-id-19 div.sk-parallel-item:first-child::after {align-self: flex-end;width: 50%;}#sk-container-id-19 div.sk-parallel-item:last-child::after {align-self: flex-start;width: 50%;}#sk-container-id-19 div.sk-parallel-item:only-child::after {width: 0;}#sk-container-id-19 div.sk-dashed-wrapped {border: 1px dashed gray;margin: 0 0.4em 0.5em 0.4em;box-sizing: border-box;padding-bottom: 0.4em;background-color: white;}#sk-container-id-19 div.sk-label label {font-family: monospace;font-weight: bold;display: inline-block;line-height: 1.2em;}#sk-container-id-19 div.sk-label-container {text-align: center;}#sk-container-id-19 div.sk-container {/* jupyter's `normalize.less` sets `[hidden] { display: none; }` but bootstrap.min.css set `[hidden] { display: none !important; }` so we also need the `!important` here to be able to override the default hidden behavior on the sphinx rendered scikit-learn.org. See: https://github.com/scikit-learn/scikit-learn/issues/21755 */display: inline-block !important;position: relative;}#sk-container-id-19 div.sk-text-repr-fallback {display: none;}</style><div id=\"sk-container-id-19\" class=\"sk-top-container\"><div class=\"sk-text-repr-fallback\"><pre>DecisionTreeClassifier(criterion=&#x27;entropy&#x27;, random_state=0)</pre><b>In a Jupyter environment, please rerun this cell to show the HTML representation or trust the notebook. <br />On GitHub, the HTML representation is unable to render, please try loading this page with nbviewer.org.</b></div><div class=\"sk-container\" hidden><div class=\"sk-item\"><div class=\"sk-estimator sk-toggleable\"><input class=\"sk-toggleable__control sk-hidden--visually\" id=\"sk-estimator-id-19\" type=\"checkbox\" checked><label for=\"sk-estimator-id-19\" class=\"sk-toggleable__label sk-toggleable__label-arrow\">DecisionTreeClassifier</label><div class=\"sk-toggleable__content\"><pre>DecisionTreeClassifier(criterion=&#x27;entropy&#x27;, random_state=0)</pre></div></div></div></div></div>"
      ],
      "text/plain": [
       "DecisionTreeClassifier(criterion='entropy', random_state=0)"
      ]
     },
     "execution_count": 83,
     "metadata": {},
     "output_type": "execute_result"
    }
   ],
   "source": [
    "dt = DecisionTreeClassifier(criterion = 'entropy', random_state = 0)\n",
    "dt.fit(X_train_smote, y_train_smote)"
   ]
  },
  {
   "cell_type": "code",
   "execution_count": 84,
   "id": "6909dc8f",
   "metadata": {},
   "outputs": [
    {
     "data": {
      "text/plain": [
       "array([[140,  17],\n",
       "       [  5,   2]], dtype=int64)"
      ]
     },
     "execution_count": 84,
     "metadata": {},
     "output_type": "execute_result"
    }
   ],
   "source": [
    "dt_smote_y_pred = dt.predict(X_test)\n",
    "dt_smote_matrix = confusion_matrix(y_test, dt_smote_y_pred)\n",
    "dt_smote_matrix"
   ]
  },
  {
   "cell_type": "code",
   "execution_count": 85,
   "id": "41461484",
   "metadata": {},
   "outputs": [
    {
     "name": "stdout",
     "output_type": "stream",
     "text": [
      "SMOTE DECISION TREE SCORES\n",
      "\n",
      "sensitivity(TPR): 0.89171974522293\n",
      "specificity(TNR): 0.2857142857142857\n",
      "precision(PPV): 0.9655172413793104\n",
      "negative predictive value: 0.10526315789473684\n",
      "accuracy: 0.8658536585365854\n",
      "f1: 0.9271523178807949\n"
     ]
    }
   ],
   "source": [
    "print(\"SMOTE DECISION TREE SCORES\\n\")\n",
    "\n",
    "dt_sm_tpr = sensitivity(dt_smote_matrix)\n",
    "print(\"sensitivity(TPR): \" + str(dt_sm_tpr))\n",
    "\n",
    "dt_sm_tnr = specificity(dt_smote_matrix)\n",
    "print(\"specificity(TNR): \" + str(dt_sm_tnr))\n",
    "\n",
    "dt_sm_ppv = precision(dt_smote_matrix)\n",
    "print(\"precision(PPV): \" + str(dt_sm_ppv))\n",
    "\n",
    "dt_sm_neg_predscore = neg_pred(dt_smote_matrix)\n",
    "print(\"negative predictive value: \" + str(dt_sm_neg_predscore))\n",
    "\n",
    "dt_sm_acc = accuracy(dt_smote_matrix)\n",
    "print(\"accuracy: \" + str(dt_sm_acc))\n",
    "\n",
    "dt_sm_f1 = f1(dt_smote_matrix)\n",
    "print(\"f1: \" + str(dt_sm_f1))"
   ]
  },
  {
   "cell_type": "markdown",
   "id": "092f5121",
   "metadata": {},
   "source": [
    "#### Random Forest"
   ]
  },
  {
   "cell_type": "code",
   "execution_count": 86,
   "id": "1570222d",
   "metadata": {},
   "outputs": [
    {
     "data": {
      "text/html": [
       "<style>#sk-container-id-20 {color: black;background-color: white;}#sk-container-id-20 pre{padding: 0;}#sk-container-id-20 div.sk-toggleable {background-color: white;}#sk-container-id-20 label.sk-toggleable__label {cursor: pointer;display: block;width: 100%;margin-bottom: 0;padding: 0.3em;box-sizing: border-box;text-align: center;}#sk-container-id-20 label.sk-toggleable__label-arrow:before {content: \"▸\";float: left;margin-right: 0.25em;color: #696969;}#sk-container-id-20 label.sk-toggleable__label-arrow:hover:before {color: black;}#sk-container-id-20 div.sk-estimator:hover label.sk-toggleable__label-arrow:before {color: black;}#sk-container-id-20 div.sk-toggleable__content {max-height: 0;max-width: 0;overflow: hidden;text-align: left;background-color: #f0f8ff;}#sk-container-id-20 div.sk-toggleable__content pre {margin: 0.2em;color: black;border-radius: 0.25em;background-color: #f0f8ff;}#sk-container-id-20 input.sk-toggleable__control:checked~div.sk-toggleable__content {max-height: 200px;max-width: 100%;overflow: auto;}#sk-container-id-20 input.sk-toggleable__control:checked~label.sk-toggleable__label-arrow:before {content: \"▾\";}#sk-container-id-20 div.sk-estimator input.sk-toggleable__control:checked~label.sk-toggleable__label {background-color: #d4ebff;}#sk-container-id-20 div.sk-label input.sk-toggleable__control:checked~label.sk-toggleable__label {background-color: #d4ebff;}#sk-container-id-20 input.sk-hidden--visually {border: 0;clip: rect(1px 1px 1px 1px);clip: rect(1px, 1px, 1px, 1px);height: 1px;margin: -1px;overflow: hidden;padding: 0;position: absolute;width: 1px;}#sk-container-id-20 div.sk-estimator {font-family: monospace;background-color: #f0f8ff;border: 1px dotted black;border-radius: 0.25em;box-sizing: border-box;margin-bottom: 0.5em;}#sk-container-id-20 div.sk-estimator:hover {background-color: #d4ebff;}#sk-container-id-20 div.sk-parallel-item::after {content: \"\";width: 100%;border-bottom: 1px solid gray;flex-grow: 1;}#sk-container-id-20 div.sk-label:hover label.sk-toggleable__label {background-color: #d4ebff;}#sk-container-id-20 div.sk-serial::before {content: \"\";position: absolute;border-left: 1px solid gray;box-sizing: border-box;top: 0;bottom: 0;left: 50%;z-index: 0;}#sk-container-id-20 div.sk-serial {display: flex;flex-direction: column;align-items: center;background-color: white;padding-right: 0.2em;padding-left: 0.2em;position: relative;}#sk-container-id-20 div.sk-item {position: relative;z-index: 1;}#sk-container-id-20 div.sk-parallel {display: flex;align-items: stretch;justify-content: center;background-color: white;position: relative;}#sk-container-id-20 div.sk-item::before, #sk-container-id-20 div.sk-parallel-item::before {content: \"\";position: absolute;border-left: 1px solid gray;box-sizing: border-box;top: 0;bottom: 0;left: 50%;z-index: -1;}#sk-container-id-20 div.sk-parallel-item {display: flex;flex-direction: column;z-index: 1;position: relative;background-color: white;}#sk-container-id-20 div.sk-parallel-item:first-child::after {align-self: flex-end;width: 50%;}#sk-container-id-20 div.sk-parallel-item:last-child::after {align-self: flex-start;width: 50%;}#sk-container-id-20 div.sk-parallel-item:only-child::after {width: 0;}#sk-container-id-20 div.sk-dashed-wrapped {border: 1px dashed gray;margin: 0 0.4em 0.5em 0.4em;box-sizing: border-box;padding-bottom: 0.4em;background-color: white;}#sk-container-id-20 div.sk-label label {font-family: monospace;font-weight: bold;display: inline-block;line-height: 1.2em;}#sk-container-id-20 div.sk-label-container {text-align: center;}#sk-container-id-20 div.sk-container {/* jupyter's `normalize.less` sets `[hidden] { display: none; }` but bootstrap.min.css set `[hidden] { display: none !important; }` so we also need the `!important` here to be able to override the default hidden behavior on the sphinx rendered scikit-learn.org. See: https://github.com/scikit-learn/scikit-learn/issues/21755 */display: inline-block !important;position: relative;}#sk-container-id-20 div.sk-text-repr-fallback {display: none;}</style><div id=\"sk-container-id-20\" class=\"sk-top-container\"><div class=\"sk-text-repr-fallback\"><pre>RandomForestClassifier(max_depth=2, random_state=0)</pre><b>In a Jupyter environment, please rerun this cell to show the HTML representation or trust the notebook. <br />On GitHub, the HTML representation is unable to render, please try loading this page with nbviewer.org.</b></div><div class=\"sk-container\" hidden><div class=\"sk-item\"><div class=\"sk-estimator sk-toggleable\"><input class=\"sk-toggleable__control sk-hidden--visually\" id=\"sk-estimator-id-20\" type=\"checkbox\" checked><label for=\"sk-estimator-id-20\" class=\"sk-toggleable__label sk-toggleable__label-arrow\">RandomForestClassifier</label><div class=\"sk-toggleable__content\"><pre>RandomForestClassifier(max_depth=2, random_state=0)</pre></div></div></div></div></div>"
      ],
      "text/plain": [
       "RandomForestClassifier(max_depth=2, random_state=0)"
      ]
     },
     "execution_count": 86,
     "metadata": {},
     "output_type": "execute_result"
    }
   ],
   "source": [
    "rf = RandomForestClassifier(max_depth = 2, random_state = 0)\n",
    "rf.fit(X_train_smote, y_train_smote)"
   ]
  },
  {
   "cell_type": "code",
   "execution_count": 87,
   "id": "d82abfef",
   "metadata": {},
   "outputs": [
    {
     "data": {
      "text/plain": [
       "array([[139,  18],\n",
       "       [  7,   0]], dtype=int64)"
      ]
     },
     "execution_count": 87,
     "metadata": {},
     "output_type": "execute_result"
    }
   ],
   "source": [
    "rf_smote_y_pred = rf.predict(X_test)\n",
    "rf_smote_matrix = confusion_matrix(y_test, rf_smote_y_pred)\n",
    "rf_smote_matrix"
   ]
  },
  {
   "cell_type": "code",
   "execution_count": 88,
   "id": "e5a3a149",
   "metadata": {},
   "outputs": [
    {
     "name": "stdout",
     "output_type": "stream",
     "text": [
      "SMOTE RANDOM FOREST SCORES\n",
      "\n",
      "sensitivity (TPR): 0.8853503184713376\n",
      "specificity (TNR): 0.0\n",
      "precision (PPV): 0.952054794520548\n",
      "negative predictive value: 0.0\n",
      "accuracy: 0.8475609756097561\n",
      "f1: 0.9174917491749175\n"
     ]
    }
   ],
   "source": [
    "print(\"SMOTE RANDOM FOREST SCORES\\n\")\n",
    "\n",
    "rf_sm_tpr = sensitivity(rf_smote_matrix)\n",
    "print(\"sensitivity (TPR): \" + str(rf_sm_tpr))\n",
    "\n",
    "rf_sm_tnr = specificity(rf_smote_matrix)\n",
    "print(\"specificity (TNR): \" + str(rf_sm_tnr))\n",
    "\n",
    "rf_sm_ppv = precision(rf_smote_matrix)\n",
    "print(\"precision (PPV): \" + str(rf_sm_ppv))\n",
    "\n",
    "rf_sm_neg_predscore = neg_pred(rf_smote_matrix)\n",
    "print(\"negative predictive value: \" + str(rf_sm_neg_predscore))\n",
    "\n",
    "rf_sm_acc = accuracy(rf_smote_matrix)\n",
    "print(\"accuracy: \" + str(rf_sm_acc))\n",
    "\n",
    "rf_sm_f1 = f1(rf_smote_matrix)\n",
    "print(\"f1: \" + str(rf_sm_f1))"
   ]
  },
  {
   "cell_type": "markdown",
   "id": "2911c5e2",
   "metadata": {},
   "source": [
    "## Comparing all Scores "
   ]
  },
  {
   "cell_type": "markdown",
   "id": "9b864301",
   "metadata": {},
   "source": [
    "### Storing Scores from Original Data (ovt) "
   ]
  },
  {
   "cell_type": "code",
   "execution_count": 89,
   "id": "bcbda2fa",
   "metadata": {},
   "outputs": [
    {
     "name": "stdout",
     "output_type": "stream",
     "text": [
      "LINEAR REGRESSION SCORES (original data) \n",
      "\n",
      "sensitivity (TPR): 0.9937106918238994\n",
      "specificity (TNR): 0.0\n",
      "precision (PPV): 0.9693251533742331\n",
      "negative predictive value: 0.0\n",
      "accuracy: 0.9634146341463414\n",
      "f1: 0.9813664596273292\n"
     ]
    }
   ],
   "source": [
    "# logistic regression\n",
    "print(\"LINEAR REGRESSION SCORES (original data) \\n\")\n",
    "\n",
    "lr_tpr = sensitivity(matrix_lr)\n",
    "print(\"sensitivity (TPR): \" + str(lr_tpr))\n",
    "\n",
    "lr_tnr = specificity(matrix_lr)\n",
    "print(\"specificity (TNR): \" + str(lr_tnr))\n",
    "\n",
    "lr_ppv = precision(matrix_lr)\n",
    "print(\"precision (PPV): \" + str(lr_ppv))\n",
    "\n",
    "lr_neg_predscore = neg_pred(matrix_lr)\n",
    "print(\"negative predictive value: \" + str(lr_neg_predscore))\n",
    "\n",
    "lr_acc = accuracy(matrix_lr)\n",
    "print(\"accuracy: \" + str(lr_acc))\n",
    "\n",
    "lr_f1 = f1(matrix_lr)\n",
    "print(\"f1: \" + str(lr_f1))"
   ]
  },
  {
   "cell_type": "code",
   "execution_count": 90,
   "id": "980d6391",
   "metadata": {},
   "outputs": [
    {
     "name": "stdout",
     "output_type": "stream",
     "text": [
      "KNN SCORES (original data) \n",
      "\n",
      "sensitivity (TPR): 1.0\n",
      "specificity (TNR): 0.0\n",
      "precision (PPV): 0.9695121951219512\n",
      "negative predictive value: nan\n",
      "accuracy: 0.9695121951219512\n",
      "f1: 0.9845201238390092\n"
     ]
    }
   ],
   "source": [
    "# knn \n",
    "print(\"KNN SCORES (original data) \\n\")\n",
    "\n",
    "knn_tpr = sensitivity(matrix_knn)\n",
    "print(\"sensitivity (TPR): \" + str(knn_tpr))\n",
    "\n",
    "knn_tnr = specificity(matrix_knn)\n",
    "print(\"specificity (TNR): \" + str(knn_tnr))\n",
    "\n",
    "knn_ppv = precision(matrix_knn)\n",
    "print(\"precision (PPV): \" + str(knn_ppv))\n",
    "\n",
    "knn_neg_predscore = neg_pred(matrix_knn)\n",
    "print(\"negative predictive value: \" + str(knn_neg_predscore))\n",
    "\n",
    "knn_acc = accuracy(matrix_knn)\n",
    "print(\"accuracy: \" + str(knn_acc))\n",
    "\n",
    "knn_f1 = f1(matrix_knn)\n",
    "print(\"f1: \" + str(knn_f1))"
   ]
  },
  {
   "cell_type": "code",
   "execution_count": 91,
   "id": "3eb9605a",
   "metadata": {},
   "outputs": [
    {
     "name": "stdout",
     "output_type": "stream",
     "text": [
      "SVC SCORES (original data) \n",
      "\n",
      "sensitivity (TPR): 0.9937106918238994\n",
      "specificity (TNR): 0.0\n",
      "precision (PPV): 0.9693251533742331\n",
      "negative predictive value: 0.0\n",
      "accuracy: 0.9634146341463414\n",
      "f1: 0.9813664596273292\n"
     ]
    }
   ],
   "source": [
    "# svc \n",
    "print(\"SVC SCORES (original data) \\n\")\n",
    "\n",
    "svc_tpr = sensitivity(matrix_svc)\n",
    "print(\"sensitivity (TPR): \" + str(svc_tpr))\n",
    "\n",
    "svc_tnr = specificity(matrix_svc)\n",
    "print(\"specificity (TNR): \" + str(svc_tnr))\n",
    "\n",
    "svc_ppv = precision(matrix_svc)\n",
    "print(\"precision (PPV): \" + str(svc_ppv))\n",
    "\n",
    "svc_neg_predscore = neg_pred(matrix_svc)\n",
    "print(\"negative predictive value: \" + str(svc_neg_predscore))\n",
    "\n",
    "svc_acc = accuracy(matrix_svc)\n",
    "print(\"accuracy: \" + str(svc_acc))\n",
    "\n",
    "svc_f1 = f1(matrix_svc)\n",
    "print(\"f1: \" + str(svc_f1))"
   ]
  },
  {
   "cell_type": "code",
   "execution_count": 92,
   "id": "4f50ccc8",
   "metadata": {},
   "outputs": [
    {
     "name": "stdout",
     "output_type": "stream",
     "text": [
      "SVC SCORES (original data) \n",
      "\n",
      "sensitivity (TPR): 0.9308176100628931\n",
      "specificity (TNR): 0.0\n",
      "precision (PPV): 0.9673202614379085\n",
      "negative predictive value: 0.0\n",
      "accuracy: 0.9024390243902439\n",
      "f1: 0.9487179487179488\n"
     ]
    }
   ],
   "source": [
    "# decision tree \n",
    "print(\"SVC SCORES (original data) \\n\")\n",
    "\n",
    "dt_tpr = sensitivity(matrix_dt)\n",
    "print(\"sensitivity (TPR): \" + str(dt_tpr))\n",
    "\n",
    "dt_tnr = specificity(matrix_dt)\n",
    "print(\"specificity (TNR): \" + str(dt_tnr))\n",
    "\n",
    "dt_ppv = precision(matrix_dt)\n",
    "print(\"precision (PPV): \" + str(dt_ppv))\n",
    "\n",
    "dt_neg_predscore = neg_pred(matrix_dt)\n",
    "print(\"negative predictive value: \" + str(dt_neg_predscore))\n",
    "\n",
    "dt_acc = accuracy(matrix_dt)\n",
    "print(\"accuracy: \" + str(dt_acc))\n",
    "\n",
    "dt_f1 = f1(matrix_dt)\n",
    "print(\"f1: \" + str(dt_f1))"
   ]
  },
  {
   "cell_type": "code",
   "execution_count": 93,
   "id": "b8722c02",
   "metadata": {},
   "outputs": [
    {
     "name": "stdout",
     "output_type": "stream",
     "text": [
      "SVC SCORES (original data) \n",
      "\n",
      "sensitivity (TPR): 1.0\n",
      "specificity (TNR): 0.0\n",
      "precision (PPV): 0.9695121951219512\n",
      "negative predictive value: nan\n",
      "accuracy: 0.9695121951219512\n",
      "f1: 0.9845201238390092\n"
     ]
    }
   ],
   "source": [
    "# random forest \n",
    "print(\"SVC SCORES (original data) \\n\")\n",
    "\n",
    "rf_tpr = sensitivity(matrix_rf)\n",
    "print(\"sensitivity (TPR): \" + str(rf_tpr))\n",
    "\n",
    "rf_tnr = specificity(matrix_rf)\n",
    "print(\"specificity (TNR): \" + str(rf_tnr))\n",
    "\n",
    "rf_ppv = precision(matrix_rf)\n",
    "print(\"precision (PPV): \" + str(rf_ppv))\n",
    "\n",
    "rf_neg_predscore = neg_pred(matrix_rf)\n",
    "print(\"negative predictive value: \" + str(rf_neg_predscore))\n",
    "\n",
    "rf_acc = accuracy(matrix_rf)\n",
    "print(\"accuracy: \" + str(rf_acc))\n",
    "\n",
    "rf_f1 = f1(matrix_rf)\n",
    "print(\"f1: \" + str(rf_f1))"
   ]
  },
  {
   "cell_type": "markdown",
   "id": "943cfb59",
   "metadata": {},
   "source": [
    "## Creating Dataset with all Scores Combined"
   ]
  },
  {
   "cell_type": "code",
   "execution_count": 94,
   "id": "c1146165",
   "metadata": {
    "scrolled": false
   },
   "outputs": [
    {
     "data": {
      "text/html": [
       "<div>\n",
       "<style scoped>\n",
       "    .dataframe tbody tr th:only-of-type {\n",
       "        vertical-align: middle;\n",
       "    }\n",
       "\n",
       "    .dataframe tbody tr th {\n",
       "        vertical-align: top;\n",
       "    }\n",
       "\n",
       "    .dataframe thead th {\n",
       "        text-align: right;\n",
       "    }\n",
       "</style>\n",
       "<table border=\"1\" class=\"dataframe\">\n",
       "  <thead>\n",
       "    <tr style=\"text-align: right;\">\n",
       "      <th></th>\n",
       "      <th>score</th>\n",
       "      <th>linear_reg</th>\n",
       "      <th>knn</th>\n",
       "      <th>svc</th>\n",
       "      <th>decision_tree</th>\n",
       "      <th>random_forest</th>\n",
       "    </tr>\n",
       "  </thead>\n",
       "  <tbody>\n",
       "    <tr>\n",
       "      <th>0</th>\n",
       "      <td>ovt:tpr</td>\n",
       "      <td>0.993711</td>\n",
       "      <td>1.000000</td>\n",
       "      <td>0.993711</td>\n",
       "      <td>0.930818</td>\n",
       "      <td>1.000000</td>\n",
       "    </tr>\n",
       "    <tr>\n",
       "      <th>1</th>\n",
       "      <td>ovt:tnr</td>\n",
       "      <td>0.000000</td>\n",
       "      <td>0.000000</td>\n",
       "      <td>0.000000</td>\n",
       "      <td>0.000000</td>\n",
       "      <td>0.000000</td>\n",
       "    </tr>\n",
       "    <tr>\n",
       "      <th>2</th>\n",
       "      <td>ovt:ppv</td>\n",
       "      <td>0.969325</td>\n",
       "      <td>0.969512</td>\n",
       "      <td>0.969325</td>\n",
       "      <td>0.967320</td>\n",
       "      <td>0.969512</td>\n",
       "    </tr>\n",
       "    <tr>\n",
       "      <th>3</th>\n",
       "      <td>ovt:npv</td>\n",
       "      <td>0.000000</td>\n",
       "      <td>NaN</td>\n",
       "      <td>0.000000</td>\n",
       "      <td>0.000000</td>\n",
       "      <td>NaN</td>\n",
       "    </tr>\n",
       "    <tr>\n",
       "      <th>4</th>\n",
       "      <td>ovt:accuracy</td>\n",
       "      <td>0.963415</td>\n",
       "      <td>0.969512</td>\n",
       "      <td>0.963415</td>\n",
       "      <td>0.902439</td>\n",
       "      <td>0.969512</td>\n",
       "    </tr>\n",
       "    <tr>\n",
       "      <th>5</th>\n",
       "      <td>ovt:f1</td>\n",
       "      <td>0.981366</td>\n",
       "      <td>0.984520</td>\n",
       "      <td>0.981366</td>\n",
       "      <td>0.948718</td>\n",
       "      <td>0.984520</td>\n",
       "    </tr>\n",
       "    <tr>\n",
       "      <th>6</th>\n",
       "      <td>over:tpr</td>\n",
       "      <td>0.840764</td>\n",
       "      <td>0.917197</td>\n",
       "      <td>0.834395</td>\n",
       "      <td>0.974522</td>\n",
       "      <td>0.923567</td>\n",
       "    </tr>\n",
       "    <tr>\n",
       "      <th>7</th>\n",
       "      <td>over:tnr</td>\n",
       "      <td>0.142857</td>\n",
       "      <td>0.142857</td>\n",
       "      <td>0.285714</td>\n",
       "      <td>0.000000</td>\n",
       "      <td>0.142857</td>\n",
       "    </tr>\n",
       "    <tr>\n",
       "      <th>8</th>\n",
       "      <td>over:ppv</td>\n",
       "      <td>0.956522</td>\n",
       "      <td>0.960000</td>\n",
       "      <td>0.963235</td>\n",
       "      <td>0.956250</td>\n",
       "      <td>0.960265</td>\n",
       "    </tr>\n",
       "    <tr>\n",
       "      <th>9</th>\n",
       "      <td>over:npv</td>\n",
       "      <td>0.038462</td>\n",
       "      <td>0.071429</td>\n",
       "      <td>0.071429</td>\n",
       "      <td>0.000000</td>\n",
       "      <td>0.076923</td>\n",
       "    </tr>\n",
       "    <tr>\n",
       "      <th>10</th>\n",
       "      <td>over:accuracy</td>\n",
       "      <td>0.810976</td>\n",
       "      <td>0.884146</td>\n",
       "      <td>0.810976</td>\n",
       "      <td>0.932927</td>\n",
       "      <td>0.890244</td>\n",
       "    </tr>\n",
       "    <tr>\n",
       "      <th>11</th>\n",
       "      <td>over:f1</td>\n",
       "      <td>0.894915</td>\n",
       "      <td>0.938111</td>\n",
       "      <td>0.894198</td>\n",
       "      <td>0.965300</td>\n",
       "      <td>0.941558</td>\n",
       "    </tr>\n",
       "    <tr>\n",
       "      <th>12</th>\n",
       "      <td>under:tpr</td>\n",
       "      <td>0.573248</td>\n",
       "      <td>1.000000</td>\n",
       "      <td>1.000000</td>\n",
       "      <td>0.949045</td>\n",
       "      <td>1.000000</td>\n",
       "    </tr>\n",
       "    <tr>\n",
       "      <th>13</th>\n",
       "      <td>under:tnr</td>\n",
       "      <td>0.428571</td>\n",
       "      <td>0.000000</td>\n",
       "      <td>0.000000</td>\n",
       "      <td>0.000000</td>\n",
       "      <td>0.000000</td>\n",
       "    </tr>\n",
       "    <tr>\n",
       "      <th>14</th>\n",
       "      <td>under:ppv</td>\n",
       "      <td>0.957447</td>\n",
       "      <td>0.957317</td>\n",
       "      <td>0.957317</td>\n",
       "      <td>0.955128</td>\n",
       "      <td>0.957317</td>\n",
       "    </tr>\n",
       "    <tr>\n",
       "      <th>15</th>\n",
       "      <td>under:npv</td>\n",
       "      <td>0.042857</td>\n",
       "      <td>NaN</td>\n",
       "      <td>NaN</td>\n",
       "      <td>0.000000</td>\n",
       "      <td>NaN</td>\n",
       "    </tr>\n",
       "    <tr>\n",
       "      <th>16</th>\n",
       "      <td>under:accuracy</td>\n",
       "      <td>0.567073</td>\n",
       "      <td>0.957317</td>\n",
       "      <td>0.957317</td>\n",
       "      <td>0.908537</td>\n",
       "      <td>0.957317</td>\n",
       "    </tr>\n",
       "    <tr>\n",
       "      <th>17</th>\n",
       "      <td>under:f1</td>\n",
       "      <td>0.717131</td>\n",
       "      <td>0.978193</td>\n",
       "      <td>0.978193</td>\n",
       "      <td>0.952077</td>\n",
       "      <td>0.978193</td>\n",
       "    </tr>\n",
       "    <tr>\n",
       "      <th>18</th>\n",
       "      <td>smote:tpr</td>\n",
       "      <td>0.840764</td>\n",
       "      <td>0.496815</td>\n",
       "      <td>0.828025</td>\n",
       "      <td>0.891720</td>\n",
       "      <td>0.885350</td>\n",
       "    </tr>\n",
       "    <tr>\n",
       "      <th>19</th>\n",
       "      <td>smote:tnr</td>\n",
       "      <td>0.142857</td>\n",
       "      <td>0.428571</td>\n",
       "      <td>0.285714</td>\n",
       "      <td>0.285714</td>\n",
       "      <td>0.000000</td>\n",
       "    </tr>\n",
       "    <tr>\n",
       "      <th>20</th>\n",
       "      <td>smote:ppv</td>\n",
       "      <td>0.956522</td>\n",
       "      <td>0.951220</td>\n",
       "      <td>0.962963</td>\n",
       "      <td>0.965517</td>\n",
       "      <td>0.952055</td>\n",
       "    </tr>\n",
       "    <tr>\n",
       "      <th>21</th>\n",
       "      <td>smote:npv</td>\n",
       "      <td>0.038462</td>\n",
       "      <td>0.036585</td>\n",
       "      <td>0.068966</td>\n",
       "      <td>0.105263</td>\n",
       "      <td>0.000000</td>\n",
       "    </tr>\n",
       "    <tr>\n",
       "      <th>22</th>\n",
       "      <td>smote:accuracy</td>\n",
       "      <td>0.810976</td>\n",
       "      <td>0.493902</td>\n",
       "      <td>0.804878</td>\n",
       "      <td>0.865854</td>\n",
       "      <td>0.847561</td>\n",
       "    </tr>\n",
       "    <tr>\n",
       "      <th>23</th>\n",
       "      <td>smote:f1</td>\n",
       "      <td>0.894915</td>\n",
       "      <td>0.652720</td>\n",
       "      <td>0.890411</td>\n",
       "      <td>0.927152</td>\n",
       "      <td>0.917492</td>\n",
       "    </tr>\n",
       "  </tbody>\n",
       "</table>\n",
       "</div>"
      ],
      "text/plain": [
       "             score  linear_reg       knn       svc  decision_tree  \\\n",
       "0          ovt:tpr    0.993711  1.000000  0.993711       0.930818   \n",
       "1          ovt:tnr    0.000000  0.000000  0.000000       0.000000   \n",
       "2          ovt:ppv    0.969325  0.969512  0.969325       0.967320   \n",
       "3          ovt:npv    0.000000       NaN  0.000000       0.000000   \n",
       "4     ovt:accuracy    0.963415  0.969512  0.963415       0.902439   \n",
       "5           ovt:f1    0.981366  0.984520  0.981366       0.948718   \n",
       "6         over:tpr    0.840764  0.917197  0.834395       0.974522   \n",
       "7         over:tnr    0.142857  0.142857  0.285714       0.000000   \n",
       "8         over:ppv    0.956522  0.960000  0.963235       0.956250   \n",
       "9         over:npv    0.038462  0.071429  0.071429       0.000000   \n",
       "10   over:accuracy    0.810976  0.884146  0.810976       0.932927   \n",
       "11         over:f1    0.894915  0.938111  0.894198       0.965300   \n",
       "12       under:tpr    0.573248  1.000000  1.000000       0.949045   \n",
       "13       under:tnr    0.428571  0.000000  0.000000       0.000000   \n",
       "14       under:ppv    0.957447  0.957317  0.957317       0.955128   \n",
       "15       under:npv    0.042857       NaN       NaN       0.000000   \n",
       "16  under:accuracy    0.567073  0.957317  0.957317       0.908537   \n",
       "17        under:f1    0.717131  0.978193  0.978193       0.952077   \n",
       "18       smote:tpr    0.840764  0.496815  0.828025       0.891720   \n",
       "19       smote:tnr    0.142857  0.428571  0.285714       0.285714   \n",
       "20       smote:ppv    0.956522  0.951220  0.962963       0.965517   \n",
       "21       smote:npv    0.038462  0.036585  0.068966       0.105263   \n",
       "22  smote:accuracy    0.810976  0.493902  0.804878       0.865854   \n",
       "23        smote:f1    0.894915  0.652720  0.890411       0.927152   \n",
       "\n",
       "    random_forest  \n",
       "0        1.000000  \n",
       "1        0.000000  \n",
       "2        0.969512  \n",
       "3             NaN  \n",
       "4        0.969512  \n",
       "5        0.984520  \n",
       "6        0.923567  \n",
       "7        0.142857  \n",
       "8        0.960265  \n",
       "9        0.076923  \n",
       "10       0.890244  \n",
       "11       0.941558  \n",
       "12       1.000000  \n",
       "13       0.000000  \n",
       "14       0.957317  \n",
       "15            NaN  \n",
       "16       0.957317  \n",
       "17       0.978193  \n",
       "18       0.885350  \n",
       "19       0.000000  \n",
       "20       0.952055  \n",
       "21       0.000000  \n",
       "22       0.847561  \n",
       "23       0.917492  "
      ]
     },
     "execution_count": 94,
     "metadata": {},
     "output_type": "execute_result"
    }
   ],
   "source": [
    "dict_data = {'score' : ['ovt:tpr', 'ovt:tnr', 'ovt:ppv','ovt:npv','ovt:accuracy','ovt:f1',\n",
    "                       'over:tpr', 'over:tnr', 'over:ppv','over:npv','over:accuracy','over:f1',\n",
    "                       'under:tpr', 'under:tnr', 'under:ppv','under:npv','under:accuracy','under:f1',\n",
    "                       'smote:tpr', 'smote:tnr', 'smote:ppv','smote:npv','smote:accuracy','smote:f1'],\n",
    "            'linear_reg' : [lr_tpr, lr_tnr, lr_ppv, lr_neg_predscore, lr_acc, lr_f1,\n",
    "                           lr_up_tpr, lr_up_tnr, lr_up_ppv, lr_up_neg_predscore, lr_up_acc, lr_up_f1,\n",
    "                           lr_down_tpr, lr_down_tnr, lr_down_ppv, lr_down_neg_predscore, lr_down_acc, lr_down_f1,\n",
    "                           lr_sm_tpr, lr_sm_tnr, lr_sm_ppv, lr_sm_neg_predscore, lr_sm_acc, lr_sm_f1],\n",
    "            'knn' : [knn_tpr, knn_tnr, knn_ppv, knn_neg_predscore, knn_acc, knn_f1,\n",
    "                    knn_up_tpr, knn_up_tnr, knn_up_ppv, knn_up_neg_predscore, knn_up_acc, knn_up_f1,\n",
    "                    knn_down_tpr, knn_down_tnr, knn_down_ppv, knn_down_neg_predscore, knn_down_acc, knn_down_f1,\n",
    "                    knn_sm_tpr, knn_sm_tnr, knn_sm_ppv, knn_sm_neg_predscore, knn_sm_acc, knn_sm_f1],\n",
    "            'svc' : [svc_tpr, svc_tnr, svc_ppv, svc_neg_predscore, svc_acc, svc_f1,\n",
    "                    svc_up_tpr, svc_up_tnr, svc_up_ppv, svc_up_neg_predscore, svc_up_acc, svc_up_f1,\n",
    "                    svc_down_tpr, svc_down_tnr, svc_down_ppv, svc_down_neg_predscore, svc_down_acc, svc_down_f1,\n",
    "                    svc_sm_tpr, svc_sm_tnr, svc_sm_ppv, svc_sm_neg_predscore, svc_sm_acc, svc_sm_f1],\n",
    "            'decision_tree' : [dt_tpr, dt_tnr, dt_ppv, dt_neg_predscore, dt_acc, dt_f1,\n",
    "                              dt_up_tpr, dt_up_tnr, dt_up_ppv, dt_up_neg_predscore, dt_up_acc, dt_up_f1,\n",
    "                              dt_down_tpr, dt_down_tnr, dt_down_ppv, dt_down_neg_predscore, dt_down_acc, dt_down_f1,\n",
    "                              dt_sm_tpr, dt_sm_tnr, dt_sm_ppv, dt_sm_neg_predscore, dt_sm_acc, dt_sm_f1],\n",
    "            'random_forest' : [rf_tpr, rf_tnr, rf_ppv, rf_neg_predscore, rf_acc, rf_f1,\n",
    "                              rf_up_tpr, rf_up_tnr, rf_up_ppv, rf_up_neg_predscore, rf_up_acc, rf_up_f1,\n",
    "                              rf_down_tpr, rf_down_tnr, rf_down_ppv, rf_down_neg_predscore, rf_down_acc, rf_down_f1,\n",
    "                              rf_sm_tpr, rf_sm_tnr, rf_sm_ppv, rf_sm_neg_predscore, rf_sm_acc, rf_sm_f1]\n",
    "            }\n",
    "all_scores = pd.DataFrame(data=dict_data)\n",
    "all_scores"
   ]
  },
  {
   "cell_type": "code",
   "execution_count": 95,
   "id": "029aaaf8",
   "metadata": {},
   "outputs": [],
   "source": [
    "# subsetting by collection method \n",
    "\n",
    "# just ovt \n",
    "original = all_scores.take(np.arange(5))\n",
    "\n",
    "# oversampling \n",
    "oversample = all_scores.take(np.arange(5,12))\n",
    "\n",
    "# undersampling\n",
    "undersample = all_scores.take(np.arange(12,18))\n",
    "\n",
    "# smote \n",
    "smote = all_scores.take(np.arange(18,24))"
   ]
  },
  {
   "cell_type": "code",
   "execution_count": 96,
   "id": "628ca797",
   "metadata": {},
   "outputs": [],
   "source": [
    "# subsetting by score \n",
    "\n",
    "    # true positive rate (sensitivity/recall) \n",
    "tpr = all_scores.take(np.arange(0,24,6))\n",
    "\n",
    "    # true neg rate (specificity) \n",
    "tnr = all_scores.take(np.arange(1,24,6))\n",
    "\n",
    "    # positive predictive value (precision) \n",
    "ppv = all_scores.take(np.arange(2,24,6))\n",
    "\n",
    "    # npv \n",
    "npv = all_scores.take(np.arange(3,24,6))\n",
    "\n",
    "    #accuracy \n",
    "accuracy = all_scores.take(np.arange(4,24,6))\n",
    "\n",
    "    # f1\n",
    "f1 = all_scores.take(np.arange(5,24,6))"
   ]
  },
  {
   "cell_type": "markdown",
   "id": "8584132c",
   "metadata": {},
   "source": [
    "### Visualizing TNR"
   ]
  },
  {
   "cell_type": "code",
   "execution_count": 98,
   "id": "eba8c17a",
   "metadata": {},
   "outputs": [
    {
     "data": {
      "text/html": [
       "<div>\n",
       "<style scoped>\n",
       "    .dataframe tbody tr th:only-of-type {\n",
       "        vertical-align: middle;\n",
       "    }\n",
       "\n",
       "    .dataframe tbody tr th {\n",
       "        vertical-align: top;\n",
       "    }\n",
       "\n",
       "    .dataframe thead th {\n",
       "        text-align: right;\n",
       "    }\n",
       "</style>\n",
       "<table border=\"1\" class=\"dataframe\">\n",
       "  <thead>\n",
       "    <tr style=\"text-align: right;\">\n",
       "      <th></th>\n",
       "      <th>score</th>\n",
       "      <th>linear_reg</th>\n",
       "      <th>knn</th>\n",
       "      <th>svc</th>\n",
       "      <th>decision_tree</th>\n",
       "      <th>random_forest</th>\n",
       "    </tr>\n",
       "  </thead>\n",
       "  <tbody>\n",
       "    <tr>\n",
       "      <th>1</th>\n",
       "      <td>ovt:tnr</td>\n",
       "      <td>0.000000</td>\n",
       "      <td>0.000000</td>\n",
       "      <td>0.000000</td>\n",
       "      <td>0.000000</td>\n",
       "      <td>0.000000</td>\n",
       "    </tr>\n",
       "    <tr>\n",
       "      <th>7</th>\n",
       "      <td>over:tnr</td>\n",
       "      <td>0.142857</td>\n",
       "      <td>0.142857</td>\n",
       "      <td>0.285714</td>\n",
       "      <td>0.000000</td>\n",
       "      <td>0.142857</td>\n",
       "    </tr>\n",
       "    <tr>\n",
       "      <th>13</th>\n",
       "      <td>under:tnr</td>\n",
       "      <td>0.428571</td>\n",
       "      <td>0.000000</td>\n",
       "      <td>0.000000</td>\n",
       "      <td>0.000000</td>\n",
       "      <td>0.000000</td>\n",
       "    </tr>\n",
       "    <tr>\n",
       "      <th>19</th>\n",
       "      <td>smote:tnr</td>\n",
       "      <td>0.142857</td>\n",
       "      <td>0.428571</td>\n",
       "      <td>0.285714</td>\n",
       "      <td>0.285714</td>\n",
       "      <td>0.000000</td>\n",
       "    </tr>\n",
       "  </tbody>\n",
       "</table>\n",
       "</div>"
      ],
      "text/plain": [
       "        score  linear_reg       knn       svc  decision_tree  random_forest\n",
       "1     ovt:tnr    0.000000  0.000000  0.000000       0.000000       0.000000\n",
       "7    over:tnr    0.142857  0.142857  0.285714       0.000000       0.142857\n",
       "13  under:tnr    0.428571  0.000000  0.000000       0.000000       0.000000\n",
       "19  smote:tnr    0.142857  0.428571  0.285714       0.285714       0.000000"
      ]
     },
     "execution_count": 98,
     "metadata": {},
     "output_type": "execute_result"
    }
   ],
   "source": [
    "tnr"
   ]
  },
  {
   "cell_type": "code",
   "execution_count": 139,
   "id": "2a9c0a00",
   "metadata": {},
   "outputs": [],
   "source": [
    "def plot_scores(df, model):\n",
    "    sns.set_style('darkgrid')\n",
    "    \n",
    "    sns.barplot(data=df, x='score', y=model)"
   ]
  },
  {
   "cell_type": "code",
   "execution_count": 143,
   "id": "9bf4030d",
   "metadata": {},
   "outputs": [
    {
     "data": {
      "image/png": "[encoded data removed]",
      "text/plain": [
       "<Figure size 640x480 with 1 Axes>"
      ]
     },
     "metadata": {},
     "output_type": "display_data"
    }
   ],
   "source": [
    "sns.stripplot(data = tnr, size=6.5)\n",
    "plt.ylabel('True Negative Rate')\n",
    "plt.xlabel('Model')\n",
    "plt.ylim(0,1)\n",
    "plt.title('True Negative Rate Scores (TNR)')\n",
    "plt.show()"
   ]
  },
  {
   "cell_type": "code",
   "execution_count": 140,
   "id": "6503a1e4",
   "metadata": {},
   "outputs": [
    {
     "data": {
      "image/png": "[encoded data removed]",
      "text/plain": [
       "<Figure size 640x480 with 1 Axes>"
      ]
     },
     "metadata": {},
     "output_type": "display_data"
    }
   ],
   "source": [
    "sns.stripplot(data = tpr, size=6.5)\n",
    "plt.ylabel('True Negative Rate')\n",
    "plt.xlabel('Model')\n",
    "plt.title('True Positive Rate Scores (TRP)')\n",
    "plt.show()"
   ]
  },
  {
   "cell_type": "code",
   "execution_count": null,
   "id": "8ca08c21",
   "metadata": {},
   "outputs": [],
   "source": []
  }
 ],
 "metadata": {
  "kernelspec": {
   "display_name": "Python 3 (ipykernel)",
   "language": "python",
   "name": "python3"
  },
  "language_info": {
   "codemirror_mode": {
    "name": "ipython",
    "version": 3
   },
   "file_extension": ".py",
   "mimetype": "text/x-python",
   "name": "python",
   "nbconvert_exporter": "python",
   "pygments_lexer": "ipython3",
   "version": "3.10.11"
  }
 },
 "nbformat": 4,
 "nbformat_minor": 5
}
