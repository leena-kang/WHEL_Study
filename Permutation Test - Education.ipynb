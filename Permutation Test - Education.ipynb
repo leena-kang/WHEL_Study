{
 "cells": [
  {
   "cell_type": "code",
   "execution_count": 4,
   "id": "fe1782e2",
   "metadata": {},
   "outputs": [],
   "source": [
    "import numpy as np\n",
    "import pandas as pd \n",
    "import matplotlib.pyplot as plt\n",
    "plt.style.use('ggplot')\n",
    "import seaborn as sns"
   ]
  },
  {
   "cell_type": "markdown",
   "id": "ada219ae",
   "metadata": {},
   "source": [
    "## Exploring Observed Data for returned/unreturned patients and education "
   ]
  },
  {
   "cell_type": "markdown",
   "id": "1347cb0d",
   "metadata": {},
   "source": [
    "here, *'returned'* refers to the patients that were passed to our classificaion model and *'unreturned'* refers to the patients that were dropped during the preprocessing step. "
   ]
  },
  {
   "cell_type": "markdown",
   "id": "7546ccf7",
   "metadata": {},
   "source": [
    "#### setting up dataset"
   ]
  },
  {
   "cell_type": "code",
   "execution_count": 21,
   "id": "c8a11887",
   "metadata": {},
   "outputs": [],
   "source": [
    "def baseline_path(filename):\n",
    "    return \"C:/Users/leena/Niema_ML/data/Baseline-Data/\" + filename"
   ]
  },
  {
   "cell_type": "code",
   "execution_count": 20,
   "id": "45956a24",
   "metadata": {},
   "outputs": [],
   "source": [
    "#reading necessary datasets \n",
    "\n",
    "#demographics \n",
    "base_demo = pd.read_excel(baseline_path(\"demographics.xls\"))\n",
    "\n",
    "#returned \n",
    "returned = pd.DataFrame(pd.read_csv('ovrt.csv')['ID'])\n",
    "returned_ids = np.array(returned['ID'])\n",
    "\n",
    "#endpoints - all patients\n",
    "all_patients = pd.read_excel(\"C:/Users/leena/Niema_ML/data/endpoints.xls\")"
   ]
  },
  {
   "cell_type": "code",
   "execution_count": 23,
   "id": "9ec26392",
   "metadata": {},
   "outputs": [
    {
     "data": {
      "text/html": [
       "<div>\n",
       "<style scoped>\n",
       "    .dataframe tbody tr th:only-of-type {\n",
       "        vertical-align: middle;\n",
       "    }\n",
       "\n",
       "    .dataframe tbody tr th {\n",
       "        vertical-align: top;\n",
       "    }\n",
       "\n",
       "    .dataframe thead th {\n",
       "        text-align: right;\n",
       "    }\n",
       "</style>\n",
       "<table border=\"1\" class=\"dataframe\">\n",
       "  <thead>\n",
       "    <tr style=\"text-align: right;\">\n",
       "      <th></th>\n",
       "      <th>ID</th>\n",
       "      <th>age at dx</th>\n",
       "      <th>age at rand</th>\n",
       "      <th>Ethnicity</th>\n",
       "      <th>Education</th>\n",
       "      <th>Marital Status</th>\n",
       "      <th>Empl. Status</th>\n",
       "      <th>Yr Rand</th>\n",
       "    </tr>\n",
       "  </thead>\n",
       "  <tbody>\n",
       "    <tr>\n",
       "      <th>0</th>\n",
       "      <td>1002</td>\n",
       "      <td>38</td>\n",
       "      <td>39</td>\n",
       "      <td>1</td>\n",
       "      <td>5</td>\n",
       "      <td>2</td>\n",
       "      <td>1</td>\n",
       "      <td>1995</td>\n",
       "    </tr>\n",
       "    <tr>\n",
       "      <th>1</th>\n",
       "      <td>1003</td>\n",
       "      <td>51</td>\n",
       "      <td>53</td>\n",
       "      <td>1</td>\n",
       "      <td>8</td>\n",
       "      <td>2</td>\n",
       "      <td>1</td>\n",
       "      <td>1995</td>\n",
       "    </tr>\n",
       "    <tr>\n",
       "      <th>2</th>\n",
       "      <td>1005</td>\n",
       "      <td>50</td>\n",
       "      <td>54</td>\n",
       "      <td>3</td>\n",
       "      <td>5</td>\n",
       "      <td>2</td>\n",
       "      <td>1</td>\n",
       "      <td>1995</td>\n",
       "    </tr>\n",
       "    <tr>\n",
       "      <th>3</th>\n",
       "      <td>1007</td>\n",
       "      <td>53</td>\n",
       "      <td>54</td>\n",
       "      <td>1</td>\n",
       "      <td>9</td>\n",
       "      <td>2</td>\n",
       "      <td>1</td>\n",
       "      <td>1995</td>\n",
       "    </tr>\n",
       "    <tr>\n",
       "      <th>4</th>\n",
       "      <td>1008</td>\n",
       "      <td>47</td>\n",
       "      <td>48</td>\n",
       "      <td>1</td>\n",
       "      <td>7</td>\n",
       "      <td>2</td>\n",
       "      <td>0</td>\n",
       "      <td>1995</td>\n",
       "    </tr>\n",
       "    <tr>\n",
       "      <th>...</th>\n",
       "      <td>...</td>\n",
       "      <td>...</td>\n",
       "      <td>...</td>\n",
       "      <td>...</td>\n",
       "      <td>...</td>\n",
       "      <td>...</td>\n",
       "      <td>...</td>\n",
       "      <td>...</td>\n",
       "    </tr>\n",
       "    <tr>\n",
       "      <th>3083</th>\n",
       "      <td>13241</td>\n",
       "      <td>68</td>\n",
       "      <td>71</td>\n",
       "      <td>1</td>\n",
       "      <td>8</td>\n",
       "      <td>4</td>\n",
       "      <td>0</td>\n",
       "      <td>2000</td>\n",
       "    </tr>\n",
       "    <tr>\n",
       "      <th>3084</th>\n",
       "      <td>13242</td>\n",
       "      <td>50</td>\n",
       "      <td>52</td>\n",
       "      <td>1</td>\n",
       "      <td>8</td>\n",
       "      <td>2</td>\n",
       "      <td>1</td>\n",
       "      <td>2000</td>\n",
       "    </tr>\n",
       "    <tr>\n",
       "      <th>3085</th>\n",
       "      <td>13243</td>\n",
       "      <td>53</td>\n",
       "      <td>55</td>\n",
       "      <td>1</td>\n",
       "      <td>5</td>\n",
       "      <td>2</td>\n",
       "      <td>1</td>\n",
       "      <td>2000</td>\n",
       "    </tr>\n",
       "    <tr>\n",
       "      <th>3086</th>\n",
       "      <td>13244</td>\n",
       "      <td>48</td>\n",
       "      <td>49</td>\n",
       "      <td>1</td>\n",
       "      <td>7</td>\n",
       "      <td>2</td>\n",
       "      <td>2</td>\n",
       "      <td>2000</td>\n",
       "    </tr>\n",
       "    <tr>\n",
       "      <th>3087</th>\n",
       "      <td>13245</td>\n",
       "      <td>51</td>\n",
       "      <td>52</td>\n",
       "      <td>1</td>\n",
       "      <td>8</td>\n",
       "      <td>2</td>\n",
       "      <td>1</td>\n",
       "      <td>2000</td>\n",
       "    </tr>\n",
       "  </tbody>\n",
       "</table>\n",
       "<p>3088 rows × 8 columns</p>\n",
       "</div>"
      ],
      "text/plain": [
       "         ID  age at dx  age at rand  Ethnicity  Education  Marital Status  \\\n",
       "0      1002         38           39          1          5               2   \n",
       "1      1003         51           53          1          8               2   \n",
       "2      1005         50           54          3          5               2   \n",
       "3      1007         53           54          1          9               2   \n",
       "4      1008         47           48          1          7               2   \n",
       "...     ...        ...          ...        ...        ...             ...   \n",
       "3083  13241         68           71          1          8               4   \n",
       "3084  13242         50           52          1          8               2   \n",
       "3085  13243         53           55          1          5               2   \n",
       "3086  13244         48           49          1          7               2   \n",
       "3087  13245         51           52          1          8               2   \n",
       "\n",
       "      Empl. Status  Yr Rand  \n",
       "0                1     1995  \n",
       "1                1     1995  \n",
       "2                1     1995  \n",
       "3                1     1995  \n",
       "4                0     1995  \n",
       "...            ...      ...  \n",
       "3083             0     2000  \n",
       "3084             1     2000  \n",
       "3085             1     2000  \n",
       "3086             2     2000  \n",
       "3087             1     2000  \n",
       "\n",
       "[3088 rows x 8 columns]"
      ]
     },
     "execution_count": 23,
     "metadata": {},
     "output_type": "execute_result"
    }
   ],
   "source": [
    "base_demo"
   ]
  },
  {
   "cell_type": "code",
   "execution_count": 38,
   "id": "ed899538",
   "metadata": {},
   "outputs": [],
   "source": [
    "def get_status(id):\n",
    "    if id in returned_ids:\n",
    "        return 'returned'\n",
    "    else:\n",
    "        return 'unreturned'\n",
    "\n",
    "df = pd.DataFrame(base_demo.get(['ID', 'Education']))\n",
    "df = df.assign(Status=df['ID'].apply(get_status))\n",
    "\n",
    "#sanity checks \n",
    "# df[df['ID'] == 1256]\n",
    "\n",
    "df = df.get(['Education', 'Status'])"
   ]
  },
  {
   "cell_type": "code",
   "execution_count": 47,
   "id": "bea679f0",
   "metadata": {},
   "outputs": [
    {
     "data": {
      "text/html": [
       "<div>\n",
       "<style scoped>\n",
       "    .dataframe tbody tr th:only-of-type {\n",
       "        vertical-align: middle;\n",
       "    }\n",
       "\n",
       "    .dataframe tbody tr th {\n",
       "        vertical-align: top;\n",
       "    }\n",
       "\n",
       "    .dataframe thead th {\n",
       "        text-align: right;\n",
       "    }\n",
       "</style>\n",
       "<table border=\"1\" class=\"dataframe\">\n",
       "  <thead>\n",
       "    <tr style=\"text-align: right;\">\n",
       "      <th></th>\n",
       "      <th>Education</th>\n",
       "      <th>Status</th>\n",
       "    </tr>\n",
       "  </thead>\n",
       "  <tbody>\n",
       "    <tr>\n",
       "      <th>0</th>\n",
       "      <td>5</td>\n",
       "      <td>unreturned</td>\n",
       "    </tr>\n",
       "    <tr>\n",
       "      <th>1</th>\n",
       "      <td>8</td>\n",
       "      <td>unreturned</td>\n",
       "    </tr>\n",
       "    <tr>\n",
       "      <th>2</th>\n",
       "      <td>5</td>\n",
       "      <td>unreturned</td>\n",
       "    </tr>\n",
       "    <tr>\n",
       "      <th>3</th>\n",
       "      <td>9</td>\n",
       "      <td>unreturned</td>\n",
       "    </tr>\n",
       "    <tr>\n",
       "      <th>4</th>\n",
       "      <td>7</td>\n",
       "      <td>unreturned</td>\n",
       "    </tr>\n",
       "    <tr>\n",
       "      <th>...</th>\n",
       "      <td>...</td>\n",
       "      <td>...</td>\n",
       "    </tr>\n",
       "    <tr>\n",
       "      <th>3083</th>\n",
       "      <td>8</td>\n",
       "      <td>returned</td>\n",
       "    </tr>\n",
       "    <tr>\n",
       "      <th>3084</th>\n",
       "      <td>8</td>\n",
       "      <td>returned</td>\n",
       "    </tr>\n",
       "    <tr>\n",
       "      <th>3085</th>\n",
       "      <td>5</td>\n",
       "      <td>returned</td>\n",
       "    </tr>\n",
       "    <tr>\n",
       "      <th>3086</th>\n",
       "      <td>7</td>\n",
       "      <td>unreturned</td>\n",
       "    </tr>\n",
       "    <tr>\n",
       "      <th>3087</th>\n",
       "      <td>8</td>\n",
       "      <td>returned</td>\n",
       "    </tr>\n",
       "  </tbody>\n",
       "</table>\n",
       "<p>3088 rows × 2 columns</p>\n",
       "</div>"
      ],
      "text/plain": [
       "      Education      Status\n",
       "0             5  unreturned\n",
       "1             8  unreturned\n",
       "2             5  unreturned\n",
       "3             9  unreturned\n",
       "4             7  unreturned\n",
       "...         ...         ...\n",
       "3083          8    returned\n",
       "3084          8    returned\n",
       "3085          5    returned\n",
       "3086          7  unreturned\n",
       "3087          8    returned\n",
       "\n",
       "[3088 rows x 2 columns]"
      ]
     },
     "execution_count": 47,
     "metadata": {},
     "output_type": "execute_result"
    }
   ],
   "source": [
    "df"
   ]
  },
  {
   "cell_type": "code",
   "execution_count": 51,
   "id": "bc114ec0",
   "metadata": {},
   "outputs": [
    {
     "name": "stdout",
     "output_type": "stream",
     "text": [
      "Status     returned  unreturned\n",
      "Education                      \n",
      "5                91         288\n",
      "6                18          69\n",
      "7               185         763\n",
      "8               199         682\n",
      "9               162         631\n"
     ]
    },
    {
     "data": {
      "text/html": [
       "<div>\n",
       "<style scoped>\n",
       "    .dataframe tbody tr th:only-of-type {\n",
       "        vertical-align: middle;\n",
       "    }\n",
       "\n",
       "    .dataframe tbody tr th {\n",
       "        vertical-align: top;\n",
       "    }\n",
       "\n",
       "    .dataframe thead th {\n",
       "        text-align: right;\n",
       "    }\n",
       "</style>\n",
       "<table border=\"1\" class=\"dataframe\">\n",
       "  <thead>\n",
       "    <tr style=\"text-align: right;\">\n",
       "      <th>Status</th>\n",
       "      <th>returned</th>\n",
       "      <th>unreturned</th>\n",
       "    </tr>\n",
       "    <tr>\n",
       "      <th>Education</th>\n",
       "      <th></th>\n",
       "      <th></th>\n",
       "    </tr>\n",
       "  </thead>\n",
       "  <tbody>\n",
       "    <tr>\n",
       "      <th>5</th>\n",
       "      <td>0.138931</td>\n",
       "      <td>0.118372</td>\n",
       "    </tr>\n",
       "    <tr>\n",
       "      <th>6</th>\n",
       "      <td>0.027481</td>\n",
       "      <td>0.028360</td>\n",
       "    </tr>\n",
       "    <tr>\n",
       "      <th>7</th>\n",
       "      <td>0.282443</td>\n",
       "      <td>0.313605</td>\n",
       "    </tr>\n",
       "    <tr>\n",
       "      <th>8</th>\n",
       "      <td>0.303817</td>\n",
       "      <td>0.280312</td>\n",
       "    </tr>\n",
       "    <tr>\n",
       "      <th>9</th>\n",
       "      <td>0.247328</td>\n",
       "      <td>0.259351</td>\n",
       "    </tr>\n",
       "  </tbody>\n",
       "</table>\n",
       "</div>"
      ],
      "text/plain": [
       "Status     returned  unreturned\n",
       "Education                      \n",
       "5          0.138931    0.118372\n",
       "6          0.027481    0.028360\n",
       "7          0.282443    0.313605\n",
       "8          0.303817    0.280312\n",
       "9          0.247328    0.259351"
      ]
     },
     "execution_count": 51,
     "metadata": {},
     "output_type": "execute_result"
    }
   ],
   "source": [
    "#proportions of each - since there are more unreturned than returned \n",
    "table = df.pivot_table(index='Education', columns='Status', aggfunc='size')\n",
    "print(table)\n",
    "prop_table = table / table.sum()\n",
    "prop_table"
   ]
  },
  {
   "cell_type": "code",
   "execution_count": 66,
   "id": "b5fd07bf",
   "metadata": {},
   "outputs": [
    {
     "name": "stdout",
     "output_type": "stream",
     "text": [
      "0.13893129770992366\n",
      "0.11837237977805179\n",
      "1.0\n",
      "1.0\n"
     ]
    }
   ],
   "source": [
    "#sanity checks \n",
    "    #proportion for education 5, returned \n",
    "print(df[(df['Education'] == 5) & (df['Status'] == 'returned')].shape[0] / (df[df['Status'] == 'returned'].shape[0]))\n",
    "\n",
    "     #proportion education 5, unreturned\n",
    "print(df[(df['Education'] == 5) & (df['Status'] == 'unreturned')].shape[0] / (df[df['Status'] == 'unreturned'].shape[0]))\n",
    "\n",
    "print(prop_table.get('returned').sum()) # expect 1 \n",
    "print(prop_table.get('unreturned').sum()) # expect 1"
   ]
  },
  {
   "cell_type": "markdown",
   "id": "530ee807",
   "metadata": {},
   "source": [
    "#### visualizing observed data"
   ]
  },
  {
   "cell_type": "code",
   "execution_count": 74,
   "id": "d3db7ea4",
   "metadata": {},
   "outputs": [
    {
     "data": {
      "image/png": "[encoded data removed]",
      "text/plain": [
       "<Figure size 640x480 with 1 Axes>"
      ]
     },
     "metadata": {},
     "output_type": "display_data"
    }
   ],
   "source": [
    "prop_table.plot(kind='barh', title='Proportion of returned/unreturned Patients with Education')\n",
    "plt.show()"
   ]
  },
  {
   "cell_type": "markdown",
   "id": "caeac3c7",
   "metadata": {},
   "source": [
    "#### calculating total variation distance (TVD) of observed data \n",
    "- tvd = sum of abs diff between each proportion, all divided by 2"
   ]
  },
  {
   "cell_type": "code",
   "execution_count": 84,
   "id": "bb89235a",
   "metadata": {},
   "outputs": [
    {
     "name": "stdout",
     "output_type": "stream",
     "text": [
      "observed tvd: 0.04406334026725399\n"
     ]
    }
   ],
   "source": [
    "prop_table = prop_table.assign(abs_diff=abs(prop_table['returned'] - prop_table['unreturned']))\n",
    "observed_tvd = prop_table['abs_diff'].sum() / 2\n",
    "print(f'observed tvd: {observed_tvd}')"
   ]
  },
  {
   "cell_type": "markdown",
   "id": "718857de",
   "metadata": {},
   "source": [
    "## Permutation Test: unreturned/returned patients and education"
   ]
  },
  {
   "cell_type": "markdown",
   "id": "ec915b47",
   "metadata": {},
   "source": [
    "**Question:** Are the proportional differences between unreturned and returned patients in education statistically significant?"
   ]
  },
  {
   "cell_type": "markdown",
   "id": "d3bd48a4",
   "metadata": {},
   "source": [
    "**Null Hypothesis**: The distribution of education amongst unreturned/returned patients come from the same distribution, and any noticeable differences from our sample was due to chance. \n",
    "\n",
    "**Alternative Hypothesis** The distribution of education amonst unreturned/returned patients did **not** come from the same distribution, so the differences from our sample was not due to chance. "
   ]
  },
  {
   "cell_type": "markdown",
   "id": "b12c1648",
   "metadata": {},
   "source": [
    "### test statistic preparation\n",
    "we will be calculating total variation distance (TVD)\n",
    "\n",
    "recall observed TVD: "
   ]
  },
  {
   "cell_type": "code",
   "execution_count": 85,
   "id": "eeb9503b",
   "metadata": {},
   "outputs": [
    {
     "data": {
      "text/plain": [
       "0.04406334026725399"
      ]
     },
     "execution_count": 85,
     "metadata": {},
     "output_type": "execute_result"
    }
   ],
   "source": [
    "observed_tvd"
   ]
  },
  {
   "cell_type": "code",
   "execution_count": 102,
   "id": "7f2f639b",
   "metadata": {},
   "outputs": [],
   "source": [
    "def tvd(shuffled_df): \n",
    "    \"\"\"takes df with status col SHUFFLED, returns tvd\"\"\"\n",
    "    # getting proportion \n",
    "    table = shuffled_df.pivot_table(index='Education', columns='Shuffled', aggfunc='size')\n",
    "    prop_table = table / table.sum()\n",
    "    \n",
    "    # adding abs diff col, calculating tvd\n",
    "    prop_table = prop_table.assign(abs_diff=abs(prop_table['returned'] - prop_table['unreturned']))\n",
    "    return prop_table['abs_diff'].sum() / 2"
   ]
  },
  {
   "cell_type": "markdown",
   "id": "2f2caea3",
   "metadata": {},
   "source": [
    "### running simulations"
   ]
  },
  {
   "cell_type": "markdown",
   "id": "47b22a18",
   "metadata": {},
   "source": [
    "**Procedures:**\n",
    "1. Shuffle `status` column in `df`\n",
    "2. Compute TVD for new shuffled df \n",
    "3. Repeat (1-2) 10000 times, storing each TVD "
   ]
  },
  {
   "cell_type": "code",
   "execution_count": 104,
   "id": "b758ae71",
   "metadata": {},
   "outputs": [
    {
     "data": {
      "text/plain": [
       "array([0.06844815, 0.05491916, 0.04278825, ..., 0.02802873, 0.03396492,\n",
       "       0.04083671])"
      ]
     },
     "execution_count": 104,
     "metadata": {},
     "output_type": "execute_result"
    }
   ],
   "source": [
    "simulated_tvds = np.array([])\n",
    "\n",
    "for i in np.arange(10000):\n",
    "    #shuffle columns \n",
    "    shuffled = df.assign(Shuffled=np.random.permutation(df['Status']))\n",
    "    #calculate tvd\n",
    "    new_tvd = tvd(shuffled.get(['Education', 'Shuffled']))\n",
    "    #append\n",
    "    simulated_tvds = np.append(simulated_tvds, new_tvd)\n",
    "\n",
    "simulated_tvds"
   ]
  },
  {
   "cell_type": "markdown",
   "id": "bb8673d6",
   "metadata": {},
   "source": [
    "### visualizing simulated tvds, calculating p-val"
   ]
  },
  {
   "cell_type": "code",
   "execution_count": 108,
   "id": "66e8b03c",
   "metadata": {},
   "outputs": [
    {
     "data": {
      "image/png": "[encoded data removed]",
      "text/plain": [
       "<Figure size 1000x500 with 1 Axes>"
      ]
     },
     "metadata": {},
     "output_type": "display_data"
    }
   ],
   "source": [
    "pd.DataFrame().assign(simulated_tvds=simulated_tvds).plot(kind='hist', density=True, ec='w', figsize=(10, 5),\\\n",
    "                                                         title='Simulated TVD Distribution')\n",
    "plt.axvline(x=observed_tvd, color='black', linewidth=4, label='observed TVD')\n",
    "plt.legend()\n",
    "plt.show()"
   ]
  },
  {
   "cell_type": "code",
   "execution_count": 116,
   "id": "86854bc3",
   "metadata": {},
   "outputs": [
    {
     "data": {
      "text/plain": [
       "0.1758"
      ]
     },
     "execution_count": 116,
     "metadata": {},
     "output_type": "execute_result"
    }
   ],
   "source": [
    "p_val = np.count_nonzero(simulated_tvds >= observed_tvd) / len(simulated_tvds)\n",
    "p_val"
   ]
  },
  {
   "cell_type": "markdown",
   "id": "3c5716c1",
   "metadata": {},
   "source": [
    "#### interpretation/conclusion"
   ]
  },
  {
   "cell_type": "markdown",
   "id": "5b2596b9",
   "metadata": {},
   "source": [
    "Since p-val > 0.1, we have very weak evidence against the null hypothesis. So, we **reject** the null hypothesis, suggesting that is is likely that education amongst unreturned and returned patients came from the same distribution."
   ]
  }
 ],
 "metadata": {
  "kernelspec": {
   "display_name": "Python 3 (ipykernel)",
   "language": "python",
   "name": "python3"
  },
  "language_info": {
   "codemirror_mode": {
    "name": "ipython",
    "version": 3
   },
   "file_extension": ".py",
   "mimetype": "text/x-python",
   "name": "python",
   "nbconvert_exporter": "python",
   "pygments_lexer": "ipython3",
   "version": "3.10.11"
  }
 },
 "nbformat": 4,
 "nbformat_minor": 5
}
